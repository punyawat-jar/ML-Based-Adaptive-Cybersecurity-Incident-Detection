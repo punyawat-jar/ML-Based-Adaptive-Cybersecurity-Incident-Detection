{
 "cells": [
  {
   "cell_type": "code",
   "execution_count": 1,
   "id": "be9db59e-ba63-4c61-b5ad-bfbae293dcff",
   "metadata": {},
   "outputs": [],
   "source": [
    "import pandas as pd\n",
    "import numpy as np\n",
    "import os\n",
    "os.chdir('./')"
   ]
  },
  {
   "cell_type": "code",
   "execution_count": 3,
   "id": "bd18aabe-f381-4243-a128-76969367a6d7",
   "metadata": {},
   "outputs": [],
   "source": [
    "df = pd.read_csv('/home/s2316002/capstone_project/cic/dataset/label_dataset/BENIGN.csv')"
   ]
  },
  {
   "cell_type": "code",
   "execution_count": 4,
   "id": "5337b6d8-4691-4ab1-9a52-9edbc9431529",
   "metadata": {},
   "outputs": [
    {
     "data": {
      "text/plain": [
       "label\n",
       "BENIGN    12832915\n",
       "Name: count, dtype: int64"
      ]
     },
     "execution_count": 4,
     "metadata": {},
     "output_type": "execute_result"
    }
   ],
   "source": [
    "df.label.value_counts()"
   ]
  },
  {
   "cell_type": "code",
   "execution_count": null,
   "id": "56189774-19bc-4bbc-a4d1-22c904f8497b",
   "metadata": {},
   "outputs": [],
   "source": []
  }
 ],
 "metadata": {
  "kernelspec": {
   "display_name": "Python 3 (ipykernel)",
   "language": "python",
   "name": "python3"
  }
 },
 "nbformat": 4,
 "nbformat_minor": 5
}
