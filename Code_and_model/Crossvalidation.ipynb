{
 "cells": [
  {
   "cell_type": "code",
   "execution_count": 39,
   "id": "027b26fe-1ef3-4e42-b272-55f78db6ca97",
   "metadata": {},
   "outputs": [],
   "source": [
    "import pandas as pd \n",
    "from sklearn.model_selection import KFold, cross_val_score\n",
    "from sklearn.ensemble import RandomForestClassifier\n",
    "from sklearn.tree import DecisionTreeClassifier"
   ]
  },
  {
   "cell_type": "code",
   "execution_count": 41,
   "id": "652f5843-dccc-4239-ab1e-55d293a127ff",
   "metadata": {},
   "outputs": [],
   "source": [
    "DT = DecisionTreeClassifier()\n",
    "RF = RandomForestClassifier()\n",
    "k_folds = KFold(n_splits = 5)\n",
    "\n"
   ]
  },
  {
   "cell_type": "code",
   "execution_count": 42,
   "id": "136a7443-e390-4508-9a97-b4e4ea8d48b7",
   "metadata": {},
   "outputs": [],
   "source": [
    "KDD_normal = pd.read_csv('./kdd/dataset/normal_dataset/ipsweep.csv')"
   ]
  },
  {
   "cell_type": "code",
   "execution_count": 43,
   "id": "62d30c2d-237b-4f30-a24d-fc7ffa5535ad",
   "metadata": {},
   "outputs": [],
   "source": [
    "KDD_mix = pd.read_csv('./kdd/dataset/mix_dataset/ipsweep.csv')"
   ]
  },
  {
   "cell_type": "code",
   "execution_count": 44,
   "id": "bf4e38df-283e-4709-b70e-5d448c1212fb",
   "metadata": {
    "scrolled": true
   },
   "outputs": [],
   "source": [
    "CIC_normal = pd.read_csv('./cic/dataset/normal_dataset/DDoS.csv')"
   ]
  },
  {
   "cell_type": "code",
   "execution_count": 45,
   "id": "c0c8c32b-dd22-4f14-a722-82ff15626a3c",
   "metadata": {},
   "outputs": [],
   "source": [
    "CIC_mix = pd.read_csv('./cic/dataset/mix_dataset/DDoS.csv')"
   ]
  },
  {
   "cell_type": "code",
   "execution_count": 46,
   "id": "67b24afa-0582-404f-adb6-a95e954dbf94",
   "metadata": {},
   "outputs": [],
   "source": [
    "data = [KDD_normal, KDD_mix, CIC_normal, CIC_mix]"
   ]
  },
  {
   "cell_type": "code",
   "execution_count": 47,
   "id": "1abfc096-bd33-4474-bf10-07284561b43e",
   "metadata": {},
   "outputs": [
    {
     "name": "stdout",
     "output_type": "stream",
     "text": [
      "dataDT0: 0.9982628037773255\n",
      "dataRF0: 0.9974682701051206\n",
      "dataDT1: 0.9981820047648486\n",
      "dataRF1: 0.997879003027721\n",
      "dataDT2: 0.9674759316297085\n",
      "dataRF2: 0.9721257128889856\n",
      "dataDT3: 0.9672386509998709\n",
      "dataRF3: 0.9708325156946568\n"
     ]
    }
   ],
   "source": [
    "for i, dataset in enumerate(data):\n",
    "    X = dataset.drop('label', axis =1)\n",
    "    y = dataset['label']\n",
    "    scores_DT = cross_val_score(DT, X, y, cv = k_folds)\n",
    "    scores_RF = cross_val_score(RF, X, y, cv = k_folds)\n",
    "\n",
    "    print(f'dataDT{i}: {scores_DT.mean()}')\n",
    "    print(f'dataRF{i}: {scores_RF.mean()}')"
   ]
  },
  {
   "cell_type": "code",
   "execution_count": 26,
   "id": "6037cb35-d1bc-4585-b0d3-14835a34976b",
   "metadata": {},
   "outputs": [
    {
     "data": {
      "text/plain": [
       "0          0\n",
       "1          0\n",
       "2          0\n",
       "3          0\n",
       "4          0\n",
       "          ..\n",
       "2827871    0\n",
       "2827872    0\n",
       "2827873    0\n",
       "2827874    0\n",
       "2827875    0\n",
       "Name: label, Length: 2827876, dtype: int64"
      ]
     },
     "execution_count": 26,
     "metadata": {},
     "output_type": "execute_result"
    }
   ],
   "source": [
    "KDD_normal: 0.997\n",
    "KDD_mix: 0.998\n",
    "\n",
    "CIC_normal: 0.972\n",
    "CIC_mix: 0.971"
   ]
  },
  {
   "cell_type": "code",
   "execution_count": null,
   "id": "5b2580fd-f086-4b42-9fbb-e750918eb95c",
   "metadata": {},
   "outputs": [],
   "source": []
  }
 ],
 "metadata": {
  "kernelspec": {
   "display_name": "Python 3 (ipykernel)",
   "language": "python",
   "name": "python3"
  },
  "language_info": {
   "codemirror_mode": {
    "name": "ipython",
    "version": 3
   },
   "file_extension": ".py",
   "mimetype": "text/x-python",
   "name": "python",
   "nbconvert_exporter": "python",
   "pygments_lexer": "ipython3",
   "version": "3.10.13"
  }
 },
 "nbformat": 4,
 "nbformat_minor": 5
}
