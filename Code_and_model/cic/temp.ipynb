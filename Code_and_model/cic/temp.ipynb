{
 "cells": [
  {
   "cell_type": "code",
   "execution_count": 1,
   "id": "aa8641a3-25c7-4b0e-a814-1f04a10c3849",
   "metadata": {},
   "outputs": [],
   "source": [
    "import pandas as pd"
   ]
  },
  {
   "cell_type": "code",
   "execution_count": 2,
   "id": "127fcdac-3d3d-41e9-82f4-bd4eddf7154e",
   "metadata": {},
   "outputs": [],
   "source": [
    "df = pd.read_csv('./mix_dataset/DoS Hulk.csv')"
   ]
  },
  {
   "cell_type": "code",
   "execution_count": 13,
   "id": "e9737016-2c3d-4f87-9c73-cceb238d791d",
   "metadata": {},
   "outputs": [
    {
     "data": {
      "text/html": [
       "<div>\n",
       "<style scoped>\n",
       "    .dataframe tbody tr th:only-of-type {\n",
       "        vertical-align: middle;\n",
       "    }\n",
       "\n",
       "    .dataframe tbody tr th {\n",
       "        vertical-align: top;\n",
       "    }\n",
       "\n",
       "    .dataframe thead th {\n",
       "        text-align: right;\n",
       "    }\n",
       "</style>\n",
       "<table border=\"1\" class=\"dataframe\">\n",
       "  <thead>\n",
       "    <tr style=\"text-align: right;\">\n",
       "      <th></th>\n",
       "      <th>source_port</th>\n",
       "      <th>protocol</th>\n",
       "      <th>flow_duration</th>\n",
       "      <th>total_fwd_packets</th>\n",
       "      <th>total_backward_packets</th>\n",
       "      <th>total_length_of_fwd_packets</th>\n",
       "      <th>total_length_of_bwd_packets</th>\n",
       "      <th>fwd_packet_length_max</th>\n",
       "      <th>fwd_packet_length_min</th>\n",
       "      <th>fwd_packet_length_mean</th>\n",
       "      <th>...</th>\n",
       "      <th>active_max</th>\n",
       "      <th>active_min</th>\n",
       "      <th>idle_mean</th>\n",
       "      <th>idle_std</th>\n",
       "      <th>idle_max</th>\n",
       "      <th>idle_min</th>\n",
       "      <th>label</th>\n",
       "      <th>destination_port_priority_1.0</th>\n",
       "      <th>destination_port_priority_2.0</th>\n",
       "      <th>destination_port_priority_3.0</th>\n",
       "    </tr>\n",
       "  </thead>\n",
       "  <tbody>\n",
       "    <tr>\n",
       "      <th>count</th>\n",
       "      <td>2.827876e+06</td>\n",
       "      <td>2.827876e+06</td>\n",
       "      <td>2.827876e+06</td>\n",
       "      <td>2.827876e+06</td>\n",
       "      <td>2.827876e+06</td>\n",
       "      <td>2.827876e+06</td>\n",
       "      <td>2.827876e+06</td>\n",
       "      <td>2.827876e+06</td>\n",
       "      <td>2.827876e+06</td>\n",
       "      <td>2.827876e+06</td>\n",
       "      <td>...</td>\n",
       "      <td>2.827876e+06</td>\n",
       "      <td>2.827876e+06</td>\n",
       "      <td>2.827876e+06</td>\n",
       "      <td>2.827876e+06</td>\n",
       "      <td>2.827876e+06</td>\n",
       "      <td>2.827876e+06</td>\n",
       "      <td>2.827876e+06</td>\n",
       "      <td>2.827876e+06</td>\n",
       "      <td>2.827876e+06</td>\n",
       "      <td>2.827876e+06</td>\n",
       "    </tr>\n",
       "    <tr>\n",
       "      <th>mean</th>\n",
       "      <td>4.113793e+04</td>\n",
       "      <td>9.884209e+00</td>\n",
       "      <td>1.480065e+07</td>\n",
       "      <td>9.368972e+00</td>\n",
       "      <td>1.040396e+01</td>\n",
       "      <td>5.498522e+02</td>\n",
       "      <td>1.617903e+04</td>\n",
       "      <td>2.078044e+02</td>\n",
       "      <td>1.872929e+01</td>\n",
       "      <td>5.825628e+01</td>\n",
       "      <td>...</td>\n",
       "      <td>1.533378e+05</td>\n",
       "      <td>5.835492e+04</td>\n",
       "      <td>8.324468e+06</td>\n",
       "      <td>5.043548e+05</td>\n",
       "      <td>8.704568e+06</td>\n",
       "      <td>7.928061e+06</td>\n",
       "      <td>8.137698e-02</td>\n",
       "      <td>7.782028e-01</td>\n",
       "      <td>1.126931e-01</td>\n",
       "      <td>1.091041e-01</td>\n",
       "    </tr>\n",
       "    <tr>\n",
       "      <th>std</th>\n",
       "      <td>2.229161e+04</td>\n",
       "      <td>5.263117e+00</td>\n",
       "      <td>3.366750e+07</td>\n",
       "      <td>7.500527e+02</td>\n",
       "      <td>9.978937e+02</td>\n",
       "      <td>9.998639e+03</td>\n",
       "      <td>2.264235e+06</td>\n",
       "      <td>7.175183e+02</td>\n",
       "      <td>6.035533e+01</td>\n",
       "      <td>1.861733e+02</td>\n",
       "      <td>...</td>\n",
       "      <td>1.026333e+06</td>\n",
       "      <td>5.773818e+05</td>\n",
       "      <td>2.364057e+07</td>\n",
       "      <td>4.605289e+06</td>\n",
       "      <td>2.437766e+07</td>\n",
       "      <td>2.337390e+07</td>\n",
       "      <td>2.734132e-01</td>\n",
       "      <td>4.154555e-01</td>\n",
       "      <td>3.162173e-01</td>\n",
       "      <td>3.117699e-01</td>\n",
       "    </tr>\n",
       "    <tr>\n",
       "      <th>min</th>\n",
       "      <td>0.000000e+00</td>\n",
       "      <td>0.000000e+00</td>\n",
       "      <td>-1.300000e+01</td>\n",
       "      <td>1.000000e+00</td>\n",
       "      <td>0.000000e+00</td>\n",
       "      <td>0.000000e+00</td>\n",
       "      <td>0.000000e+00</td>\n",
       "      <td>0.000000e+00</td>\n",
       "      <td>0.000000e+00</td>\n",
       "      <td>0.000000e+00</td>\n",
       "      <td>...</td>\n",
       "      <td>0.000000e+00</td>\n",
       "      <td>0.000000e+00</td>\n",
       "      <td>0.000000e+00</td>\n",
       "      <td>0.000000e+00</td>\n",
       "      <td>0.000000e+00</td>\n",
       "      <td>0.000000e+00</td>\n",
       "      <td>0.000000e+00</td>\n",
       "      <td>0.000000e+00</td>\n",
       "      <td>0.000000e+00</td>\n",
       "      <td>0.000000e+00</td>\n",
       "    </tr>\n",
       "    <tr>\n",
       "      <th>25%</th>\n",
       "      <td>3.278400e+04</td>\n",
       "      <td>6.000000e+00</td>\n",
       "      <td>1.550000e+02</td>\n",
       "      <td>2.000000e+00</td>\n",
       "      <td>1.000000e+00</td>\n",
       "      <td>1.200000e+01</td>\n",
       "      <td>2.000000e+00</td>\n",
       "      <td>6.000000e+00</td>\n",
       "      <td>0.000000e+00</td>\n",
       "      <td>6.000000e+00</td>\n",
       "      <td>...</td>\n",
       "      <td>0.000000e+00</td>\n",
       "      <td>0.000000e+00</td>\n",
       "      <td>0.000000e+00</td>\n",
       "      <td>0.000000e+00</td>\n",
       "      <td>0.000000e+00</td>\n",
       "      <td>0.000000e+00</td>\n",
       "      <td>0.000000e+00</td>\n",
       "      <td>1.000000e+00</td>\n",
       "      <td>0.000000e+00</td>\n",
       "      <td>0.000000e+00</td>\n",
       "    </tr>\n",
       "    <tr>\n",
       "      <th>50%</th>\n",
       "      <td>5.094900e+04</td>\n",
       "      <td>6.000000e+00</td>\n",
       "      <td>3.133800e+04</td>\n",
       "      <td>2.000000e+00</td>\n",
       "      <td>2.000000e+00</td>\n",
       "      <td>6.200000e+01</td>\n",
       "      <td>1.230000e+02</td>\n",
       "      <td>3.700000e+01</td>\n",
       "      <td>2.000000e+00</td>\n",
       "      <td>3.400000e+01</td>\n",
       "      <td>...</td>\n",
       "      <td>0.000000e+00</td>\n",
       "      <td>0.000000e+00</td>\n",
       "      <td>0.000000e+00</td>\n",
       "      <td>0.000000e+00</td>\n",
       "      <td>0.000000e+00</td>\n",
       "      <td>0.000000e+00</td>\n",
       "      <td>0.000000e+00</td>\n",
       "      <td>1.000000e+00</td>\n",
       "      <td>0.000000e+00</td>\n",
       "      <td>0.000000e+00</td>\n",
       "    </tr>\n",
       "    <tr>\n",
       "      <th>75%</th>\n",
       "      <td>5.842000e+04</td>\n",
       "      <td>1.700000e+01</td>\n",
       "      <td>3.239368e+06</td>\n",
       "      <td>5.000000e+00</td>\n",
       "      <td>4.000000e+00</td>\n",
       "      <td>1.880000e+02</td>\n",
       "      <td>4.840000e+02</td>\n",
       "      <td>8.100000e+01</td>\n",
       "      <td>3.600000e+01</td>\n",
       "      <td>5.000000e+01</td>\n",
       "      <td>...</td>\n",
       "      <td>0.000000e+00</td>\n",
       "      <td>0.000000e+00</td>\n",
       "      <td>0.000000e+00</td>\n",
       "      <td>0.000000e+00</td>\n",
       "      <td>0.000000e+00</td>\n",
       "      <td>0.000000e+00</td>\n",
       "      <td>0.000000e+00</td>\n",
       "      <td>1.000000e+00</td>\n",
       "      <td>0.000000e+00</td>\n",
       "      <td>0.000000e+00</td>\n",
       "    </tr>\n",
       "    <tr>\n",
       "      <th>max</th>\n",
       "      <td>6.553500e+04</td>\n",
       "      <td>1.700000e+01</td>\n",
       "      <td>1.200000e+08</td>\n",
       "      <td>2.197590e+05</td>\n",
       "      <td>2.919220e+05</td>\n",
       "      <td>1.290000e+07</td>\n",
       "      <td>6.554530e+08</td>\n",
       "      <td>2.482000e+04</td>\n",
       "      <td>2.325000e+03</td>\n",
       "      <td>5.940857e+03</td>\n",
       "      <td>...</td>\n",
       "      <td>1.100000e+08</td>\n",
       "      <td>1.100000e+08</td>\n",
       "      <td>1.200000e+08</td>\n",
       "      <td>7.690000e+07</td>\n",
       "      <td>1.200000e+08</td>\n",
       "      <td>1.200000e+08</td>\n",
       "      <td>1.000000e+00</td>\n",
       "      <td>1.000000e+00</td>\n",
       "      <td>1.000000e+00</td>\n",
       "      <td>1.000000e+00</td>\n",
       "    </tr>\n",
       "  </tbody>\n",
       "</table>\n",
       "<p>8 rows × 83 columns</p>\n",
       "</div>"
      ],
      "text/plain": [
       "        source_port      protocol  flow_duration  total_fwd_packets  \\\n",
       "count  2.827876e+06  2.827876e+06   2.827876e+06       2.827876e+06   \n",
       "mean   4.113793e+04  9.884209e+00   1.480065e+07       9.368972e+00   \n",
       "std    2.229161e+04  5.263117e+00   3.366750e+07       7.500527e+02   \n",
       "min    0.000000e+00  0.000000e+00  -1.300000e+01       1.000000e+00   \n",
       "25%    3.278400e+04  6.000000e+00   1.550000e+02       2.000000e+00   \n",
       "50%    5.094900e+04  6.000000e+00   3.133800e+04       2.000000e+00   \n",
       "75%    5.842000e+04  1.700000e+01   3.239368e+06       5.000000e+00   \n",
       "max    6.553500e+04  1.700000e+01   1.200000e+08       2.197590e+05   \n",
       "\n",
       "       total_backward_packets  total_length_of_fwd_packets  \\\n",
       "count            2.827876e+06                 2.827876e+06   \n",
       "mean             1.040396e+01                 5.498522e+02   \n",
       "std              9.978937e+02                 9.998639e+03   \n",
       "min              0.000000e+00                 0.000000e+00   \n",
       "25%              1.000000e+00                 1.200000e+01   \n",
       "50%              2.000000e+00                 6.200000e+01   \n",
       "75%              4.000000e+00                 1.880000e+02   \n",
       "max              2.919220e+05                 1.290000e+07   \n",
       "\n",
       "       total_length_of_bwd_packets  fwd_packet_length_max  \\\n",
       "count                 2.827876e+06           2.827876e+06   \n",
       "mean                  1.617903e+04           2.078044e+02   \n",
       "std                   2.264235e+06           7.175183e+02   \n",
       "min                   0.000000e+00           0.000000e+00   \n",
       "25%                   2.000000e+00           6.000000e+00   \n",
       "50%                   1.230000e+02           3.700000e+01   \n",
       "75%                   4.840000e+02           8.100000e+01   \n",
       "max                   6.554530e+08           2.482000e+04   \n",
       "\n",
       "       fwd_packet_length_min  fwd_packet_length_mean  ...    active_max  \\\n",
       "count           2.827876e+06            2.827876e+06  ...  2.827876e+06   \n",
       "mean            1.872929e+01            5.825628e+01  ...  1.533378e+05   \n",
       "std             6.035533e+01            1.861733e+02  ...  1.026333e+06   \n",
       "min             0.000000e+00            0.000000e+00  ...  0.000000e+00   \n",
       "25%             0.000000e+00            6.000000e+00  ...  0.000000e+00   \n",
       "50%             2.000000e+00            3.400000e+01  ...  0.000000e+00   \n",
       "75%             3.600000e+01            5.000000e+01  ...  0.000000e+00   \n",
       "max             2.325000e+03            5.940857e+03  ...  1.100000e+08   \n",
       "\n",
       "         active_min     idle_mean      idle_std      idle_max      idle_min  \\\n",
       "count  2.827876e+06  2.827876e+06  2.827876e+06  2.827876e+06  2.827876e+06   \n",
       "mean   5.835492e+04  8.324468e+06  5.043548e+05  8.704568e+06  7.928061e+06   \n",
       "std    5.773818e+05  2.364057e+07  4.605289e+06  2.437766e+07  2.337390e+07   \n",
       "min    0.000000e+00  0.000000e+00  0.000000e+00  0.000000e+00  0.000000e+00   \n",
       "25%    0.000000e+00  0.000000e+00  0.000000e+00  0.000000e+00  0.000000e+00   \n",
       "50%    0.000000e+00  0.000000e+00  0.000000e+00  0.000000e+00  0.000000e+00   \n",
       "75%    0.000000e+00  0.000000e+00  0.000000e+00  0.000000e+00  0.000000e+00   \n",
       "max    1.100000e+08  1.200000e+08  7.690000e+07  1.200000e+08  1.200000e+08   \n",
       "\n",
       "              label  destination_port_priority_1.0  \\\n",
       "count  2.827876e+06                   2.827876e+06   \n",
       "mean   8.137698e-02                   7.782028e-01   \n",
       "std    2.734132e-01                   4.154555e-01   \n",
       "min    0.000000e+00                   0.000000e+00   \n",
       "25%    0.000000e+00                   1.000000e+00   \n",
       "50%    0.000000e+00                   1.000000e+00   \n",
       "75%    0.000000e+00                   1.000000e+00   \n",
       "max    1.000000e+00                   1.000000e+00   \n",
       "\n",
       "       destination_port_priority_2.0  destination_port_priority_3.0  \n",
       "count                   2.827876e+06                   2.827876e+06  \n",
       "mean                    1.126931e-01                   1.091041e-01  \n",
       "std                     3.162173e-01                   3.117699e-01  \n",
       "min                     0.000000e+00                   0.000000e+00  \n",
       "25%                     0.000000e+00                   0.000000e+00  \n",
       "50%                     0.000000e+00                   0.000000e+00  \n",
       "75%                     0.000000e+00                   0.000000e+00  \n",
       "max                     1.000000e+00                   1.000000e+00  \n",
       "\n",
       "[8 rows x 83 columns]"
      ]
     },
     "execution_count": 13,
     "metadata": {},
     "output_type": "execute_result"
    }
   ],
   "source": [
    "df.describe()"
   ]
  },
  {
   "cell_type": "code",
   "execution_count": 4,
   "id": "754f3abd-408c-4dad-8c42-a1016de40886",
   "metadata": {},
   "outputs": [],
   "source": [
    "df_2 = pd.read_csv('./mix_dataset/Web Attack-Sql Injection.csv')"
   ]
  },
  {
   "cell_type": "code",
   "execution_count": 5,
   "id": "a7b52428-45be-45dc-b631-e9a2cef50f52",
   "metadata": {},
   "outputs": [
    {
     "data": {
      "text/plain": [
       "label\n",
       "0.0    2827855\n",
       "1.0         21\n",
       "Name: count, dtype: int64"
      ]
     },
     "execution_count": 5,
     "metadata": {},
     "output_type": "execute_result"
    }
   ],
   "source": [
    "df_2.label.value_counts()"
   ]
  },
  {
   "cell_type": "code",
   "execution_count": 6,
   "id": "9dbf781b-973c-4e2d-b79a-e87b49ab8796",
   "metadata": {},
   "outputs": [
    {
     "data": {
      "text/plain": [
       "(2827876, 83)"
      ]
     },
     "execution_count": 6,
     "metadata": {},
     "output_type": "execute_result"
    }
   ],
   "source": [
    "df.shape"
   ]
  },
  {
   "cell_type": "code",
   "execution_count": 7,
   "id": "b72eb0dd-ded7-400e-8d16-126ea2e71bbc",
   "metadata": {},
   "outputs": [
    {
     "data": {
      "text/plain": [
       "(2827876, 83)"
      ]
     },
     "execution_count": 7,
     "metadata": {},
     "output_type": "execute_result"
    }
   ],
   "source": [
    "df_2.shape"
   ]
  },
  {
   "cell_type": "code",
   "execution_count": 9,
   "id": "90a682dc-623e-4d3e-857d-04ab48aa4c5d",
   "metadata": {},
   "outputs": [
    {
     "name": "stdout",
     "output_type": "stream",
     "text": [
      "file size : 1305491376 bytes\n"
     ]
    }
   ],
   "source": [
    "import os\n",
    "file_size1 = os.stat('./mix_dataset/DoS Hulk.csv')\n",
    "print(\"file size :\", file_size1.st_size, \"bytes\")"
   ]
  },
  {
   "cell_type": "code",
   "execution_count": 10,
   "id": "770a39e2-4ce8-48c9-8969-f8f96c40e7cb",
   "metadata": {},
   "outputs": [
    {
     "name": "stdout",
     "output_type": "stream",
     "text": [
      "file size : 2852185472 bytes\n"
     ]
    }
   ],
   "source": [
    "file_size2 = os.stat('./mix_dataset/Web Attack-Sql Injection.csv')\n",
    "print(\"file size :\", file_size2.st_size, \"bytes\")"
   ]
  },
  {
   "cell_type": "code",
   "execution_count": 11,
   "id": "340f53fa-387f-436f-9369-98a87944e065",
   "metadata": {},
   "outputs": [],
   "source": [
    "def align_columns(dataset1, dataset2, column_sequence):\n",
    "    # Reindex both datasets with the aligned column order\n",
    "    dataset1 = dataset1.reindex(columns=column_sequence)\n",
    "    dataset2 = dataset2.reindex(columns=column_sequence)\n",
    "\n",
    "    # Set NaN values to 0\n",
    "    dataset1 = dataset1.fillna(0)\n",
    "    dataset2 = dataset2.fillna(0)\n",
    "\n",
    "    return dataset1, dataset2\n",
    "\n",
    "def check_column_differences(dataset1, dataset2):\n",
    "    columns1 = set(dataset1.columns)\n",
    "    columns2 = set(dataset2.columns)\n",
    "\n",
    "    columns_only_in_dataset1 = columns1 - columns2\n",
    "    columns_only_in_dataset2 = columns2 - columns1\n",
    "\n",
    "    return columns_only_in_dataset1, columns_only_in_dataset2\n",
    "\n"
   ]
  },
  {
   "cell_type": "code",
   "execution_count": 12,
   "id": "efe07137-2b66-4d78-bb4f-b72d425d69b0",
   "metadata": {},
   "outputs": [
    {
     "data": {
      "text/plain": [
       "(set(), set())"
      ]
     },
     "execution_count": 12,
     "metadata": {},
     "output_type": "execute_result"
    }
   ],
   "source": [
    "check_column_differences(df,df_2)"
   ]
  },
  {
   "cell_type": "code",
   "execution_count": 7,
   "id": "a224a3ab-b8d5-4a31-812c-b9a6562c935f",
   "metadata": {},
   "outputs": [],
   "source": [
    "import os\n",
    "os.getcwd()\n",
    "os.chdir('../')"
   ]
  },
  {
   "cell_type": "code",
   "execution_count": 8,
   "id": "aed083a3-045c-4976-8d86-a7591a0abc4f",
   "metadata": {},
   "outputs": [],
   "source": [
    "import glob\n",
    "\n",
    "dataset_paths = glob.glob(f'kdd/dataset/mix_dataset/*.csv')"
   ]
  },
  {
   "cell_type": "code",
   "execution_count": 16,
   "id": "37769d75-0b3e-4dca-97f2-a2d4f737c869",
   "metadata": {},
   "outputs": [
    {
     "data": {
      "text/plain": [
       "'kdd/dataset/mix_dataset\\\\apache2.csv'"
      ]
     },
     "execution_count": 16,
     "metadata": {},
     "output_type": "execute_result"
    }
   ],
   "source": [
    "dataset_path = dataset_paths[0]\n",
    "dataset_path"
   ]
  },
  {
   "cell_type": "code",
   "execution_count": 14,
   "id": "32a8d09d-6789-4320-b0bf-36d9a5ee232e",
   "metadata": {},
   "outputs": [
    {
     "data": {
      "text/plain": [
       "'apache2.csv'"
      ]
     },
     "execution_count": 14,
     "metadata": {},
     "output_type": "execute_result"
    }
   ],
   "source": [
    "name = path.split('\\\\')[-1]\n",
    "name"
   ]
  },
  {
   "cell_type": "code",
   "execution_count": 15,
   "id": "be9814af-3c10-4067-9478-ad4d8e89d626",
   "metadata": {},
   "outputs": [
    {
     "data": {
      "text/plain": [
       "'apache2'"
      ]
     },
     "execution_count": 15,
     "metadata": {},
     "output_type": "execute_result"
    }
   ],
   "source": [
    "name.split('.')[0]"
   ]
  },
  {
   "cell_type": "code",
   "execution_count": 21,
   "id": "f09a9499-f7b9-4928-baf4-e001c6669c8a",
   "metadata": {},
   "outputs": [],
   "source": [
    "dataset_path = dataset_path.split('\\\\')[-1]\n",
    "dataset_path = dataset_path.split('.')[0]"
   ]
  },
  {
   "cell_type": "code",
   "execution_count": 22,
   "id": "7e030177-b0c3-4da6-8139-799ef2b6a486",
   "metadata": {},
   "outputs": [
    {
     "data": {
      "text/plain": [
       "'apache2'"
      ]
     },
     "execution_count": 22,
     "metadata": {},
     "output_type": "execute_result"
    }
   ],
   "source": [
    "dataset_name"
   ]
  },
  {
   "cell_type": "code",
   "execution_count": null,
   "id": "ef960b34-f5b0-45bf-ab6d-3da1a82c5298",
   "metadata": {},
   "outputs": [],
   "source": []
  }
 ],
 "metadata": {
  "kernelspec": {
   "display_name": "Python 3 (ipykernel)",
   "language": "python",
   "name": "python3"
  },
  "language_info": {
   "codemirror_mode": {
    "name": "ipython",
    "version": 3
   },
   "file_extension": ".py",
   "mimetype": "text/x-python",
   "name": "python",
   "nbconvert_exporter": "python",
   "pygments_lexer": "ipython3",
   "version": "3.11.5"
  }
 },
 "nbformat": 4,
 "nbformat_minor": 5
}
