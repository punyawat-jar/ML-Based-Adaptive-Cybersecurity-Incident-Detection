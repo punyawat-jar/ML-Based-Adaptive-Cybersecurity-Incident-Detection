{
 "cells": [
  {
   "cell_type": "code",
   "execution_count": 5,
   "id": "8930cf49-7e7f-4e07-866f-82b38adbe32e",
   "metadata": {},
   "outputs": [],
   "source": [
    "import pandas as pd\n",
    "import joblib\n",
    "from sklearn.model_selection import train_test_split"
   ]
  },
  {
   "cell_type": "code",
   "execution_count": 3,
   "id": "1c714f98-acdb-4d60-a66f-d171084f544b",
   "metadata": {},
   "outputs": [],
   "source": [
    "df = pd.read_csv('./dataset/real_NSL_KDD.csv')"
   ]
  },
  {
   "cell_type": "code",
   "execution_count": 6,
   "id": "bcf9aa06-b00c-425d-a672-53cda6d19cb4",
   "metadata": {},
   "outputs": [],
   "source": [
    "X = df.drop('label', axis=1)\n",
    "y = df['label']\n",
    "X_train, X_test, y_train, y_test = train_test_split(X, y, test_size=0.3, random_state=42, stratify=y)\n"
   ]
  },
  {
   "cell_type": "code",
   "execution_count": 7,
   "id": "d22c3362-38d4-4540-9be7-8156f312efbc",
   "metadata": {},
   "outputs": [],
   "source": [
    "model = joblib.load('./model/neptune.csv/neptune.csv_DecisionTree_model.joblib')"
   ]
  },
  {
   "cell_type": "code",
   "execution_count": 14,
   "id": "8ae32007-2296-4271-b44d-b5d7be7addb0",
   "metadata": {},
   "outputs": [],
   "source": [
    "model2 = joblib.load('./model/apache2.csv/apache2.csv_ExtraTrees_model.joblib')"
   ]
  },
  {
   "cell_type": "code",
   "execution_count": 8,
   "id": "1be42874-7590-404d-9dc1-5645ac7bce80",
   "metadata": {},
   "outputs": [],
   "source": [
    "y_pred = model.predict(X_test[:5])"
   ]
  },
  {
   "cell_type": "code",
   "execution_count": 9,
   "id": "92342a09-8b83-49bf-8f10-9e235894b230",
   "metadata": {},
   "outputs": [
    {
     "data": {
      "text/plain": [
       "array([0., 1., 0., 1., 1.])"
      ]
     },
     "execution_count": 9,
     "metadata": {},
     "output_type": "execute_result"
    }
   ],
   "source": [
    "y_pred"
   ]
  },
  {
   "cell_type": "code",
   "execution_count": 15,
   "id": "2cd38a5b-575b-4414-b166-bd272d1a24af",
   "metadata": {},
   "outputs": [
    {
     "data": {
      "text/plain": [
       "array([0., 0., 0., 0., 0.])"
      ]
     },
     "execution_count": 15,
     "metadata": {},
     "output_type": "execute_result"
    }
   ],
   "source": [
    "y_pred2 = model2.predict(X_test[:5])\n",
    "y_pred2"
   ]
  },
  {
   "cell_type": "code",
   "execution_count": 1,
   "id": "ac336a00-7c96-4606-9016-44abc4a62f1d",
   "metadata": {},
   "outputs": [],
   "source": [
    "import sklearn\n",
    "import joblib"
   ]
  },
  {
   "cell_type": "code",
   "execution_count": 2,
   "id": "04b46b98-ffb1-43b2-8e3f-aaa369dfff71",
   "metadata": {},
   "outputs": [
    {
     "data": {
      "text/plain": [
       "'1.3.2'"
      ]
     },
     "execution_count": 2,
     "metadata": {},
     "output_type": "execute_result"
    }
   ],
   "source": [
    "sklearn.__version__"
   ]
  },
  {
   "cell_type": "code",
   "execution_count": 9,
   "id": "d7dd491b-4fc0-4c7a-8b21-cd32949df4e1",
   "metadata": {},
   "outputs": [
    {
     "name": "stdout",
     "output_type": "stream",
     "text": [
      "Collecting scikit-learn==1.3.2\n",
      "  Obtaining dependency information for scikit-learn==1.3.2 from https://files.pythonhosted.org/packages/4e/ba/ce9bd1cd4953336a0e213b29cb80bb11816f2a93de8c99f88ef0b446ad0c/scikit_learn-1.3.2-cp311-cp311-win_amd64.whl.metadata\n",
      "  Downloading scikit_learn-1.3.2-cp311-cp311-win_amd64.whl.metadata (11 kB)\n",
      "Requirement already satisfied: numpy<2.0,>=1.17.3 in c:\\anaconda\\lib\\site-packages (from scikit-learn==1.3.2) (1.26.3)\n",
      "Requirement already satisfied: scipy>=1.5.0 in c:\\anaconda\\lib\\site-packages (from scikit-learn==1.3.2) (1.11.4)\n",
      "Requirement already satisfied: joblib>=1.1.1 in c:\\anaconda\\lib\\site-packages (from scikit-learn==1.3.2) (1.2.0)\n",
      "Requirement already satisfied: threadpoolctl>=2.0.0 in c:\\anaconda\\lib\\site-packages (from scikit-learn==1.3.2) (2.2.0)\n",
      "Downloading scikit_learn-1.3.2-cp311-cp311-win_amd64.whl (9.2 MB)\n",
      "   ---------------------------------------- 0.0/9.2 MB ? eta -:--:--\n",
      "   ---------------------------------------- 0.0/9.2 MB ? eta -:--:--\n",
      "   ---------------------------------------- 0.0/9.2 MB 435.7 kB/s eta 0:00:22\n",
      "    --------------------------------------- 0.1/9.2 MB 1.4 MB/s eta 0:00:07\n",
      "   ------- -------------------------------- 1.8/9.2 MB 12.4 MB/s eta 0:00:01\n",
      "   ---------------------- ----------------- 5.2/9.2 MB 30.2 MB/s eta 0:00:01\n",
      "   ---------------------------------------  9.2/9.2 MB 42.0 MB/s eta 0:00:01\n",
      "   ---------------------------------------  9.2/9.2 MB 42.0 MB/s eta 0:00:01\n",
      "   ---------------------------------------  9.2/9.2 MB 42.0 MB/s eta 0:00:01\n",
      "   ---------------------------------------  9.2/9.2 MB 42.0 MB/s eta 0:00:01\n",
      "   ---------------------------------------  9.2/9.2 MB 42.0 MB/s eta 0:00:01\n",
      "   ---------------------------------------  9.2/9.2 MB 42.0 MB/s eta 0:00:01\n",
      "   ---------------------------------------  9.2/9.2 MB 42.0 MB/s eta 0:00:01\n",
      "   ---------------------------------------  9.2/9.2 MB 42.0 MB/s eta 0:00:01\n",
      "   ---------------------------------------  9.2/9.2 MB 42.0 MB/s eta 0:00:01\n",
      "   ---------------------------------------  9.2/9.2 MB 42.0 MB/s eta 0:00:01\n",
      "   ---------------------------------------  9.2/9.2 MB 42.0 MB/s eta 0:00:01\n",
      "   ---------------------------------------  9.2/9.2 MB 42.0 MB/s eta 0:00:01\n",
      "   ---------------------------------------  9.2/9.2 MB 42.0 MB/s eta 0:00:01\n",
      "   ---------------------------------------  9.2/9.2 MB 42.0 MB/s eta 0:00:01\n",
      "   ---------------------------------------  9.2/9.2 MB 42.0 MB/s eta 0:00:01\n",
      "   ---------------------------------------- 9.2/9.2 MB 10.9 MB/s eta 0:00:00\n",
      "Installing collected packages: scikit-learn\n",
      "  Attempting uninstall: scikit-learn\n",
      "    Found existing installation: scikit-learn 1.2.2\n",
      "    Uninstalling scikit-learn-1.2.2:\n",
      "      Successfully uninstalled scikit-learn-1.2.2\n"
     ]
    },
    {
     "name": "stderr",
     "output_type": "stream",
     "text": [
      "ERROR: Could not install packages due to an OSError: [WinError 5] Access is denied: 'C:\\\\anaconda\\\\Lib\\\\site-packages\\\\~klearn\\\\decomposition\\\\_cdnmf_fast.cp311-win_amd64.pyd'\n",
      "Consider using the `--user` option or check the permissions.\n",
      "\n"
     ]
    }
   ],
   "source": []
  },
  {
   "cell_type": "code",
   "execution_count": 10,
   "id": "5373e388-f017-4ef3-9f7e-d99d3681aada",
   "metadata": {},
   "outputs": [
    {
     "data": {
      "text/plain": [
       "\"Error: cannot import name '_fit_context' from 'sklearn.base' (C:\\\\anaconda\\\\envs\\\\lstmrnncic\\\\lib\\\\site-packages\\\\sklearn\\\\base.py)\""
      ]
     },
     "execution_count": 10,
     "metadata": {},
     "output_type": "execute_result"
    }
   ],
   "source": [
    "model_file_path = '../cic/model/DoS GoldenEye.csv/DoS GoldenEye.csv_DecisionTree_model.joblib'\n",
    "try:\n",
    "    with open(model_file_path, 'rb') as file:\n",
    "        model_metadata = joblib.load(file, mmap_mode='r')\n",
    "except Exception as e:\n",
    "    model_metadata = f\"Error: {e}\"\n",
    "\n",
    "model_metadata"
   ]
  },
  {
   "cell_type": "code",
   "execution_count": 4,
   "id": "35220b2e-b6ed-43c2-8b45-6ae34cf2aff6",
   "metadata": {},
   "outputs": [],
   "source": [
    "loaded_objects = joblib.load('../cic/model/DoS GoldenEye.csv/DoS GoldenEye.csv_DecisionTree_model.joblib')\n",
    "\n"
   ]
  },
  {
   "cell_type": "code",
   "execution_count": null,
   "id": "55c6553c-2d2e-44e6-815d-97ade9f008ac",
   "metadata": {},
   "outputs": [],
   "source": []
  }
 ],
 "metadata": {
  "kernelspec": {
   "display_name": "Python 3 (ipykernel)",
   "language": "python",
   "name": "python3"
  },
  "language_info": {
   "codemirror_mode": {
    "name": "ipython",
    "version": 3
   },
   "file_extension": ".py",
   "mimetype": "text/x-python",
   "name": "python",
   "nbconvert_exporter": "python",
   "pygments_lexer": "ipython3",
   "version": "3.11.5"
  }
 },
 "nbformat": 4,
 "nbformat_minor": 5
}
