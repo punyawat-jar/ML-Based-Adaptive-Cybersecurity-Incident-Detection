{
 "cells": [
  {
   "cell_type": "code",
   "execution_count": 1,
   "id": "6191ffbb-8a69-4354-bb37-0529fc721114",
   "metadata": {},
   "outputs": [
    {
     "name": "stderr",
     "output_type": "stream",
     "text": [
      "C:\\Users\\Kotani Lab\\AppData\\Local\\Temp\\ipykernel_7412\\1802075856.py:1: DeprecationWarning: \n",
      "Pyarrow will become a required dependency of pandas in the next major release of pandas (pandas 3.0),\n",
      "(to allow more performant data types, such as the Arrow string type, and better interoperability with other libraries)\n",
      "but was not found to be installed on your system.\n",
      "If this would cause problems for you,\n",
      "please provide us feedback at https://github.com/pandas-dev/pandas/issues/54466\n",
      "        \n",
      "  import pandas as pd\n"
     ]
    },
    {
     "data": {
      "text/plain": [
       "'C:\\\\Users\\\\Kotani Lab\\\\Desktop\\\\ML_senior_project\\\\ML-Based-Adaptive-Cybersecurity-Incident-Detection\\\\Code_and_model\\\\Program'"
      ]
     },
     "execution_count": 1,
     "metadata": {},
     "output_type": "execute_result"
    }
   ],
   "source": [
    "import pandas as pd\n",
    "import os\n",
    "import numpy as np\n",
    "from tensorflow.keras.preprocessing.sequence import TimeseriesGenerator\n",
    "os.getcwd()"
   ]
  },
  {
   "cell_type": "code",
   "execution_count": 69,
   "id": "c0d0edf6-45bf-4f66-a968-feecde05f1d3",
   "metadata": {
    "scrolled": true
   },
   "outputs": [],
   "source": [
    "df = pd.read_csv('kdd/train_test_folder/train_kdd/train.csv')\n",
    "traindf = pd.read_csv('./kdd/dataset/mix_dataset/neptune.csv')"
   ]
  },
  {
   "cell_type": "code",
   "execution_count": 70,
   "id": "071da837-ae71-4bbc-9cff-f5945518a44d",
   "metadata": {
    "scrolled": true
   },
   "outputs": [
    {
     "data": {
      "text/html": [
       "<div>\n",
       "<style scoped>\n",
       "    .dataframe tbody tr th:only-of-type {\n",
       "        vertical-align: middle;\n",
       "    }\n",
       "\n",
       "    .dataframe tbody tr th {\n",
       "        vertical-align: top;\n",
       "    }\n",
       "\n",
       "    .dataframe thead th {\n",
       "        text-align: right;\n",
       "    }\n",
       "</style>\n",
       "<table border=\"1\" class=\"dataframe\">\n",
       "  <thead>\n",
       "    <tr style=\"text-align: right;\">\n",
       "      <th></th>\n",
       "      <th>Unnamed: 0</th>\n",
       "      <th>duration</th>\n",
       "      <th>src_bytes</th>\n",
       "      <th>dst_bytes</th>\n",
       "      <th>land</th>\n",
       "      <th>wrong_fragment</th>\n",
       "      <th>urgent</th>\n",
       "      <th>hot</th>\n",
       "      <th>num_failed_logins</th>\n",
       "      <th>logged_in</th>\n",
       "      <th>...</th>\n",
       "      <th>flag_RSTO</th>\n",
       "      <th>flag_RSTOS0</th>\n",
       "      <th>flag_RSTR</th>\n",
       "      <th>flag_S0</th>\n",
       "      <th>flag_S1</th>\n",
       "      <th>flag_S2</th>\n",
       "      <th>flag_S3</th>\n",
       "      <th>flag_SF</th>\n",
       "      <th>flag_SH</th>\n",
       "      <th>label</th>\n",
       "    </tr>\n",
       "  </thead>\n",
       "  <tbody>\n",
       "    <tr>\n",
       "      <th>0</th>\n",
       "      <td>90597</td>\n",
       "      <td>0.0</td>\n",
       "      <td>2.536298e-08</td>\n",
       "      <td>9.924138e-08</td>\n",
       "      <td>0.0</td>\n",
       "      <td>0.0</td>\n",
       "      <td>0.0</td>\n",
       "      <td>0.0</td>\n",
       "      <td>0.0</td>\n",
       "      <td>1.0</td>\n",
       "      <td>...</td>\n",
       "      <td>0.0</td>\n",
       "      <td>0.0</td>\n",
       "      <td>0.0</td>\n",
       "      <td>0.0</td>\n",
       "      <td>0.0</td>\n",
       "      <td>0.0</td>\n",
       "      <td>0.0</td>\n",
       "      <td>1.0</td>\n",
       "      <td>0.0</td>\n",
       "      <td>normal</td>\n",
       "    </tr>\n",
       "    <tr>\n",
       "      <th>1</th>\n",
       "      <td>89016</td>\n",
       "      <td>0.0</td>\n",
       "      <td>0.000000e+00</td>\n",
       "      <td>0.000000e+00</td>\n",
       "      <td>0.0</td>\n",
       "      <td>0.0</td>\n",
       "      <td>0.0</td>\n",
       "      <td>0.0</td>\n",
       "      <td>0.0</td>\n",
       "      <td>0.0</td>\n",
       "      <td>...</td>\n",
       "      <td>0.0</td>\n",
       "      <td>0.0</td>\n",
       "      <td>0.0</td>\n",
       "      <td>0.0</td>\n",
       "      <td>0.0</td>\n",
       "      <td>0.0</td>\n",
       "      <td>0.0</td>\n",
       "      <td>0.0</td>\n",
       "      <td>0.0</td>\n",
       "      <td>neptune</td>\n",
       "    </tr>\n",
       "    <tr>\n",
       "      <th>2</th>\n",
       "      <td>106202</td>\n",
       "      <td>0.0</td>\n",
       "      <td>1.420327e-07</td>\n",
       "      <td>5.498736e-06</td>\n",
       "      <td>0.0</td>\n",
       "      <td>0.0</td>\n",
       "      <td>0.0</td>\n",
       "      <td>0.0</td>\n",
       "      <td>0.0</td>\n",
       "      <td>1.0</td>\n",
       "      <td>...</td>\n",
       "      <td>0.0</td>\n",
       "      <td>0.0</td>\n",
       "      <td>0.0</td>\n",
       "      <td>0.0</td>\n",
       "      <td>0.0</td>\n",
       "      <td>0.0</td>\n",
       "      <td>0.0</td>\n",
       "      <td>1.0</td>\n",
       "      <td>0.0</td>\n",
       "      <td>normal</td>\n",
       "    </tr>\n",
       "    <tr>\n",
       "      <th>3</th>\n",
       "      <td>74603</td>\n",
       "      <td>0.0</td>\n",
       "      <td>0.000000e+00</td>\n",
       "      <td>0.000000e+00</td>\n",
       "      <td>0.0</td>\n",
       "      <td>0.0</td>\n",
       "      <td>0.0</td>\n",
       "      <td>0.0</td>\n",
       "      <td>0.0</td>\n",
       "      <td>0.0</td>\n",
       "      <td>...</td>\n",
       "      <td>0.0</td>\n",
       "      <td>0.0</td>\n",
       "      <td>0.0</td>\n",
       "      <td>1.0</td>\n",
       "      <td>0.0</td>\n",
       "      <td>0.0</td>\n",
       "      <td>0.0</td>\n",
       "      <td>0.0</td>\n",
       "      <td>0.0</td>\n",
       "      <td>neptune</td>\n",
       "    </tr>\n",
       "    <tr>\n",
       "      <th>4</th>\n",
       "      <td>104247</td>\n",
       "      <td>0.0</td>\n",
       "      <td>0.000000e+00</td>\n",
       "      <td>0.000000e+00</td>\n",
       "      <td>0.0</td>\n",
       "      <td>0.0</td>\n",
       "      <td>0.0</td>\n",
       "      <td>0.0</td>\n",
       "      <td>0.0</td>\n",
       "      <td>0.0</td>\n",
       "      <td>...</td>\n",
       "      <td>0.0</td>\n",
       "      <td>0.0</td>\n",
       "      <td>0.0</td>\n",
       "      <td>1.0</td>\n",
       "      <td>0.0</td>\n",
       "      <td>0.0</td>\n",
       "      <td>0.0</td>\n",
       "      <td>0.0</td>\n",
       "      <td>0.0</td>\n",
       "      <td>neptune</td>\n",
       "    </tr>\n",
       "    <tr>\n",
       "      <th>...</th>\n",
       "      <td>...</td>\n",
       "      <td>...</td>\n",
       "      <td>...</td>\n",
       "      <td>...</td>\n",
       "      <td>...</td>\n",
       "      <td>...</td>\n",
       "      <td>...</td>\n",
       "      <td>...</td>\n",
       "      <td>...</td>\n",
       "      <td>...</td>\n",
       "      <td>...</td>\n",
       "      <td>...</td>\n",
       "      <td>...</td>\n",
       "      <td>...</td>\n",
       "      <td>...</td>\n",
       "      <td>...</td>\n",
       "      <td>...</td>\n",
       "      <td>...</td>\n",
       "      <td>...</td>\n",
       "      <td>...</td>\n",
       "      <td>...</td>\n",
       "    </tr>\n",
       "    <tr>\n",
       "      <th>103956</th>\n",
       "      <td>38990</td>\n",
       "      <td>0.0</td>\n",
       "      <td>0.000000e+00</td>\n",
       "      <td>0.000000e+00</td>\n",
       "      <td>0.0</td>\n",
       "      <td>0.0</td>\n",
       "      <td>0.0</td>\n",
       "      <td>0.0</td>\n",
       "      <td>0.0</td>\n",
       "      <td>0.0</td>\n",
       "      <td>...</td>\n",
       "      <td>0.0</td>\n",
       "      <td>0.0</td>\n",
       "      <td>0.0</td>\n",
       "      <td>1.0</td>\n",
       "      <td>0.0</td>\n",
       "      <td>0.0</td>\n",
       "      <td>0.0</td>\n",
       "      <td>0.0</td>\n",
       "      <td>0.0</td>\n",
       "      <td>neptune</td>\n",
       "    </tr>\n",
       "    <tr>\n",
       "      <th>103957</th>\n",
       "      <td>122689</td>\n",
       "      <td>0.0</td>\n",
       "      <td>1.565258e-07</td>\n",
       "      <td>3.334510e-06</td>\n",
       "      <td>0.0</td>\n",
       "      <td>0.0</td>\n",
       "      <td>0.0</td>\n",
       "      <td>0.0</td>\n",
       "      <td>0.0</td>\n",
       "      <td>1.0</td>\n",
       "      <td>...</td>\n",
       "      <td>0.0</td>\n",
       "      <td>0.0</td>\n",
       "      <td>0.0</td>\n",
       "      <td>0.0</td>\n",
       "      <td>0.0</td>\n",
       "      <td>0.0</td>\n",
       "      <td>0.0</td>\n",
       "      <td>1.0</td>\n",
       "      <td>0.0</td>\n",
       "      <td>normal</td>\n",
       "    </tr>\n",
       "    <tr>\n",
       "      <th>103958</th>\n",
       "      <td>126235</td>\n",
       "      <td>0.0</td>\n",
       "      <td>1.920340e-07</td>\n",
       "      <td>2.693258e-06</td>\n",
       "      <td>0.0</td>\n",
       "      <td>0.0</td>\n",
       "      <td>0.0</td>\n",
       "      <td>0.0</td>\n",
       "      <td>0.0</td>\n",
       "      <td>1.0</td>\n",
       "      <td>...</td>\n",
       "      <td>0.0</td>\n",
       "      <td>0.0</td>\n",
       "      <td>0.0</td>\n",
       "      <td>0.0</td>\n",
       "      <td>0.0</td>\n",
       "      <td>0.0</td>\n",
       "      <td>0.0</td>\n",
       "      <td>1.0</td>\n",
       "      <td>0.0</td>\n",
       "      <td>normal</td>\n",
       "    </tr>\n",
       "    <tr>\n",
       "      <th>103959</th>\n",
       "      <td>10237</td>\n",
       "      <td>0.0</td>\n",
       "      <td>7.478457e-07</td>\n",
       "      <td>0.000000e+00</td>\n",
       "      <td>0.0</td>\n",
       "      <td>0.0</td>\n",
       "      <td>0.0</td>\n",
       "      <td>0.0</td>\n",
       "      <td>0.0</td>\n",
       "      <td>0.0</td>\n",
       "      <td>...</td>\n",
       "      <td>0.0</td>\n",
       "      <td>0.0</td>\n",
       "      <td>0.0</td>\n",
       "      <td>0.0</td>\n",
       "      <td>0.0</td>\n",
       "      <td>0.0</td>\n",
       "      <td>0.0</td>\n",
       "      <td>1.0</td>\n",
       "      <td>0.0</td>\n",
       "      <td>smurf</td>\n",
       "    </tr>\n",
       "    <tr>\n",
       "      <th>103960</th>\n",
       "      <td>94409</td>\n",
       "      <td>0.0</td>\n",
       "      <td>0.000000e+00</td>\n",
       "      <td>0.000000e+00</td>\n",
       "      <td>0.0</td>\n",
       "      <td>0.0</td>\n",
       "      <td>0.0</td>\n",
       "      <td>0.0</td>\n",
       "      <td>0.0</td>\n",
       "      <td>0.0</td>\n",
       "      <td>...</td>\n",
       "      <td>0.0</td>\n",
       "      <td>0.0</td>\n",
       "      <td>0.0</td>\n",
       "      <td>0.0</td>\n",
       "      <td>0.0</td>\n",
       "      <td>0.0</td>\n",
       "      <td>0.0</td>\n",
       "      <td>0.0</td>\n",
       "      <td>0.0</td>\n",
       "      <td>normal</td>\n",
       "    </tr>\n",
       "  </tbody>\n",
       "</table>\n",
       "<p>103961 rows × 124 columns</p>\n",
       "</div>"
      ],
      "text/plain": [
       "        Unnamed: 0  duration     src_bytes     dst_bytes  land  \\\n",
       "0            90597       0.0  2.536298e-08  9.924138e-08   0.0   \n",
       "1            89016       0.0  0.000000e+00  0.000000e+00   0.0   \n",
       "2           106202       0.0  1.420327e-07  5.498736e-06   0.0   \n",
       "3            74603       0.0  0.000000e+00  0.000000e+00   0.0   \n",
       "4           104247       0.0  0.000000e+00  0.000000e+00   0.0   \n",
       "...            ...       ...           ...           ...   ...   \n",
       "103956       38990       0.0  0.000000e+00  0.000000e+00   0.0   \n",
       "103957      122689       0.0  1.565258e-07  3.334510e-06   0.0   \n",
       "103958      126235       0.0  1.920340e-07  2.693258e-06   0.0   \n",
       "103959       10237       0.0  7.478457e-07  0.000000e+00   0.0   \n",
       "103960       94409       0.0  0.000000e+00  0.000000e+00   0.0   \n",
       "\n",
       "        wrong_fragment  urgent  hot  num_failed_logins  logged_in  ...  \\\n",
       "0                  0.0     0.0  0.0                0.0        1.0  ...   \n",
       "1                  0.0     0.0  0.0                0.0        0.0  ...   \n",
       "2                  0.0     0.0  0.0                0.0        1.0  ...   \n",
       "3                  0.0     0.0  0.0                0.0        0.0  ...   \n",
       "4                  0.0     0.0  0.0                0.0        0.0  ...   \n",
       "...                ...     ...  ...                ...        ...  ...   \n",
       "103956             0.0     0.0  0.0                0.0        0.0  ...   \n",
       "103957             0.0     0.0  0.0                0.0        1.0  ...   \n",
       "103958             0.0     0.0  0.0                0.0        1.0  ...   \n",
       "103959             0.0     0.0  0.0                0.0        0.0  ...   \n",
       "103960             0.0     0.0  0.0                0.0        0.0  ...   \n",
       "\n",
       "        flag_RSTO  flag_RSTOS0  flag_RSTR  flag_S0  flag_S1  flag_S2  flag_S3  \\\n",
       "0             0.0          0.0        0.0      0.0      0.0      0.0      0.0   \n",
       "1             0.0          0.0        0.0      0.0      0.0      0.0      0.0   \n",
       "2             0.0          0.0        0.0      0.0      0.0      0.0      0.0   \n",
       "3             0.0          0.0        0.0      1.0      0.0      0.0      0.0   \n",
       "4             0.0          0.0        0.0      1.0      0.0      0.0      0.0   \n",
       "...           ...          ...        ...      ...      ...      ...      ...   \n",
       "103956        0.0          0.0        0.0      1.0      0.0      0.0      0.0   \n",
       "103957        0.0          0.0        0.0      0.0      0.0      0.0      0.0   \n",
       "103958        0.0          0.0        0.0      0.0      0.0      0.0      0.0   \n",
       "103959        0.0          0.0        0.0      0.0      0.0      0.0      0.0   \n",
       "103960        0.0          0.0        0.0      0.0      0.0      0.0      0.0   \n",
       "\n",
       "        flag_SF  flag_SH    label  \n",
       "0           1.0      0.0   normal  \n",
       "1           0.0      0.0  neptune  \n",
       "2           1.0      0.0   normal  \n",
       "3           0.0      0.0  neptune  \n",
       "4           0.0      0.0  neptune  \n",
       "...         ...      ...      ...  \n",
       "103956      0.0      0.0  neptune  \n",
       "103957      1.0      0.0   normal  \n",
       "103958      1.0      0.0   normal  \n",
       "103959      1.0      0.0    smurf  \n",
       "103960      0.0      0.0   normal  \n",
       "\n",
       "[103961 rows x 124 columns]"
      ]
     },
     "execution_count": 70,
     "metadata": {},
     "output_type": "execute_result"
    }
   ],
   "source": [
    "df"
   ]
  },
  {
   "cell_type": "code",
   "execution_count": 78,
   "id": "e101b1c2-1c23-4e37-8239-d349fc9c2329",
   "metadata": {
    "scrolled": true
   },
   "outputs": [],
   "source": []
  },
  {
   "cell_type": "code",
   "execution_count": 74,
   "id": "48255cef-c123-407a-9cf5-bfcb9ef45ac2",
   "metadata": {},
   "outputs": [
    {
     "data": {
      "text/plain": [
       "90086"
      ]
     },
     "execution_count": 74,
     "metadata": {},
     "output_type": "execute_result"
    }
   ],
   "source": [
    "90597 - (window_size - 1)\n"
   ]
  },
  {
   "cell_type": "code",
   "execution_count": 102,
   "id": "ebfe6750-457d-45be-b912-b7b2195ad52c",
   "metadata": {},
   "outputs": [],
   "source": [
    "window_size = 512\n",
    "batch_size = 2\n",
    "epochs = 20\n",
    "X = traindf.drop('label', axis=1)\n",
    "y = traindf['label']\n",
    "\n",
    "Data = TimeseriesGenerator(X, y, length=window_size, sampling_rate=1, batch_size=batch_size)"
   ]
  },
  {
   "cell_type": "code",
   "execution_count": 103,
   "id": "e5e144ba-887a-4552-a276-096b69630e3f",
   "metadata": {},
   "outputs": [],
   "source": [
    "original_index = 90597"
   ]
  },
  {
   "cell_type": "code",
   "execution_count": 104,
   "id": "73ca2759-7da5-41b7-a3f9-199c4ccce989",
   "metadata": {
    "scrolled": true
   },
   "outputs": [
    {
     "ename": "IndexError",
     "evalue": "index 0 is out of bounds for axis 0 with size 0",
     "output_type": "error",
     "traceback": [
      "\u001b[1;31m---------------------------------------------------------------------------\u001b[0m",
      "\u001b[1;31mIndexError\u001b[0m                                Traceback (most recent call last)",
      "Cell \u001b[1;32mIn[104], line 4\u001b[0m\n\u001b[0;32m      1\u001b[0m traindf\u001b[38;5;241m.\u001b[39miloc[original_index]\n\u001b[0;32m      2\u001b[0m array \u001b[38;5;241m=\u001b[39m traindf\u001b[38;5;241m.\u001b[39mdrop(\u001b[38;5;124m'\u001b[39m\u001b[38;5;124mlabel\u001b[39m\u001b[38;5;124m'\u001b[39m, axis\u001b[38;5;241m=\u001b[39m\u001b[38;5;241m1\u001b[39m)\u001b[38;5;241m.\u001b[39miloc[original_index]\u001b[38;5;241m.\u001b[39mto_numpy()\n\u001b[1;32m----> 4\u001b[0m datagen \u001b[38;5;241m=\u001b[39m \u001b[43mData\u001b[49m\u001b[43m[\u001b[49m\u001b[38;5;241;43m90086\u001b[39;49m\u001b[43m]\u001b[49m\u001b[43m[\u001b[49m\u001b[38;5;241;43m0\u001b[39;49m\u001b[43m]\u001b[49m\u001b[43m[\u001b[49m\u001b[38;5;241;43m0\u001b[39;49m\u001b[43m]\u001b[49m[\u001b[38;5;241m511\u001b[39m]\n\u001b[0;32m      5\u001b[0m np\u001b[38;5;241m.\u001b[39marray_equal(array, datagen)\n",
      "\u001b[1;31mIndexError\u001b[0m: index 0 is out of bounds for axis 0 with size 0"
     ]
    }
   ],
   "source": [
    "traindf.iloc[original_index]\n",
    "array = traindf.drop('label', axis=1).iloc[original_index].to_numpy()\n",
    "\n",
    "datagen = Data[90086][0][0][511]\n",
    "np.array_equal(array, datagen)"
   ]
  },
  {
   "cell_type": "code",
   "execution_count": 105,
   "id": "2a13d6da-2ea6-443d-ab60-fcd9318eaca1",
   "metadata": {},
   "outputs": [],
   "source": [
    "sequence_start_index = original_index - (window_size - 1)\n",
    "batch_index = sequence_start_index // batch_size\n",
    "position_within_batch = sequence_start_index % batch_size\n"
   ]
  },
  {
   "cell_type": "code",
   "execution_count": 106,
   "id": "644f4440-1e79-4cd3-ab87-d89c28cdb223",
   "metadata": {},
   "outputs": [
    {
     "data": {
      "text/plain": [
       "90086"
      ]
     },
     "execution_count": 106,
     "metadata": {},
     "output_type": "execute_result"
    }
   ],
   "source": [
    "sequence_start_index"
   ]
  },
  {
   "cell_type": "code",
   "execution_count": 107,
   "id": "5a43372c-ac68-45ca-8aa8-ead5d591f6ca",
   "metadata": {},
   "outputs": [
    {
     "data": {
      "text/plain": [
       "45043"
      ]
     },
     "execution_count": 107,
     "metadata": {},
     "output_type": "execute_result"
    }
   ],
   "source": [
    "batch_index"
   ]
  },
  {
   "cell_type": "code",
   "execution_count": 108,
   "id": "3cf2acdb-1a86-463c-b1ae-7363c27e42b4",
   "metadata": {},
   "outputs": [
    {
     "data": {
      "text/plain": [
       "0"
      ]
     },
     "execution_count": 108,
     "metadata": {},
     "output_type": "execute_result"
    }
   ],
   "source": [
    "position_within_batch"
   ]
  },
  {
   "cell_type": "code",
   "execution_count": 113,
   "id": "d95e0a9f-562c-4840-aa96-2f561dd5302f",
   "metadata": {},
   "outputs": [
    {
     "data": {
      "text/plain": [
       "array([0.00000000e+00, 2.53629825e-08, 9.92413835e-08, 0.00000000e+00,\n",
       "       0.00000000e+00, 0.00000000e+00, 0.00000000e+00, 0.00000000e+00,\n",
       "       1.00000000e+00, 0.00000000e+00, 0.00000000e+00, 0.00000000e+00,\n",
       "       0.00000000e+00, 0.00000000e+00, 0.00000000e+00, 0.00000000e+00,\n",
       "       0.00000000e+00, 0.00000000e+00, 0.00000000e+00, 3.91389432e-03,\n",
       "       1.95694716e-03, 0.00000000e+00, 0.00000000e+00, 0.00000000e+00,\n",
       "       0.00000000e+00, 5.00000000e-01, 1.00000000e+00, 0.00000000e+00,\n",
       "       7.80392157e-01, 3.13725490e-02, 4.00000000e-02, 4.00000000e-02,\n",
       "       1.00000000e-02, 2.50000000e-01, 1.00000000e-02, 0.00000000e+00,\n",
       "       0.00000000e+00, 0.00000000e+00, 0.00000000e+00, 1.00000000e+00,\n",
       "       0.00000000e+00, 0.00000000e+00, 0.00000000e+00, 0.00000000e+00,\n",
       "       0.00000000e+00, 0.00000000e+00, 0.00000000e+00, 0.00000000e+00,\n",
       "       0.00000000e+00, 0.00000000e+00, 0.00000000e+00, 0.00000000e+00,\n",
       "       0.00000000e+00, 0.00000000e+00, 0.00000000e+00, 0.00000000e+00,\n",
       "       0.00000000e+00, 0.00000000e+00, 0.00000000e+00, 0.00000000e+00,\n",
       "       0.00000000e+00, 0.00000000e+00, 0.00000000e+00, 0.00000000e+00,\n",
       "       0.00000000e+00, 0.00000000e+00, 0.00000000e+00, 0.00000000e+00,\n",
       "       0.00000000e+00, 0.00000000e+00, 0.00000000e+00, 0.00000000e+00,\n",
       "       0.00000000e+00, 0.00000000e+00, 0.00000000e+00, 0.00000000e+00,\n",
       "       0.00000000e+00, 0.00000000e+00, 0.00000000e+00, 0.00000000e+00,\n",
       "       0.00000000e+00, 0.00000000e+00, 0.00000000e+00, 0.00000000e+00,\n",
       "       0.00000000e+00, 0.00000000e+00, 0.00000000e+00, 0.00000000e+00,\n",
       "       1.00000000e+00, 0.00000000e+00, 0.00000000e+00, 0.00000000e+00,\n",
       "       0.00000000e+00, 0.00000000e+00, 0.00000000e+00, 0.00000000e+00,\n",
       "       0.00000000e+00, 0.00000000e+00, 0.00000000e+00, 0.00000000e+00,\n",
       "       0.00000000e+00, 0.00000000e+00, 0.00000000e+00, 0.00000000e+00,\n",
       "       0.00000000e+00, 0.00000000e+00, 0.00000000e+00, 0.00000000e+00,\n",
       "       0.00000000e+00, 0.00000000e+00, 0.00000000e+00, 0.00000000e+00,\n",
       "       0.00000000e+00, 0.00000000e+00, 0.00000000e+00, 0.00000000e+00,\n",
       "       0.00000000e+00, 0.00000000e+00, 0.00000000e+00, 0.00000000e+00,\n",
       "       1.00000000e+00, 0.00000000e+00])"
      ]
     },
     "execution_count": 113,
     "metadata": {},
     "output_type": "execute_result"
    }
   ],
   "source": [
    "Data[batch_index][0][0][511]"
   ]
  },
  {
   "cell_type": "code",
   "execution_count": 1,
   "id": "a9738600-6840-4db0-88b8-dc52db36c6f9",
   "metadata": {},
   "outputs": [
    {
     "name": "stdout",
     "output_type": "stream",
     "text": [
      "WARNING:tensorflow:From C:\\anaconda\\Lib\\site-packages\\keras\\src\\losses.py:2976: The name tf.losses.sparse_softmax_cross_entropy is deprecated. Please use tf.compat.v1.losses.sparse_softmax_cross_entropy instead.\n",
      "\n"
     ]
    },
    {
     "data": {
      "text/plain": [
       "'C:\\\\Users\\\\Kotani Lab\\\\Desktop\\\\ML_senior_project\\\\ML-Based-Adaptive-Cybersecurity-Incident-Detection\\\\Code_and_model\\\\Program'"
      ]
     },
     "execution_count": 1,
     "metadata": {},
     "output_type": "execute_result"
    }
   ],
   "source": [
    "import pandas as pd\n",
    "import os\n",
    "from tqdm import tqdm\n",
    "import numpy as np\n",
    "from tensorflow.keras.preprocessing.sequence import TimeseriesGenerator\n",
    "os.getcwd()"
   ]
  },
  {
   "cell_type": "code",
   "execution_count": 2,
   "id": "b3ee8349-3810-400f-b41d-877ea2467a6a",
   "metadata": {},
   "outputs": [],
   "source": [
    "df = pd.read_csv('kdd/train_test_folder/train_kdd/train.csv')\n",
    "traindf = pd.read_csv('./kdd/dataset/mix_dataset/neptune.csv')"
   ]
  },
  {
   "cell_type": "code",
   "execution_count": 3,
   "id": "7a07f7ee-ef98-4ab2-bab1-51f786f00db4",
   "metadata": {},
   "outputs": [],
   "source": [
    "from multiprocessing import Pool, cpu_count\n",
    "\n",
    "window_size = 64\n",
    "batch_size = 1\n",
    "epochs = 20\n",
    "\n",
    "X = traindf.drop('label', axis=1)\n",
    "y = traindf['label']\n",
    "\n",
    "Data = TimeseriesGenerator(X, y, length=window_size, sampling_rate=1, batch_size=batch_size)\n",
    "\n",
    "def process_batch(args):\n",
    "    print('Processing1....')\n",
    "    batch_range, generator, df_index, batch_size, window_size, show_progress = args\n",
    "    rearranged_batch_data = []\n",
    "    print('Processing3....')\n",
    "    # Wrap the enumeration with tqdm if this is the first subprocess to show progress\n",
    "    iterable = enumerate(preloaded_data)\n",
    "    if show_progress:\n",
    "        iterable = tqdm(iterable, total=len(batch_range), desc=\"Processing batches\")\n",
    "\n",
    "    for idx, (batch_x, batch_y) in iterable:\n",
    "        i = batch_range[idx]\n",
    "        for j in range(batch_x.shape[0]):\n",
    "            sequence_start_index = i * batch_size + j\n",
    "            original_indices = df_index[sequence_start_index: sequence_start_index + window_size].tolist()\n",
    "            rearranged_batch_data.append((batch_x[j], batch_y[j], original_indices))\n",
    "\n",
    "    return rearranged_batch_data\n",
    "\n",
    "def rearrange_sequences_multiprocessing(generator, df_index, batch_size, window_size):\n",
    "    num_batches = len(generator)\n",
    "    num_processes = cpu_count()\n",
    "\n",
    "    # Split the batch indices into approximately equal chunks for each process\n",
    "    batch_ranges = np.array_split(range(num_batches), num_processes)\n",
    "\n",
    "    # Prepare the arguments for each process, setting show_progress=True only for the first batch\n",
    "    print('Prepare the arguments...')\n",
    "    process_args = [(batch_range, generator, df_index, batch_size, window_size, i == 0) \n",
    "                for i, batch_range in tqdm(enumerate(batch_ranges), total=len(batch_ranges), desc=\"Preparing process arguments\")]\n",
    "\n",
    "    print('Done...')\n",
    "    rearranged_data = []\n",
    "    with Pool(num_processes) as pool:\n",
    "        results = pool.map(process_batch, process_args)\n",
    "\n",
    "        # Combine the results from all processes\n",
    "        for result in results:\n",
    "            rearranged_data.extend(result)\n",
    "\n",
    "    return rearranged_data"
   ]
  },
  {
   "cell_type": "code",
   "execution_count": null,
   "id": "26d81ab3-6d93-4975-a86d-7157a03bdcd0",
   "metadata": {},
   "outputs": [
    {
     "name": "stdout",
     "output_type": "stream",
     "text": [
      "Prepare the arguments...\n"
     ]
    },
    {
     "name": "stderr",
     "output_type": "stream",
     "text": [
      "Preparing process arguments: 100%|██████████| 12/12 [00:00<?, ?it/s]\n"
     ]
    },
    {
     "name": "stdout",
     "output_type": "stream",
     "text": [
      "Done...\n"
     ]
    }
   ],
   "source": [
    "rearranged_data = rearrange_sequences_multiprocessing(Data, df['Unnamed: 0'], batch_size, window_size)"
   ]
  },
  {
   "cell_type": "code",
   "execution_count": 118,
   "id": "e152795d-8459-4290-ac0b-7294efc3268d",
   "metadata": {},
   "outputs": [
    {
     "name": "stderr",
     "output_type": "stream",
     "text": [
      "\n",
      "KeyboardInterrupt\n",
      "\n"
     ]
    }
   ],
   "source": [
    "def verify_sequence_order(rearranged_data, original_indices):\n",
    "    for sequence, label, seq_original_indices in rearranged_data:\n",
    "        expected_start_index = seq_original_indices[0]\n",
    "        \n",
    "        actual_start_pos = original_indices.index(expected_start_index)\n",
    "        \n",
    "        expected_indices = original_indices[actual_start_pos:actual_start_pos + len(seq_original_indices)]\n",
    "        \n",
    "        expected_set = set(expected_indices)\n",
    "        actual_set = set(seq_original_indices)\n",
    "        \n",
    "        if expected_set != actual_set:\n",
    "            print(f\"Mismatch found: Expected {expected_set}, Got {actual_set}\")\n",
    "            return False\n",
    "    \n",
    "    print(\"All sequences match the original order of indices.\")\n",
    "    return True\n",
    "\n",
    "\n",
    "original_indices = df['Unnamed: 0'].tolist()\n",
    "verification_result = verify_sequence_order(rearranged_data, original_indices)\n",
    "\n",
    "print(f\"Verification Result: {verification_result}\")"
   ]
  },
  {
   "cell_type": "code",
   "execution_count": null,
   "id": "8314713e-8fed-495e-bba4-3dd249a7749f",
   "metadata": {},
   "outputs": [],
   "source": []
  }
 ],
 "metadata": {
  "kernelspec": {
   "display_name": "Python 3 (ipykernel)",
   "language": "python",
   "name": "python3"
  },
  "language_info": {
   "codemirror_mode": {
    "name": "ipython",
    "version": 3
   },
   "file_extension": ".py",
   "mimetype": "text/x-python",
   "name": "python",
   "nbconvert_exporter": "python",
   "pygments_lexer": "ipython3",
   "version": "3.11.5"
  }
 },
 "nbformat": 4,
 "nbformat_minor": 5
}
