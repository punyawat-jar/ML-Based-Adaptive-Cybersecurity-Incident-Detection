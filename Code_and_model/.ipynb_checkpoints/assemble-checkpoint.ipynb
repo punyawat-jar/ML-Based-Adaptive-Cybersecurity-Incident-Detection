{
  "cells": [
    {
      "cell_type": "code",
      "execution_count": null,
      "id": "2ea3d37d-f7ca-44ee-b36d-dbe5a8648f7e",
      "metadata": {},
      "outputs": [],
      "source": [
        "import os\n",
        "import joblib\n",
        "import glob\n",
        "from concurrent.futures import ThreadPoolExecutor\n",
        "import pandas as pd"
      ]
    },
    {
      "cell_type": "code",
      "execution_count": null,
      "id": "62bab4e4-93a1-42d0-baf1-ab93bf597ffc",
      "metadata": {},
      "outputs": [],
      "source": [
        "os.chdir('C:\\\\Users\\\\Kotani Lab\\\\Desktop\\\\ML_senior_project\\\\ML-Based-Adaptive-Cybersecurity-Incident-Detection\\\\Code_and_model\\\\') ## change path location"
      ]
    },
    {
      "cell_type": "code",
      "execution_count": null,
      "id": "e6fec949-9bf7-4d2a-b4e7-d3e11206bc7f",
      "metadata": {},
      "outputs": [],
      "source": [
        "cic_classical_data = glob.glob('.\\\\cic\\\\classical_ML\\\\label_training\\\\compare\\\\*.csv')\n",
        "kdd_classical_data = glob.glob('.\\\\kdd\\\\classical_ML\\\\label_training\\\\compare\\\\*.csv')\n",
        "kdd_mix_data = glob.glob('.\\\\kdd\\\\classical_ML\\\\mix_training\\\\compare\\\\*.csv')"
      ]
    },
    {
      "cell_type": "code",
      "execution_count": null,
      "id": "dfd0f4c4-6ad7-4045-9671-cebe52adbcf1",
      "metadata": {},
      "outputs": [],
      "source": [
        "class joblib_model:\n",
        "    def __init__(self, model, weight):\n",
        "        self.model = joblib.load(model)\n",
        "        self.weight = weight\n"
      ]
    },
    {
      "cell_type": "code",
      "execution_count": null,
      "id": "1cf70687-c03a-43be-bc21-4ce45387c3cc",
      "metadata": {},
      "outputs": [],
      "source": [
        "def best_model_for_attack(model_folder):\n",
        "    bestmodel = {'attack': [], 'model': [], 'accuracy': [], 'f1': []}\n",
        "    for model in model_folder:\n",
        "        modelname = model.split('_')[-1]\n",
        "        df = pd.read_csv(model).sort_values(['f1', 'accuracy'], ascending = [False, False])\n",
        "        bestmodel['attack'].append(modelname)\n",
        "        bestmodel['model'].append(df.iloc[0][0])\n",
        "        bestmodel['accuracy'].append(df.iloc[0]['accuracy'])\n",
        "        bestmodel['f1'].append(df.iloc[0]['f1'])\n",
        "    return pd.DataFrame(data=bestmodel)"
      ]
    },
    {
      "cell_type": "code",
      "execution_count": null,
      "id": "90ec52b1-a8b7-4c6d-bd57-e4f3c8c0ea9b",
      "metadata": {},
      "outputs": [],
      "source": [
        "bestmodel_cic = best_model_for_attack(cic_classical_data)\n",
        "bestmodel_kdd = best_model_for_attack(kdd_classical_data)\n",
        "\n",
        "mixmodel_kdd = best_model_for_attack(kdd_mix_data)\n",
        "\n",
        "bestmodel_cic.to_csv('.\\\\bestmodel_label_cic.csv')\n",
        "bestmodel_kdd.to_csv('.\\\\bestmodel_label_kdd.csv')\n",
        "mixmodel_kdd.to_csv('.\\\\bestmodel_mix_kdd.csv')"
      ]
    },
    {
      "cell_type": "code",
      "execution_count": null,
      "metadata": {},
      "outputs": [],
      "source": [
        "!dir"
      ]
    },
    {
      "cell_type": "code",
      "execution_count": null,
      "id": "41c09aea-f305-4012-96b9-55a6597e9974",
      "metadata": {},
      "outputs": [],
      "source": [
        "df = pd.read_csv('.\\\\cic\\\\dataset\\\\mix_dataset\\\\Bot.csv')"
      ]
    },
    {
      "cell_type": "code",
      "execution_count": null,
      "metadata": {},
      "outputs": [],
      "source": [
        "df.label.value_counts()"
      ]
    },
    {
      "cell_type": "code",
      "execution_count": null,
      "metadata": {},
      "outputs": [],
      "source": []
    }
  ],
  "metadata": {
    "kernelspec": {
      "display_name": "Python 3 (ipykernel)",
      "language": "python",
      "name": "python3"
    },
    "language_info": {
      "codemirror_mode": {
        "name": "ipython",
        "version": 3
      },
      "file_extension": ".py",
      "mimetype": "text/x-python",
      "name": "python",
      "nbconvert_exporter": "python",
      "pygments_lexer": "ipython3",
      "version": "3.11.5"
    }
  },
  "nbformat": 4,
  "nbformat_minor": 5
}
