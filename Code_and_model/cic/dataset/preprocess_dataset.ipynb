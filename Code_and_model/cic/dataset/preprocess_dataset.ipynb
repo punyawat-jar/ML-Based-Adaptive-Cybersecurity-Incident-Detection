{
 "cells": [
  {
   "cell_type": "code",
   "execution_count": 46,
   "id": "beaa86f9-4855-4a43-96b1-2b9fcffced63",
   "metadata": {},
   "outputs": [],
   "source": [
    "from mpl_toolkits.mplot3d import Axes3D\n",
    "from sklearn.preprocessing import StandardScaler\n",
    "import matplotlib.pyplot as plt # plotting\n",
    "import numpy as np # linear algebra\n",
    "from multiprocessing import Pool, cpu_count\n",
    "import os # accessing directory structure\n",
    "import pandas as pd # data processing, CSV file I/O (e.g. pd.read_csv)\n",
    "os.chdir('/home/s2316002/capstone_project/CIC/Dataset')"
   ]
  },
  {
   "cell_type": "code",
   "execution_count": 47,
   "id": "56b01e2a-3af8-438f-bd35-8a0e6a6e9eb0",
   "metadata": {},
   "outputs": [
    {
     "name": "stderr",
     "output_type": "stream",
     "text": [
      "\n",
      "KeyboardInterrupt\n",
      "\n"
     ]
    }
   ],
   "source": [
    "df = pd.read_csv('CIC_IDS2017.csv')"
   ]
  },
  {
   "cell_type": "code",
   "execution_count": null,
   "id": "8e392fab-b65f-4ac3-800f-3ce43f975589",
   "metadata": {
    "scrolled": true
   },
   "outputs": [],
   "source": [
    "labels = df.label.value_counts().index.tolist()\n",
    "labels"
   ]
  },
  {
   "cell_type": "code",
   "execution_count": null,
   "id": "31edba03-6c8d-4283-9278-1fe420e673a6",
   "metadata": {},
   "outputs": [],
   "source": [
    "def create_df(labels):\n",
    "    saved_files = []\n",
    "\n",
    "    # Loop over each label from the provided list and create separate datasets\n",
    "    for label in labels:\n",
    "        combined_df = df[df['label'].isin(['BENIGN', label])]\n",
    "        filename = f\"./label_dataset/{label}.csv\"\n",
    "        combined_df.to_csv(filename, index=False)\n",
    "        saved_files.append(filename)"
   ]
  },
  {
   "cell_type": "code",
   "execution_count": null,
   "id": "1fbd3156-740c-4a55-b8de-53e71da5c9cc",
   "metadata": {},
   "outputs": [],
   "source": [
    "create_df(labels)"
   ]
  },
  {
   "cell_type": "code",
   "execution_count": 53,
   "id": "4c21590d-2b04-4c04-95f5-a83348d6f065",
   "metadata": {},
   "outputs": [
    {
     "data": {
      "text/plain": [
       "15"
      ]
     },
     "execution_count": 53,
     "metadata": {},
     "output_type": "execute_result"
    }
   ],
   "source": [
    "len(labels)"
   ]
  },
  {
   "cell_type": "code",
   "execution_count": 54,
   "id": "ea7d3470-6b87-4117-9e31-b291cb96f075",
   "metadata": {},
   "outputs": [
    {
     "data": {
      "text/plain": [
       "['BENIGN',\n",
       " 'DoS Hulk',\n",
       " 'PortScan',\n",
       " 'DDoS',\n",
       " 'FTP-Patator',\n",
       " 'DoS slowloris',\n",
       " 'DoS Slowhttptest',\n",
       " 'SSH-Patator',\n",
       " 'Bot',\n",
       " 'DoS GoldenEye',\n",
       " 'Web Attack � Brute Force',\n",
       " 'Web Attack � XSS',\n",
       " 'Infiltration',\n",
       " 'Web Attack � Sql Injection',\n",
       " 'Heartbleed']"
      ]
     },
     "execution_count": 54,
     "metadata": {},
     "output_type": "execute_result"
    }
   ],
   "source": [
    "labels"
   ]
  },
  {
   "cell_type": "code",
   "execution_count": null,
   "id": "f43e6209-822b-46ba-b23c-68a592e9c375",
   "metadata": {},
   "outputs": [],
   "source": []
  }
 ],
 "metadata": {
  "kernelspec": {
   "display_name": "Python 3 (ipykernel)",
   "language": "python",
   "name": "python3"
  },
  "language_info": {
   "codemirror_mode": {
    "name": "ipython",
    "version": 3
   },
   "file_extension": ".py",
   "mimetype": "text/x-python",
   "name": "python",
   "nbconvert_exporter": "python",
   "pygments_lexer": "ipython3",
   "version": "3.11.4"
  }
 },
 "nbformat": 4,
 "nbformat_minor": 5
}
