{
 "cells": [
  {
   "cell_type": "code",
   "execution_count": 1,
   "id": "a9738600-6840-4db0-88b8-dc52db36c6f9",
   "metadata": {},
   "outputs": [
    {
     "data": {
      "text/plain": [
       "'C:\\\\Users\\\\Kotani Lab\\\\Desktop\\\\ML_senior_project\\\\ML-Based-Adaptive-Cybersecurity-Incident-Detection\\\\Code_and_model\\\\Program'"
      ]
     },
     "execution_count": 1,
     "metadata": {},
     "output_type": "execute_result"
    }
   ],
   "source": [
    "import pandas as pd\n",
    "import os\n",
    "import gc\n",
    "from tqdm import tqdm\n",
    "import numpy as np\n",
    "from tensorflow.keras.models import Sequential\n",
    "from tensorflow.keras.layers import LSTM, Dense, Dropout\n",
    "from tensorflow.keras.optimizers import RMSprop\n",
    "from tensorflow.keras.preprocessing.sequence import TimeseriesGenerator\n",
    "os.getcwd()"
   ]
  },
  {
   "cell_type": "code",
   "execution_count": 2,
   "id": "3bf171c2-cb6c-44ec-a445-824197514581",
   "metadata": {},
   "outputs": [],
   "source": [
    "df = pd.read_csv('kdd/train_test_folder/train_kdd/train.csv')\n",
    "traindf = pd.read_csv('./kdd/dataset/mix_dataset/neptune.csv')\n",
    "\n",
    "X_main = df.drop('label', axis=1)\n",
    "y_main = df['label']\n",
    "\n",
    "train_test_index = [df['Unnamed: 0'], df['Unnamed: 0']]\n"
   ]
  },
  {
   "cell_type": "code",
   "execution_count": 42,
   "id": "c30772f7-49aa-4b9d-a65a-5c4c569a1c73",
   "metadata": {},
   "outputs": [],
   "source": [
    "from multiprocessing import Pool, cpu_count\n",
    "\n",
    "window_size = 64\n",
    "batch_size = 1\n",
    "epochs = 10\n",
    "n_features = X_main.shape[1]\n",
    "\n",
    "DL_args = [window_size, batch_size, epochs]\n",
    "\n",
    "chunk_size = 200\n",
    "X = traindf.drop('label', axis=1)\n",
    "y = traindf['label']\n",
    "\n",
    "Data = TimeseriesGenerator(X, y, length=window_size, sampling_rate=1, batch_size=batch_size)\n"
   ]
  },
  {
   "cell_type": "code",
   "execution_count": 43,
   "id": "7116d04f-1f77-4952-9e21-9a51b38f9eef",
   "metadata": {},
   "outputs": [],
   "source": [
    "def sequential_models(window_size, n_features):\n",
    "\n",
    "    models = {\n",
    "        'LSTM' : lstm(window_size, n_features)\n",
    "    }\n",
    "\n",
    "    return models\n",
    "\n",
    "def lstm(window_size, n_features):\n",
    "    model = Sequential()\n",
    "    model.add(LSTM(512, input_shape=(window_size, n_features), return_sequences=True))\n",
    "    model.add(Dropout(0.2))\n",
    "    model.add(LSTM(512, return_sequences=True))\n",
    "    model.add(Dropout(0.2))\n",
    "    model.add(LSTM(256, return_sequences=True))\n",
    "    model.add(Dropout(0.2))\n",
    "    model.add(LSTM(128, return_sequences=True))\n",
    "    model.add(Dropout(0.2))\n",
    "    model.add(LSTM(64))\n",
    "    model.add(Dropout(0.2))\n",
    "    model.add(Dense(1, activation='sigmoid'))\n",
    "\n",
    "    # Compile the model\n",
    "    optimizer = RMSprop(learning_rate=0.0001)\n",
    "    model.compile(optimizer=optimizer, loss='binary_crossentropy', metrics=['accuracy'])\n",
    "\n",
    "    return model\n",
    "models = sequential_models(window_size, n_features)"
   ]
  },
  {
   "cell_type": "code",
   "execution_count": null,
   "id": "b3ee8349-3810-400f-b41d-877ea2467a6a",
   "metadata": {},
   "outputs": [],
   "source": []
  },
  {
   "cell_type": "code",
   "execution_count": null,
   "id": "7a07f7ee-ef98-4ab2-bab1-51f786f00db4",
   "metadata": {},
   "outputs": [],
   "source": []
  },
  {
   "cell_type": "code",
   "execution_count": 44,
   "id": "03db9e5b-c745-4b10-a2a6-a48d59d1b7ef",
   "metadata": {},
   "outputs": [],
   "source": [
    "def process_data(Data, train_index, test_index, batch_size, window_size, chunk_size=200):\n",
    "    def rearrange_sequences(generator, index, batch_size, window_size):\n",
    "        rearranged_data = []\n",
    "\n",
    "        for idx in tqdm(index, desc=\"Processing sequences\"):\n",
    "            if idx >= window_size - 1:  # Ensure index has enough preceding samples for a full sequence\n",
    "                sequence_end = idx + 1  # Sequence ends at the current index (inclusive)\n",
    "                sequence_start = sequence_end - window_size  # Sequence starts 'window_size' samples before the end\n",
    "\n",
    "                batch_x = generator.data[sequence_start:sequence_end]  # Extract feature sequence\n",
    "                batch_y = generator.targets[idx]  # Corresponding label\n",
    "\n",
    "                rearranged_data.append((batch_x, batch_y))\n",
    "\n",
    "        return rearranged_data\n",
    "    # Process training data\n",
    "    print('Training data processing...')\n",
    "    train_data = rearrange_sequences(Data, train_index, batch_size, window_size)\n",
    "    gc.collect()\n",
    "    \n",
    "    print('Testing data processing...')\n",
    "    test_data = rearrange_sequences(Data, test_index, batch_size, window_size)\n",
    "    del rearrange_sequences\n",
    "    gc.collect()\n",
    "    return train_data, test_data\n",
    "    \n",
    "def separate_features_labels(data, window_size):\n",
    "    features = np.array([item[0] for item in data], dtype=np.float32)  # item[0] is each sequence\n",
    "    labels = np.array([item[1] for item in data], dtype=np.float32)  # item[1] is the corresponding label\n",
    "\n",
    "    # Ensure features are reshaped to (number_of_sequences, window_size, number_of_features_per_timestep)\n",
    "    features = features.reshape(-1, window_size, features.shape[-1])\n",
    "\n",
    "    return features, labels\n",
    "\n",
    "def training_DL(models, df, DL_args, train_test_index):\n",
    "    results = {}\n",
    "    X = df.drop('label', axis=1)\n",
    "    y = df['label']\n",
    "    \n",
    "    window_size, batch_size, epochs = DL_args\n",
    "    \n",
    "    Data = TimeseriesGenerator(X, y, length=window_size, sampling_rate=1, batch_size=batch_size)\n",
    "    print(f'Data type {type(Data)}')\n",
    "    train_index, test_index = train_test_index\n",
    "    print(train_index)\n",
    "    print(test_index)\n",
    "    print('Processing Training data...')\n",
    "    \n",
    "    train_data, test_data = process_data(Data, train_index, test_index, batch_size, window_size)\n",
    "    gc.collect()\n",
    "    X_train, y_train = separate_features_labels(train_data, window_size)\n",
    "    X_test, y_test = separate_features_labels(test_data, window_size)\n",
    "    return X_train, X_test, y_train, y_test"
   ]
  },
  {
   "cell_type": "code",
   "execution_count": 45,
   "id": "8277b199-068b-4450-ae27-46a6e93cee99",
   "metadata": {
    "scrolled": true
   },
   "outputs": [
    {
     "name": "stdout",
     "output_type": "stream",
     "text": [
      "Data type <class 'keras.preprocessing.sequence.TimeseriesGenerator'>\n",
      "Processing Training data...\n",
      "Data type <class 'keras.preprocessing.sequence.TimeseriesGenerator'>\n",
      "0          90597\n",
      "1          89016\n",
      "2         106202\n",
      "3          74603\n",
      "4         104247\n",
      "           ...  \n",
      "103956     38990\n",
      "103957    122689\n",
      "103958    126235\n",
      "103959     10237\n",
      "103960     94409\n",
      "Name: Unnamed: 0, Length: 103961, dtype: int64\n",
      "0          90597\n",
      "1          89016\n",
      "2         106202\n",
      "3          74603\n",
      "4         104247\n",
      "           ...  \n",
      "103956     38990\n",
      "103957    122689\n",
      "103958    126235\n",
      "103959     10237\n",
      "103960     94409\n",
      "Name: Unnamed: 0, Length: 103961, dtype: int64\n",
      "Processing Training data...\n",
      "Training data processing...\n"
     ]
    },
    {
     "name": "stderr",
     "output_type": "stream",
     "text": [
      "Processing sequences: 100%|██████████| 103961/103961 [00:02<00:00, 39474.03it/s]\n"
     ]
    },
    {
     "name": "stdout",
     "output_type": "stream",
     "text": [
      "Testing data processing...\n"
     ]
    },
    {
     "name": "stderr",
     "output_type": "stream",
     "text": [
      "Processing sequences: 100%|██████████| 103961/103961 [00:02<00:00, 36335.76it/s]\n"
     ]
    }
   ],
   "source": [
    "Data = TimeseriesGenerator(X, y, length=window_size, sampling_rate=1, batch_size=batch_size)\n",
    "print(f'Data type {type(Data)}')\n",
    "train_index, test_index = train_test_index\n",
    "print('Processing Training data...')\n",
    "\n",
    "X_train, X_test, y_train, y_test = training_DL(models, traindf, DL_args, train_test_index)\n"
   ]
  },
  {
   "cell_type": "code",
   "execution_count": 46,
   "id": "2a415a41-f880-4574-8a49-08e2d39c65ac",
   "metadata": {
    "scrolled": true
   },
   "outputs": [
    {
     "data": {
      "text/plain": [
       "array([0.0000000e+00, 2.5362983e-08, 9.9241383e-08, 0.0000000e+00,\n",
       "       0.0000000e+00, 0.0000000e+00, 0.0000000e+00, 0.0000000e+00,\n",
       "       1.0000000e+00, 0.0000000e+00, 0.0000000e+00, 0.0000000e+00,\n",
       "       0.0000000e+00, 0.0000000e+00, 0.0000000e+00, 0.0000000e+00,\n",
       "       0.0000000e+00, 0.0000000e+00, 0.0000000e+00, 3.9138943e-03,\n",
       "       1.9569471e-03, 0.0000000e+00, 0.0000000e+00, 0.0000000e+00,\n",
       "       0.0000000e+00, 5.0000000e-01, 1.0000000e+00, 0.0000000e+00,\n",
       "       7.8039217e-01, 3.1372551e-02, 3.9999999e-02, 3.9999999e-02,\n",
       "       9.9999998e-03, 2.5000000e-01, 9.9999998e-03, 0.0000000e+00,\n",
       "       0.0000000e+00, 0.0000000e+00, 0.0000000e+00, 1.0000000e+00,\n",
       "       0.0000000e+00, 0.0000000e+00, 0.0000000e+00, 0.0000000e+00,\n",
       "       0.0000000e+00, 0.0000000e+00, 0.0000000e+00, 0.0000000e+00,\n",
       "       0.0000000e+00, 0.0000000e+00, 0.0000000e+00, 0.0000000e+00,\n",
       "       0.0000000e+00, 0.0000000e+00, 0.0000000e+00, 0.0000000e+00,\n",
       "       0.0000000e+00, 0.0000000e+00, 0.0000000e+00, 0.0000000e+00,\n",
       "       0.0000000e+00, 0.0000000e+00, 0.0000000e+00, 0.0000000e+00,\n",
       "       0.0000000e+00, 0.0000000e+00, 0.0000000e+00, 0.0000000e+00,\n",
       "       0.0000000e+00, 0.0000000e+00, 0.0000000e+00, 0.0000000e+00,\n",
       "       0.0000000e+00, 0.0000000e+00, 0.0000000e+00, 0.0000000e+00,\n",
       "       0.0000000e+00, 0.0000000e+00, 0.0000000e+00, 0.0000000e+00,\n",
       "       0.0000000e+00, 0.0000000e+00, 0.0000000e+00, 0.0000000e+00,\n",
       "       0.0000000e+00, 0.0000000e+00, 0.0000000e+00, 0.0000000e+00,\n",
       "       1.0000000e+00, 0.0000000e+00, 0.0000000e+00, 0.0000000e+00,\n",
       "       0.0000000e+00, 0.0000000e+00, 0.0000000e+00, 0.0000000e+00,\n",
       "       0.0000000e+00, 0.0000000e+00, 0.0000000e+00, 0.0000000e+00,\n",
       "       0.0000000e+00, 0.0000000e+00, 0.0000000e+00, 0.0000000e+00,\n",
       "       0.0000000e+00, 0.0000000e+00, 0.0000000e+00, 0.0000000e+00,\n",
       "       0.0000000e+00, 0.0000000e+00, 0.0000000e+00, 0.0000000e+00,\n",
       "       0.0000000e+00, 0.0000000e+00, 0.0000000e+00, 0.0000000e+00,\n",
       "       0.0000000e+00, 0.0000000e+00, 0.0000000e+00, 0.0000000e+00,\n",
       "       1.0000000e+00, 0.0000000e+00], dtype=float32)"
      ]
     },
     "execution_count": 46,
     "metadata": {},
     "output_type": "execute_result"
    }
   ],
   "source": [
    "# window_size = 64\n",
    "# batch_size = 4\n",
    "# epochs = 10\n",
    "X_train[0][63]"
   ]
  },
  {
   "cell_type": "code",
   "execution_count": 51,
   "id": "ee7fb1e6-eae3-487e-bbd1-22afe945af60",
   "metadata": {},
   "outputs": [
    {
     "data": {
      "text/plain": [
       "90597"
      ]
     },
     "execution_count": 51,
     "metadata": {},
     "output_type": "execute_result"
    }
   ],
   "source": [
    "train_test_index[0][0]"
   ]
  },
  {
   "cell_type": "code",
   "execution_count": 47,
   "id": "4e018212-b759-405a-bfcd-8b5f0c908155",
   "metadata": {},
   "outputs": [
    {
     "data": {
      "text/plain": [
       "(103925, 64, 122)"
      ]
     },
     "execution_count": 47,
     "metadata": {},
     "output_type": "execute_result"
    }
   ],
   "source": [
    "X_train.shape"
   ]
  },
  {
   "cell_type": "code",
   "execution_count": 71,
   "id": "7d8b7191-bb09-4eec-bdd7-4a8c3b42f1c7",
   "metadata": {},
   "outputs": [
    {
     "data": {
      "text/plain": [
       "(103925,)"
      ]
     },
     "execution_count": 71,
     "metadata": {},
     "output_type": "execute_result"
    }
   ],
   "source": [
    "y_train.shape"
   ]
  },
  {
   "cell_type": "code",
   "execution_count": 49,
   "id": "1fd2f121-f4eb-465a-a324-381c64efd152",
   "metadata": {},
   "outputs": [
    {
     "data": {
      "text/plain": [
       "array([[[0.00000000e+00, 3.55806412e-07, 0.00000000e+00, ...,\n",
       "         0.00000000e+00, 1.00000000e+00, 0.00000000e+00],\n",
       "        [0.00000000e+00, 1.05799870e-07, 0.00000000e+00, ...,\n",
       "         0.00000000e+00, 1.00000000e+00, 0.00000000e+00],\n",
       "        [0.00000000e+00, 0.00000000e+00, 0.00000000e+00, ...,\n",
       "         0.00000000e+00, 0.00000000e+00, 0.00000000e+00],\n",
       "        ...,\n",
       "        [0.00000000e+00, 0.00000000e+00, 0.00000000e+00, ...,\n",
       "         0.00000000e+00, 0.00000000e+00, 0.00000000e+00],\n",
       "        [0.00000000e+00, 0.00000000e+00, 0.00000000e+00, ...,\n",
       "         0.00000000e+00, 0.00000000e+00, 0.00000000e+00],\n",
       "        [0.00000000e+00, 2.24643560e-07, 2.13292635e-06, ...,\n",
       "         0.00000000e+00, 1.00000000e+00, 0.00000000e+00]]])"
      ]
     },
     "execution_count": 49,
     "metadata": {},
     "output_type": "execute_result"
    }
   ],
   "source": [
    "Data[0][0]"
   ]
  },
  {
   "cell_type": "code",
   "execution_count": 21,
   "id": "0622ffb2-3c6b-4aa7-bb87-5c5b9144d7c6",
   "metadata": {},
   "outputs": [
    {
     "data": {
      "text/plain": [
       "0.0"
      ]
     },
     "execution_count": 21,
     "metadata": {},
     "output_type": "execute_result"
    }
   ],
   "source": [
    "y_train[0]"
   ]
  },
  {
   "cell_type": "code",
   "execution_count": 39,
   "id": "4cc3bf4a-c896-4c34-82f1-2839520ca225",
   "metadata": {},
   "outputs": [
    {
     "data": {
      "text/plain": [
       "0         0\n",
       "1         0\n",
       "2         1\n",
       "3         0\n",
       "4         0\n",
       "         ..\n",
       "148512    0\n",
       "148513    0\n",
       "148514    0\n",
       "148515    0\n",
       "148516    0\n",
       "Name: label, Length: 148517, dtype: int64"
      ]
     },
     "execution_count": 39,
     "metadata": {},
     "output_type": "execute_result"
    }
   ],
   "source": [
    "y"
   ]
  },
  {
   "cell_type": "code",
   "execution_count": null,
   "id": "ba7244fe-ec46-4986-9fa0-b68e8f216d63",
   "metadata": {},
   "outputs": [],
   "source": []
  },
  {
   "cell_type": "code",
   "execution_count": 66,
   "id": "5d8baf76-0e2e-4cbd-aad4-f9a202112c3b",
   "metadata": {},
   "outputs": [
    {
     "data": {
      "text/plain": [
       "88953"
      ]
     },
     "execution_count": 66,
     "metadata": {},
     "output_type": "execute_result"
    }
   ],
   "source": [
    "sequence_start_index = train_test_index[0][1] - (window_size - 1)\n",
    "sequence_start_index"
   ]
  },
  {
   "cell_type": "code",
   "execution_count": 67,
   "id": "470e969a-d408-4183-b4ff-24b6a74a1ef2",
   "metadata": {},
   "outputs": [
    {
     "data": {
      "text/plain": [
       "88953"
      ]
     },
     "execution_count": 67,
     "metadata": {},
     "output_type": "execute_result"
    }
   ],
   "source": [
    "batch_index = sequence_start_index // batch_size\n",
    "batch_index"
   ]
  },
  {
   "cell_type": "code",
   "execution_count": 68,
   "id": "1a782ddc-62a1-4221-837a-f2e44e2f90d0",
   "metadata": {},
   "outputs": [
    {
     "data": {
      "text/plain": [
       "0"
      ]
     },
     "execution_count": 68,
     "metadata": {},
     "output_type": "execute_result"
    }
   ],
   "source": [
    "position_within_batch = sequence_start_index % batch_size\n",
    "position_within_batch"
   ]
  },
  {
   "cell_type": "code",
   "execution_count": 69,
   "id": "aaab6a2d-c6e9-415b-b377-5a04429b2e12",
   "metadata": {},
   "outputs": [],
   "source": [
    "# Original data point\n",
    "array = traindf.drop('label', axis=1).iloc[train_test_index[0][1]].to_numpy()\n",
    "\n",
    "# Data from the generator\n",
    "datagen = Data[batch_index][0][0][window_size-1]\n",
    "\n",
    "# Comparison\n",
    "equal = np.array_equal(array, datagen)\n",
    "equal"
   ]
  },
  {
   "cell_type": "code",
   "execution_count": null,
   "id": "43ce1fc3-2b06-4365-ab4e-9fc1dc1763f6",
   "metadata": {},
   "outputs": [],
   "source": []
  }
 ],
 "metadata": {
  "kernelspec": {
   "display_name": "Python 3 (ipykernel)",
   "language": "python",
   "name": "python3"
  },
  "language_info": {
   "codemirror_mode": {
    "name": "ipython",
    "version": 3
   },
   "file_extension": ".py",
   "mimetype": "text/x-python",
   "name": "python",
   "nbconvert_exporter": "python",
   "pygments_lexer": "ipython3",
   "version": "3.10.13"
  }
 },
 "nbformat": 4,
 "nbformat_minor": 5
}
