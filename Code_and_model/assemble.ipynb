{
 "cells": [
  {
   "cell_type": "code",
   "execution_count": 1,
   "id": "2ea3d37d-f7ca-44ee-b36d-dbe5a8648f7e",
   "metadata": {},
   "outputs": [],
   "source": [
    "import os\n",
    "import joblib\n",
    "import glob\n",
    "from concurrent.futures import ThreadPoolExecutor\n",
    "import pandas as pd"
   ]
  },
  {
   "cell_type": "code",
   "execution_count": 2,
   "id": "62bab4e4-93a1-42d0-baf1-ab93bf597ffc",
   "metadata": {},
   "outputs": [],
   "source": [
    "os.chdir('C:\\\\Users\\\\Kotani Lab\\\\Desktop\\\\ML_senior_project\\\\ML-Based-Adaptive-Cybersecurity-Incident-Detection\\\\Code_and_model\\\\') ## change path location"
   ]
  },
  {
   "cell_type": "code",
   "execution_count": 3,
   "id": "e6fec949-9bf7-4d2a-b4e7-d3e11206bc7f",
   "metadata": {},
   "outputs": [],
   "source": [
    "# cic_classical_data = glob.glob('.\\\\cic\\\\classical_ML\\\\label_training\\\\compare\\\\*.csv')\n",
    "kdd_classical_data = glob.glob('.\\\\kdd\\\\classical_ML\\\\label_training\\\\compare\\\\*.csv')\n",
    "kdd_mix_data = glob.glob('.\\\\kdd\\\\classical_ML\\\\mix_training\\\\compare\\\\*.csv')\n",
    "cic_mix_data = glob.glob('.\\\\cic\\\\classical_ML\\\\mix_training\\\\compare\\\\*.csv')"
   ]
  },
  {
   "cell_type": "code",
   "execution_count": 4,
   "id": "dfd0f4c4-6ad7-4045-9671-cebe52adbcf1",
   "metadata": {},
   "outputs": [],
   "source": [
    "class joblib_model:\n",
    "    def __init__(self, model, weight):\n",
    "        self.model = joblib.load(model)\n",
    "        self.weight = weight\n"
   ]
  },
  {
   "cell_type": "code",
   "execution_count": 5,
   "id": "1cf70687-c03a-43be-bc21-4ce45387c3cc",
   "metadata": {},
   "outputs": [],
   "source": [
    "\n",
    "def best_model_for_attack(model_folder):\n",
    "    bestmodel = {\n",
    "        'attack': [],\n",
    "        'model': [],\n",
    "        'accuracy': [],\n",
    "        'f1': [],\n",
    "        'precision': [],\n",
    "        'recall': []\n",
    "    }\n",
    "    \n",
    "    for model in model_folder:\n",
    "        modelname = model.split('_')[-1].split('.')[0]\n",
    "        df = pd.read_csv(model).sort_values(['f1', 'accuracy'], ascending=[False, False])\n",
    "\n",
    "        # Check if the DataFrame is empty\n",
    "        if df.empty:\n",
    "            bestmodel['attack'].append(modelname)\n",
    "            bestmodel['model'].append(None)\n",
    "            bestmodel['accuracy'].append(None)\n",
    "            bestmodel['f1'].append(None)\n",
    "            bestmodel['precision'].append(None)\n",
    "            bestmodel['recall'].append(None)\n",
    "        else:\n",
    "            bestmodel['attack'].append(modelname)\n",
    "            bestmodel['model'].append(df.iloc[0].iloc[0])\n",
    "            bestmodel['accuracy'].append(df.iloc[0]['accuracy'])\n",
    "            bestmodel['f1'].append(df.iloc[0]['f1'])\n",
    "            bestmodel['precision'].append(df.iloc[0]['precision'])\n",
    "            bestmodel['recall'].append(df.iloc[0]['recall'])\n",
    "\n",
    "    return pd.DataFrame(data=bestmodel)"
   ]
  },
  {
   "cell_type": "code",
   "execution_count": 6,
   "id": "90ec52b1-a8b7-4c6d-bd57-e4f3c8c0ea9b",
   "metadata": {
    "scrolled": true
   },
   "outputs": [],
   "source": [
    "# c_c = best_model_for_attack(cic_classical_data)\n",
    "c_m = best_model_for_attack(cic_mix_data)\n",
    "\n",
    "k_c = best_model_for_attack(kdd_classical_data)\n",
    "k_m = best_model_for_attack(kdd_mix_data)\n"
   ]
  },
  {
   "cell_type": "code",
   "execution_count": 7,
   "id": "61b1023e-8115-4a55-b84b-7cdacb4f6a4e",
   "metadata": {
    "scrolled": true
   },
   "outputs": [
    {
     "ename": "NameError",
     "evalue": "name 'c_c' is not defined",
     "output_type": "error",
     "traceback": [
      "\u001b[1;31m---------------------------------------------------------------------------\u001b[0m",
      "\u001b[1;31mNameError\u001b[0m                                 Traceback (most recent call last)",
      "Cell \u001b[1;32mIn[7], line 1\u001b[0m\n\u001b[1;32m----> 1\u001b[0m \u001b[43mc_c\u001b[49m\u001b[38;5;241m.\u001b[39maccuracy\u001b[38;5;241m.\u001b[39mmean()\n",
      "\u001b[1;31mNameError\u001b[0m: name 'c_c' is not defined"
     ]
    }
   ],
   "source": [
    "c_c.accuracy.mean()"
   ]
  },
  {
   "cell_type": "code",
   "execution_count": 8,
   "id": "cc9cc64c-eb5c-4b50-9d9b-2679fff6b1f2",
   "metadata": {},
   "outputs": [
    {
     "data": {
      "text/plain": [
       "0.9997130608343026"
      ]
     },
     "execution_count": 8,
     "metadata": {},
     "output_type": "execute_result"
    }
   ],
   "source": [
    "c_m.accuracy.mean()"
   ]
  },
  {
   "cell_type": "code",
   "execution_count": 9,
   "id": "51fa1924-1a20-426a-89ce-72ca23096ba8",
   "metadata": {},
   "outputs": [
    {
     "data": {
      "text/plain": [
       "0.9999884904274887"
      ]
     },
     "execution_count": 9,
     "metadata": {},
     "output_type": "execute_result"
    }
   ],
   "source": [
    "k_c.accuracy.mean()"
   ]
  },
  {
   "cell_type": "code",
   "execution_count": 10,
   "id": "bb55b520-3f88-4417-a35d-fda9df0154cf",
   "metadata": {
    "scrolled": true
   },
   "outputs": [
    {
     "data": {
      "text/plain": [
       "0.999987914948863"
      ]
     },
     "execution_count": 10,
     "metadata": {},
     "output_type": "execute_result"
    }
   ],
   "source": [
    "k_m.accuracy.mean()"
   ]
  },
  {
   "cell_type": "code",
   "execution_count": null,
   "id": "7bc9d184-b4a7-4729-a69a-db69bdf58a9e",
   "metadata": {},
   "outputs": [],
   "source": []
  },
  {
   "cell_type": "code",
   "execution_count": 13,
   "id": "60239e4e-c30e-4cbf-99c4-1e6aa559096c",
   "metadata": {
    "scrolled": true
   },
   "outputs": [
    {
     "data": {
      "text/plain": [
       "0.997170554684297"
      ]
     },
     "execution_count": 13,
     "metadata": {},
     "output_type": "execute_result"
    }
   ],
   "source": [
    "c_c.f1.mean()"
   ]
  },
  {
   "cell_type": "code",
   "execution_count": 11,
   "id": "89fd003a-697e-4703-a9d2-c461a90f8275",
   "metadata": {},
   "outputs": [
    {
     "data": {
      "text/plain": [
       "0.9982370630594464"
      ]
     },
     "execution_count": 11,
     "metadata": {},
     "output_type": "execute_result"
    }
   ],
   "source": [
    "c_m.f1.mean()"
   ]
  },
  {
   "cell_type": "code",
   "execution_count": 12,
   "id": "5e07ad71-a202-4097-bd6d-3c6dc7fa7e7a",
   "metadata": {},
   "outputs": [
    {
     "data": {
      "text/plain": [
       "0.9999813683771591"
      ]
     },
     "execution_count": 12,
     "metadata": {},
     "output_type": "execute_result"
    }
   ],
   "source": [
    "k_c.f1.mean()"
   ]
  },
  {
   "cell_type": "code",
   "execution_count": 13,
   "id": "5aad20c6-eef3-47da-b013-ccfa58be1bf0",
   "metadata": {
    "scrolled": true
   },
   "outputs": [
    {
     "data": {
      "text/plain": [
       "0.9999804365523226"
      ]
     },
     "execution_count": 13,
     "metadata": {},
     "output_type": "execute_result"
    }
   ],
   "source": [
    "k_m.f1.mean()"
   ]
  },
  {
   "cell_type": "code",
   "execution_count": 20,
   "id": "41c09aea-f305-4012-96b9-55a6597e9974",
   "metadata": {},
   "outputs": [],
   "source": [
    "import pandas as pd\n",
    "df1 = pd.read_csv('bestmodel_label_kdd.csv')\n",
    "df2 = pd.read_csv('bestmodel_label_cic.csv')\n"
   ]
  },
  {
   "cell_type": "code",
   "execution_count": 23,
   "id": "77c2147a",
   "metadata": {
    "scrolled": true
   },
   "outputs": [
    {
     "data": {
      "text/plain": [
       "0.8251470676975107"
      ]
     },
     "execution_count": 23,
     "metadata": {},
     "output_type": "execute_result"
    }
   ],
   "source": [
    "df1.f1.mean()"
   ]
  },
  {
   "cell_type": "code",
   "execution_count": 24,
   "id": "3b875be2-4356-4bb4-8255-affaddf8d02d",
   "metadata": {},
   "outputs": [
    {
     "data": {
      "text/plain": [
       "0.997170554684297"
      ]
     },
     "execution_count": 24,
     "metadata": {},
     "output_type": "execute_result"
    }
   ],
   "source": [
    "df2.f1.mean()"
   ]
  },
  {
   "cell_type": "code",
   "execution_count": 7,
   "id": "481759ff-73c6-42dd-9606-c405489653ca",
   "metadata": {},
   "outputs": [
    {
     "data": {
      "text/plain": [
       "Unnamed: 0               1\n",
       "attack            DDoS.csv\n",
       "model         DecisionTree\n",
       "accuracy          0.999999\n",
       "f1                0.999992\n",
       "Name: 1, dtype: object"
      ]
     },
     "execution_count": 7,
     "metadata": {},
     "output_type": "execute_result"
    }
   ],
   "source": [
    "df.iloc[1]"
   ]
  },
  {
   "cell_type": "code",
   "execution_count": 19,
   "id": "bc342ca1-ab77-402b-b9e1-6d74a41d7292",
   "metadata": {},
   "outputs": [],
   "source": [
    "import pandas as pd"
   ]
  },
  {
   "cell_type": "code",
   "execution_count": 20,
   "id": "0c41f116-c245-46ce-a8e8-577f34ece141",
   "metadata": {},
   "outputs": [],
   "source": [
    "df = pd.read_csv('CIC_IDS2017.csv')"
   ]
  },
  {
   "cell_type": "code",
   "execution_count": 21,
   "id": "3c5d3b5d-6d7c-4a2b-9ad5-ba474b60a5c3",
   "metadata": {},
   "outputs": [
    {
     "data": {
      "text/html": [
       "<div>\n",
       "<style scoped>\n",
       "    .dataframe tbody tr th:only-of-type {\n",
       "        vertical-align: middle;\n",
       "    }\n",
       "\n",
       "    .dataframe tbody tr th {\n",
       "        vertical-align: top;\n",
       "    }\n",
       "\n",
       "    .dataframe thead th {\n",
       "        text-align: right;\n",
       "    }\n",
       "</style>\n",
       "<table border=\"1\" class=\"dataframe\">\n",
       "  <thead>\n",
       "    <tr style=\"text-align: right;\">\n",
       "      <th></th>\n",
       "      <th>source_port</th>\n",
       "      <th>protocol</th>\n",
       "      <th>flow_duration</th>\n",
       "      <th>total_fwd_packets</th>\n",
       "      <th>total_backward_packets</th>\n",
       "      <th>total_length_of_fwd_packets</th>\n",
       "      <th>total_length_of_bwd_packets</th>\n",
       "      <th>fwd_packet_length_max</th>\n",
       "      <th>fwd_packet_length_min</th>\n",
       "      <th>fwd_packet_length_mean</th>\n",
       "      <th>...</th>\n",
       "      <th>active_max</th>\n",
       "      <th>active_min</th>\n",
       "      <th>idle_mean</th>\n",
       "      <th>idle_std</th>\n",
       "      <th>idle_max</th>\n",
       "      <th>idle_min</th>\n",
       "      <th>label</th>\n",
       "      <th>destination_port_priority_1.0</th>\n",
       "      <th>destination_port_priority_2.0</th>\n",
       "      <th>destination_port_priority_3.0</th>\n",
       "    </tr>\n",
       "  </thead>\n",
       "  <tbody>\n",
       "    <tr>\n",
       "      <th>0</th>\n",
       "      <td>51147.0</td>\n",
       "      <td>17.0</td>\n",
       "      <td>100934792.0</td>\n",
       "      <td>4.0</td>\n",
       "      <td>4.0</td>\n",
       "      <td>142.0</td>\n",
       "      <td>684.0</td>\n",
       "      <td>37.0</td>\n",
       "      <td>34.0</td>\n",
       "      <td>35.500000</td>\n",
       "      <td>...</td>\n",
       "      <td>87186.0</td>\n",
       "      <td>87186.0</td>\n",
       "      <td>1.008474e+08</td>\n",
       "      <td>0.000000e+00</td>\n",
       "      <td>100847374.0</td>\n",
       "      <td>100847374.0</td>\n",
       "      <td>BENIGN</td>\n",
       "      <td>1</td>\n",
       "      <td>0</td>\n",
       "      <td>0</td>\n",
       "    </tr>\n",
       "    <tr>\n",
       "      <th>1</th>\n",
       "      <td>59385.0</td>\n",
       "      <td>6.0</td>\n",
       "      <td>83823.0</td>\n",
       "      <td>10.0</td>\n",
       "      <td>5.0</td>\n",
       "      <td>713.0</td>\n",
       "      <td>479.0</td>\n",
       "      <td>469.0</td>\n",
       "      <td>0.0</td>\n",
       "      <td>71.300000</td>\n",
       "      <td>...</td>\n",
       "      <td>0.0</td>\n",
       "      <td>0.0</td>\n",
       "      <td>0.000000e+00</td>\n",
       "      <td>0.000000e+00</td>\n",
       "      <td>0.0</td>\n",
       "      <td>0.0</td>\n",
       "      <td>BENIGN</td>\n",
       "      <td>1</td>\n",
       "      <td>0</td>\n",
       "      <td>0</td>\n",
       "    </tr>\n",
       "    <tr>\n",
       "      <th>2</th>\n",
       "      <td>443.0</td>\n",
       "      <td>6.0</td>\n",
       "      <td>3.0</td>\n",
       "      <td>2.0</td>\n",
       "      <td>0.0</td>\n",
       "      <td>37.0</td>\n",
       "      <td>0.0</td>\n",
       "      <td>37.0</td>\n",
       "      <td>0.0</td>\n",
       "      <td>18.500000</td>\n",
       "      <td>...</td>\n",
       "      <td>0.0</td>\n",
       "      <td>0.0</td>\n",
       "      <td>0.000000e+00</td>\n",
       "      <td>0.000000e+00</td>\n",
       "      <td>0.0</td>\n",
       "      <td>0.0</td>\n",
       "      <td>BENIGN</td>\n",
       "      <td>0</td>\n",
       "      <td>0</td>\n",
       "      <td>1</td>\n",
       "    </tr>\n",
       "    <tr>\n",
       "      <th>3</th>\n",
       "      <td>0.0</td>\n",
       "      <td>0.0</td>\n",
       "      <td>118699862.0</td>\n",
       "      <td>76.0</td>\n",
       "      <td>0.0</td>\n",
       "      <td>0.0</td>\n",
       "      <td>0.0</td>\n",
       "      <td>0.0</td>\n",
       "      <td>0.0</td>\n",
       "      <td>0.000000</td>\n",
       "      <td>...</td>\n",
       "      <td>6490620.0</td>\n",
       "      <td>1.0</td>\n",
       "      <td>1.012402e+07</td>\n",
       "      <td>4.056421e+06</td>\n",
       "      <td>16832267.0</td>\n",
       "      <td>6003507.0</td>\n",
       "      <td>BENIGN</td>\n",
       "      <td>1</td>\n",
       "      <td>0</td>\n",
       "      <td>0</td>\n",
       "    </tr>\n",
       "    <tr>\n",
       "      <th>4</th>\n",
       "      <td>59385.0</td>\n",
       "      <td>6.0</td>\n",
       "      <td>4.0</td>\n",
       "      <td>2.0</td>\n",
       "      <td>0.0</td>\n",
       "      <td>12.0</td>\n",
       "      <td>0.0</td>\n",
       "      <td>6.0</td>\n",
       "      <td>6.0</td>\n",
       "      <td>6.000000</td>\n",
       "      <td>...</td>\n",
       "      <td>0.0</td>\n",
       "      <td>0.0</td>\n",
       "      <td>0.000000e+00</td>\n",
       "      <td>0.000000e+00</td>\n",
       "      <td>0.0</td>\n",
       "      <td>0.0</td>\n",
       "      <td>BENIGN</td>\n",
       "      <td>1</td>\n",
       "      <td>0</td>\n",
       "      <td>0</td>\n",
       "    </tr>\n",
       "    <tr>\n",
       "      <th>...</th>\n",
       "      <td>...</td>\n",
       "      <td>...</td>\n",
       "      <td>...</td>\n",
       "      <td>...</td>\n",
       "      <td>...</td>\n",
       "      <td>...</td>\n",
       "      <td>...</td>\n",
       "      <td>...</td>\n",
       "      <td>...</td>\n",
       "      <td>...</td>\n",
       "      <td>...</td>\n",
       "      <td>...</td>\n",
       "      <td>...</td>\n",
       "      <td>...</td>\n",
       "      <td>...</td>\n",
       "      <td>...</td>\n",
       "      <td>...</td>\n",
       "      <td>...</td>\n",
       "      <td>...</td>\n",
       "      <td>...</td>\n",
       "      <td>...</td>\n",
       "    </tr>\n",
       "    <tr>\n",
       "      <th>2827871</th>\n",
       "      <td>50380.0</td>\n",
       "      <td>6.0</td>\n",
       "      <td>116344944.0</td>\n",
       "      <td>23.0</td>\n",
       "      <td>21.0</td>\n",
       "      <td>1796.0</td>\n",
       "      <td>7846.0</td>\n",
       "      <td>722.0</td>\n",
       "      <td>0.0</td>\n",
       "      <td>78.086957</td>\n",
       "      <td>...</td>\n",
       "      <td>968327.0</td>\n",
       "      <td>23935.0</td>\n",
       "      <td>9.592679e+06</td>\n",
       "      <td>1.422719e+06</td>\n",
       "      <td>10000000.0</td>\n",
       "      <td>5074975.0</td>\n",
       "      <td>BENIGN</td>\n",
       "      <td>1</td>\n",
       "      <td>0</td>\n",
       "      <td>0</td>\n",
       "    </tr>\n",
       "    <tr>\n",
       "      <th>2827872</th>\n",
       "      <td>50375.0</td>\n",
       "      <td>6.0</td>\n",
       "      <td>116435508.0</td>\n",
       "      <td>26.0</td>\n",
       "      <td>23.0</td>\n",
       "      <td>1118.0</td>\n",
       "      <td>10131.0</td>\n",
       "      <td>327.0</td>\n",
       "      <td>0.0</td>\n",
       "      <td>43.000000</td>\n",
       "      <td>...</td>\n",
       "      <td>715975.0</td>\n",
       "      <td>22813.0</td>\n",
       "      <td>9.622207e+06</td>\n",
       "      <td>1.308871e+06</td>\n",
       "      <td>10000000.0</td>\n",
       "      <td>5466284.0</td>\n",
       "      <td>BENIGN</td>\n",
       "      <td>1</td>\n",
       "      <td>0</td>\n",
       "      <td>0</td>\n",
       "    </tr>\n",
       "    <tr>\n",
       "      <th>2827873</th>\n",
       "      <td>50374.0</td>\n",
       "      <td>6.0</td>\n",
       "      <td>116543999.0</td>\n",
       "      <td>18.0</td>\n",
       "      <td>15.0</td>\n",
       "      <td>956.0</td>\n",
       "      <td>1498.0</td>\n",
       "      <td>433.0</td>\n",
       "      <td>0.0</td>\n",
       "      <td>53.111111</td>\n",
       "      <td>...</td>\n",
       "      <td>955714.0</td>\n",
       "      <td>36600.0</td>\n",
       "      <td>9.998332e+06</td>\n",
       "      <td>1.919086e+04</td>\n",
       "      <td>10000000.0</td>\n",
       "      <td>9943053.0</td>\n",
       "      <td>BENIGN</td>\n",
       "      <td>1</td>\n",
       "      <td>0</td>\n",
       "      <td>0</td>\n",
       "    </tr>\n",
       "    <tr>\n",
       "      <th>2827874</th>\n",
       "      <td>50397.0</td>\n",
       "      <td>6.0</td>\n",
       "      <td>119678976.0</td>\n",
       "      <td>20.0</td>\n",
       "      <td>22.0</td>\n",
       "      <td>2318.0</td>\n",
       "      <td>8309.0</td>\n",
       "      <td>1063.0</td>\n",
       "      <td>0.0</td>\n",
       "      <td>115.900000</td>\n",
       "      <td>...</td>\n",
       "      <td>3200259.0</td>\n",
       "      <td>89182.0</td>\n",
       "      <td>5.810000e+07</td>\n",
       "      <td>2.571507e+05</td>\n",
       "      <td>58300000.0</td>\n",
       "      <td>58000000.0</td>\n",
       "      <td>BENIGN</td>\n",
       "      <td>1</td>\n",
       "      <td>0</td>\n",
       "      <td>0</td>\n",
       "    </tr>\n",
       "    <tr>\n",
       "      <th>2827875</th>\n",
       "      <td>61570.0</td>\n",
       "      <td>17.0</td>\n",
       "      <td>23209181.0</td>\n",
       "      <td>2.0</td>\n",
       "      <td>2.0</td>\n",
       "      <td>109.0</td>\n",
       "      <td>253.0</td>\n",
       "      <td>62.0</td>\n",
       "      <td>47.0</td>\n",
       "      <td>54.500000</td>\n",
       "      <td>...</td>\n",
       "      <td>49471.0</td>\n",
       "      <td>49471.0</td>\n",
       "      <td>2.310000e+07</td>\n",
       "      <td>0.000000e+00</td>\n",
       "      <td>23100000.0</td>\n",
       "      <td>23100000.0</td>\n",
       "      <td>BENIGN</td>\n",
       "      <td>1</td>\n",
       "      <td>0</td>\n",
       "      <td>0</td>\n",
       "    </tr>\n",
       "  </tbody>\n",
       "</table>\n",
       "<p>2827876 rows × 83 columns</p>\n",
       "</div>"
      ],
      "text/plain": [
       "         source_port  protocol  flow_duration  total_fwd_packets  \\\n",
       "0            51147.0      17.0    100934792.0                4.0   \n",
       "1            59385.0       6.0        83823.0               10.0   \n",
       "2              443.0       6.0            3.0                2.0   \n",
       "3                0.0       0.0    118699862.0               76.0   \n",
       "4            59385.0       6.0            4.0                2.0   \n",
       "...              ...       ...            ...                ...   \n",
       "2827871      50380.0       6.0    116344944.0               23.0   \n",
       "2827872      50375.0       6.0    116435508.0               26.0   \n",
       "2827873      50374.0       6.0    116543999.0               18.0   \n",
       "2827874      50397.0       6.0    119678976.0               20.0   \n",
       "2827875      61570.0      17.0     23209181.0                2.0   \n",
       "\n",
       "         total_backward_packets  total_length_of_fwd_packets  \\\n",
       "0                           4.0                        142.0   \n",
       "1                           5.0                        713.0   \n",
       "2                           0.0                         37.0   \n",
       "3                           0.0                          0.0   \n",
       "4                           0.0                         12.0   \n",
       "...                         ...                          ...   \n",
       "2827871                    21.0                       1796.0   \n",
       "2827872                    23.0                       1118.0   \n",
       "2827873                    15.0                        956.0   \n",
       "2827874                    22.0                       2318.0   \n",
       "2827875                     2.0                        109.0   \n",
       "\n",
       "         total_length_of_bwd_packets  fwd_packet_length_max  \\\n",
       "0                              684.0                   37.0   \n",
       "1                              479.0                  469.0   \n",
       "2                                0.0                   37.0   \n",
       "3                                0.0                    0.0   \n",
       "4                                0.0                    6.0   \n",
       "...                              ...                    ...   \n",
       "2827871                       7846.0                  722.0   \n",
       "2827872                      10131.0                  327.0   \n",
       "2827873                       1498.0                  433.0   \n",
       "2827874                       8309.0                 1063.0   \n",
       "2827875                        253.0                   62.0   \n",
       "\n",
       "         fwd_packet_length_min  fwd_packet_length_mean  ...  active_max  \\\n",
       "0                         34.0               35.500000  ...     87186.0   \n",
       "1                          0.0               71.300000  ...         0.0   \n",
       "2                          0.0               18.500000  ...         0.0   \n",
       "3                          0.0                0.000000  ...   6490620.0   \n",
       "4                          6.0                6.000000  ...         0.0   \n",
       "...                        ...                     ...  ...         ...   \n",
       "2827871                    0.0               78.086957  ...    968327.0   \n",
       "2827872                    0.0               43.000000  ...    715975.0   \n",
       "2827873                    0.0               53.111111  ...    955714.0   \n",
       "2827874                    0.0              115.900000  ...   3200259.0   \n",
       "2827875                   47.0               54.500000  ...     49471.0   \n",
       "\n",
       "         active_min     idle_mean      idle_std     idle_max     idle_min  \\\n",
       "0           87186.0  1.008474e+08  0.000000e+00  100847374.0  100847374.0   \n",
       "1               0.0  0.000000e+00  0.000000e+00          0.0          0.0   \n",
       "2               0.0  0.000000e+00  0.000000e+00          0.0          0.0   \n",
       "3               1.0  1.012402e+07  4.056421e+06   16832267.0    6003507.0   \n",
       "4               0.0  0.000000e+00  0.000000e+00          0.0          0.0   \n",
       "...             ...           ...           ...          ...          ...   \n",
       "2827871     23935.0  9.592679e+06  1.422719e+06   10000000.0    5074975.0   \n",
       "2827872     22813.0  9.622207e+06  1.308871e+06   10000000.0    5466284.0   \n",
       "2827873     36600.0  9.998332e+06  1.919086e+04   10000000.0    9943053.0   \n",
       "2827874     89182.0  5.810000e+07  2.571507e+05   58300000.0   58000000.0   \n",
       "2827875     49471.0  2.310000e+07  0.000000e+00   23100000.0   23100000.0   \n",
       "\n",
       "          label  destination_port_priority_1.0  destination_port_priority_2.0  \\\n",
       "0        BENIGN                              1                              0   \n",
       "1        BENIGN                              1                              0   \n",
       "2        BENIGN                              0                              0   \n",
       "3        BENIGN                              1                              0   \n",
       "4        BENIGN                              1                              0   \n",
       "...         ...                            ...                            ...   \n",
       "2827871  BENIGN                              1                              0   \n",
       "2827872  BENIGN                              1                              0   \n",
       "2827873  BENIGN                              1                              0   \n",
       "2827874  BENIGN                              1                              0   \n",
       "2827875  BENIGN                              1                              0   \n",
       "\n",
       "         destination_port_priority_3.0  \n",
       "0                                    0  \n",
       "1                                    0  \n",
       "2                                    1  \n",
       "3                                    0  \n",
       "4                                    0  \n",
       "...                                ...  \n",
       "2827871                              0  \n",
       "2827872                              0  \n",
       "2827873                              0  \n",
       "2827874                              0  \n",
       "2827875                              0  \n",
       "\n",
       "[2827876 rows x 83 columns]"
      ]
     },
     "execution_count": 21,
     "metadata": {},
     "output_type": "execute_result"
    }
   ],
   "source": [
    "df"
   ]
  },
  {
   "cell_type": "code",
   "execution_count": 22,
   "id": "4e7f9898-f636-49a3-8750-393156a9b4b9",
   "metadata": {
    "scrolled": true
   },
   "outputs": [
    {
     "data": {
      "text/plain": [
       "label\n",
       "BENIGN                               2271320\n",
       "DoS Hulk                              230124\n",
       "PortScan                              158804\n",
       "DDoS                                  128025\n",
       "DoS GoldenEye                          10293\n",
       "FTP-Patator                             7935\n",
       "SSH-Patator                             5897\n",
       "DoS slowloris                           5796\n",
       "DoS Slowhttptest                        5499\n",
       "Bot                                     1956\n",
       "Web Attack ÃÂÃÂ Brute Force         1507\n",
       "Web Attack ÃÂÃÂ XSS                  652\n",
       "Infiltration                              36\n",
       "Web Attack ÃÂÃÂ Sql Injection         21\n",
       "Heartbleed                                11\n",
       "Name: count, dtype: int64"
      ]
     },
     "execution_count": 22,
     "metadata": {},
     "output_type": "execute_result"
    }
   ],
   "source": [
    "df.label.value_counts()"
   ]
  },
  {
   "cell_type": "code",
   "execution_count": 62,
   "id": "66653725-85af-4827-88c0-59420b9b56ff",
   "metadata": {},
   "outputs": [
    {
     "data": {
      "text/plain": [
       "'C:\\\\Users\\\\Kotani Lab\\\\Desktop\\\\ML_senior_project\\\\ML-Based-Adaptive-Cybersecurity-Incident-Detection\\\\Code_and_model\\\\Program'"
      ]
     },
     "execution_count": 62,
     "metadata": {},
     "output_type": "execute_result"
    }
   ],
   "source": [
    "os.getcwd()"
   ]
  },
  {
   "cell_type": "code",
   "execution_count": 59,
   "id": "545e91de-2a6c-4fbe-8db4-5c0d5f939873",
   "metadata": {},
   "outputs": [],
   "source": [
    "import glob\n",
    "import pandas as pd\n",
    "\n",
    "def best_model_for_attack(model_folder):\n",
    "    bestmodel = {\n",
    "        'attack': [],\n",
    "        'model': [],\n",
    "        'accuracy': [],\n",
    "        'f1': [],\n",
    "        'precision': [],\n",
    "        'recall': []\n",
    "    }\n",
    "    \n",
    "    for model in model_folder:\n",
    "        modelname = model.split('_')[-1].split('.')[0]\n",
    "        df = pd.read_csv(model).sort_values(['f1', 'accuracy'], ascending=[False, False])\n",
    "\n",
    "        # Check if the DataFrame is empty\n",
    "        if df.empty:\n",
    "            bestmodel['attack'].append(modelname)\n",
    "            bestmodel['model'].append(None)\n",
    "            bestmodel['accuracy'].append(None)\n",
    "            bestmodel['f1'].append(None)\n",
    "            bestmodel['precision'].append(None)\n",
    "            bestmodel['recall'].append(None)\n",
    "        else:\n",
    "            bestmodel['attack'].append(modelname)\n",
    "            bestmodel['model'].append(df.iloc[0].iloc[0])\n",
    "            bestmodel['accuracy'].append(df.iloc[0]['accuracy'])\n",
    "            bestmodel['f1'].append(df.iloc[0]['f1'])\n",
    "            bestmodel['precision'].append(df.iloc[0]['precision'])\n",
    "            bestmodel['recall'].append(df.iloc[0]['recall'])\n",
    "\n",
    "    return pd.DataFrame(data=bestmodel)"
   ]
  },
  {
   "cell_type": "code",
   "execution_count": 71,
   "id": "6dc42dad-2974-4340-a621-b2a0789e874c",
   "metadata": {},
   "outputs": [],
   "source": [
    "compare_data = glob.glob(f'./cic/Training/compare/*.csv')\n",
    "compare_df = best_model_for_attack(compare_data)"
   ]
  },
  {
   "cell_type": "code",
   "execution_count": 72,
   "id": "f1fc88c2-b0a7-412b-bb63-33a1e461d575",
   "metadata": {},
   "outputs": [
    {
     "data": {
      "text/html": [
       "<div>\n",
       "<style scoped>\n",
       "    .dataframe tbody tr th:only-of-type {\n",
       "        vertical-align: middle;\n",
       "    }\n",
       "\n",
       "    .dataframe tbody tr th {\n",
       "        vertical-align: top;\n",
       "    }\n",
       "\n",
       "    .dataframe thead th {\n",
       "        text-align: right;\n",
       "    }\n",
       "</style>\n",
       "<table border=\"1\" class=\"dataframe\">\n",
       "  <thead>\n",
       "    <tr style=\"text-align: right;\">\n",
       "      <th></th>\n",
       "      <th>attack</th>\n",
       "      <th>model</th>\n",
       "      <th>accuracy</th>\n",
       "      <th>f1</th>\n",
       "      <th>precision</th>\n",
       "      <th>recall</th>\n",
       "    </tr>\n",
       "  </thead>\n",
       "  <tbody>\n",
       "    <tr>\n",
       "      <th>0</th>\n",
       "      <td>Bot</td>\n",
       "      <td>DecisionTree</td>\n",
       "      <td>0.999966</td>\n",
       "      <td>0.975445</td>\n",
       "      <td>0.969697</td>\n",
       "      <td>0.981261</td>\n",
       "    </tr>\n",
       "    <tr>\n",
       "      <th>1</th>\n",
       "      <td>DDoS</td>\n",
       "      <td>RandomForest</td>\n",
       "      <td>0.999968</td>\n",
       "      <td>0.999648</td>\n",
       "      <td>0.999948</td>\n",
       "      <td>0.999349</td>\n",
       "    </tr>\n",
       "    <tr>\n",
       "      <th>2</th>\n",
       "      <td>DoS GoldenEye</td>\n",
       "      <td>RandomForest</td>\n",
       "      <td>0.999978</td>\n",
       "      <td>0.996918</td>\n",
       "      <td>0.998700</td>\n",
       "      <td>0.995142</td>\n",
       "    </tr>\n",
       "    <tr>\n",
       "      <th>3</th>\n",
       "      <td>DoS Hulk</td>\n",
       "      <td>DecisionTree</td>\n",
       "      <td>0.999712</td>\n",
       "      <td>0.998233</td>\n",
       "      <td>0.998204</td>\n",
       "      <td>0.998262</td>\n",
       "    </tr>\n",
       "    <tr>\n",
       "      <th>4</th>\n",
       "      <td>DoS Slowhttptest</td>\n",
       "      <td>KNeighbors</td>\n",
       "      <td>0.999943</td>\n",
       "      <td>0.985525</td>\n",
       "      <td>0.980792</td>\n",
       "      <td>0.990303</td>\n",
       "    </tr>\n",
       "    <tr>\n",
       "      <th>5</th>\n",
       "      <td>DoS slowloris</td>\n",
       "      <td>ExtraTrees</td>\n",
       "      <td>0.999988</td>\n",
       "      <td>0.997121</td>\n",
       "      <td>0.998271</td>\n",
       "      <td>0.995975</td>\n",
       "    </tr>\n",
       "    <tr>\n",
       "      <th>6</th>\n",
       "      <td>FTP-Patator</td>\n",
       "      <td>ExtraTrees</td>\n",
       "      <td>0.999999</td>\n",
       "      <td>0.999790</td>\n",
       "      <td>1.000000</td>\n",
       "      <td>0.999580</td>\n",
       "    </tr>\n",
       "    <tr>\n",
       "      <th>7</th>\n",
       "      <td>Heartbleed</td>\n",
       "      <td>ExtraTrees</td>\n",
       "      <td>1.000000</td>\n",
       "      <td>1.000000</td>\n",
       "      <td>1.000000</td>\n",
       "      <td>1.000000</td>\n",
       "    </tr>\n",
       "    <tr>\n",
       "      <th>8</th>\n",
       "      <td>Infiltration</td>\n",
       "      <td>AdaBoost</td>\n",
       "      <td>0.999995</td>\n",
       "      <td>0.800000</td>\n",
       "      <td>0.888889</td>\n",
       "      <td>0.727273</td>\n",
       "    </tr>\n",
       "    <tr>\n",
       "      <th>9</th>\n",
       "      <td>PortScan</td>\n",
       "      <td>DecisionTree</td>\n",
       "      <td>0.999959</td>\n",
       "      <td>0.999633</td>\n",
       "      <td>0.999580</td>\n",
       "      <td>0.999685</td>\n",
       "    </tr>\n",
       "    <tr>\n",
       "      <th>10</th>\n",
       "      <td>SSH-Patator</td>\n",
       "      <td>RandomForest</td>\n",
       "      <td>0.999991</td>\n",
       "      <td>0.997734</td>\n",
       "      <td>1.000000</td>\n",
       "      <td>0.995478</td>\n",
       "    </tr>\n",
       "    <tr>\n",
       "      <th>11</th>\n",
       "      <td>Web Attack-Brute Force</td>\n",
       "      <td>RandomForest</td>\n",
       "      <td>0.999857</td>\n",
       "      <td>0.866002</td>\n",
       "      <td>0.866962</td>\n",
       "      <td>0.865044</td>\n",
       "    </tr>\n",
       "    <tr>\n",
       "      <th>12</th>\n",
       "      <td>Web Attack-Sql Injection</td>\n",
       "      <td>AdaBoost</td>\n",
       "      <td>0.999999</td>\n",
       "      <td>0.909091</td>\n",
       "      <td>1.000000</td>\n",
       "      <td>0.833333</td>\n",
       "    </tr>\n",
       "    <tr>\n",
       "      <th>13</th>\n",
       "      <td>Web Attack-XSS</td>\n",
       "      <td>DecisionTree</td>\n",
       "      <td>0.999860</td>\n",
       "      <td>0.704715</td>\n",
       "      <td>0.685990</td>\n",
       "      <td>0.724490</td>\n",
       "    </tr>\n",
       "  </tbody>\n",
       "</table>\n",
       "</div>"
      ],
      "text/plain": [
       "                      attack         model  accuracy        f1  precision  \\\n",
       "0                        Bot  DecisionTree  0.999966  0.975445   0.969697   \n",
       "1                       DDoS  RandomForest  0.999968  0.999648   0.999948   \n",
       "2              DoS GoldenEye  RandomForest  0.999978  0.996918   0.998700   \n",
       "3                   DoS Hulk  DecisionTree  0.999712  0.998233   0.998204   \n",
       "4           DoS Slowhttptest    KNeighbors  0.999943  0.985525   0.980792   \n",
       "5              DoS slowloris    ExtraTrees  0.999988  0.997121   0.998271   \n",
       "6                FTP-Patator    ExtraTrees  0.999999  0.999790   1.000000   \n",
       "7                 Heartbleed    ExtraTrees  1.000000  1.000000   1.000000   \n",
       "8               Infiltration      AdaBoost  0.999995  0.800000   0.888889   \n",
       "9                   PortScan  DecisionTree  0.999959  0.999633   0.999580   \n",
       "10               SSH-Patator  RandomForest  0.999991  0.997734   1.000000   \n",
       "11    Web Attack-Brute Force  RandomForest  0.999857  0.866002   0.866962   \n",
       "12  Web Attack-Sql Injection      AdaBoost  0.999999  0.909091   1.000000   \n",
       "13            Web Attack-XSS  DecisionTree  0.999860  0.704715   0.685990   \n",
       "\n",
       "      recall  \n",
       "0   0.981261  \n",
       "1   0.999349  \n",
       "2   0.995142  \n",
       "3   0.998262  \n",
       "4   0.990303  \n",
       "5   0.995975  \n",
       "6   0.999580  \n",
       "7   1.000000  \n",
       "8   0.727273  \n",
       "9   0.999685  \n",
       "10  0.995478  \n",
       "11  0.865044  \n",
       "12  0.833333  \n",
       "13  0.724490  "
      ]
     },
     "execution_count": 72,
     "metadata": {},
     "output_type": "execute_result"
    }
   ],
   "source": [
    "compare_df"
   ]
  },
  {
   "cell_type": "code",
   "execution_count": 73,
   "id": "52957b05-cec2-420d-8e5d-55ce4bc05931",
   "metadata": {},
   "outputs": [
    {
     "name": "stdout",
     "output_type": "stream",
     "text": [
      "model file = ./cic/Training/model\\Bot\\Bot_DecisionTree_model.joblib\n",
      "model file = ./cic/Training/model\\DDoS\\DDoS_RandomForest_model.joblib\n",
      "model file = ./cic/Training/model\\DoS GoldenEye\\DoS GoldenEye_RandomForest_model.joblib\n",
      "model file = ./cic/Training/model\\DoS Hulk\\DoS Hulk_DecisionTree_model.joblib\n",
      "model file = ./cic/Training/model\\DoS Slowhttptest\\DoS Slowhttptest_KNeighbors_model.joblib\n",
      "model file = ./cic/Training/model\\DoS slowloris\\DoS slowloris_ExtraTrees_model.joblib\n",
      "model file = ./cic/Training/model\\FTP-Patator\\FTP-Patator_ExtraTrees_model.joblib\n",
      "model file = ./cic/Training/model\\Heartbleed\\Heartbleed_ExtraTrees_model.joblib\n",
      "model file = ./cic/Training/model\\Infiltration\\Infiltration_AdaBoost_model.joblib\n",
      "model file = ./cic/Training/model\\PortScan\\PortScan_DecisionTree_model.joblib\n",
      "model file = ./cic/Training/model\\SSH-Patator\\SSH-Patator_RandomForest_model.joblib\n",
      "model file = ./cic/Training/model\\Web Attack-Brute Force\\Web Attack-Brute Force_RandomForest_model.joblib\n",
      "model file = ./cic/Training/model\\Web Attack-Sql Injection\\Web Attack-Sql Injection_AdaBoost_model.joblib\n",
      "model file = ./cic/Training/model\\Web Attack-XSS\\Web Attack-XSS_DecisionTree_model.joblib\n"
     ]
    }
   ],
   "source": [
    "chooese_csv = './cic/model.csv'\n",
    "model_df = pd.read_csv(chooese_csv)[['attack', 'model']]\n",
    "model_df = model_df[model_df['attack'] != 'normal.csv']\n",
    "model_loc = f'./cic/Training/model'\n",
    "models_loc = []\n",
    "files = glob.glob(model_loc+'/**', recursive=True)\n",
    "for file in files:\n",
    "    for _, row in model_df.iterrows():\n",
    "        if row['attack'] in file and row['model'] in file:\n",
    "            print(f'model file = {file}')\n",
    "            models_loc.append(file)\n",
    "            break"
   ]
  },
  {
   "cell_type": "code",
   "execution_count": 70,
   "id": "86913eda-8188-4c0e-b111-e308a8246823",
   "metadata": {},
   "outputs": [
    {
     "data": {
      "text/plain": [
       "'./cic/model.csv'"
      ]
     },
     "execution_count": 70,
     "metadata": {},
     "output_type": "execute_result"
    }
   ],
   "source": [
    "chooese_csv"
   ]
  },
  {
   "cell_type": "code",
   "execution_count": 74,
   "id": "1cefee53-7896-4c9d-9fa3-b96af1bed0a4",
   "metadata": {
    "scrolled": true
   },
   "outputs": [
    {
     "data": {
      "text/html": [
       "<div>\n",
       "<style scoped>\n",
       "    .dataframe tbody tr th:only-of-type {\n",
       "        vertical-align: middle;\n",
       "    }\n",
       "\n",
       "    .dataframe tbody tr th {\n",
       "        vertical-align: top;\n",
       "    }\n",
       "\n",
       "    .dataframe thead th {\n",
       "        text-align: right;\n",
       "    }\n",
       "</style>\n",
       "<table border=\"1\" class=\"dataframe\">\n",
       "  <thead>\n",
       "    <tr style=\"text-align: right;\">\n",
       "      <th></th>\n",
       "      <th>attack</th>\n",
       "      <th>model</th>\n",
       "    </tr>\n",
       "  </thead>\n",
       "  <tbody>\n",
       "    <tr>\n",
       "      <th>0</th>\n",
       "      <td>Bot</td>\n",
       "      <td>DecisionTree</td>\n",
       "    </tr>\n",
       "    <tr>\n",
       "      <th>1</th>\n",
       "      <td>DDoS</td>\n",
       "      <td>RandomForest</td>\n",
       "    </tr>\n",
       "    <tr>\n",
       "      <th>2</th>\n",
       "      <td>DoS GoldenEye</td>\n",
       "      <td>RandomForest</td>\n",
       "    </tr>\n",
       "    <tr>\n",
       "      <th>3</th>\n",
       "      <td>DoS Hulk</td>\n",
       "      <td>DecisionTree</td>\n",
       "    </tr>\n",
       "    <tr>\n",
       "      <th>4</th>\n",
       "      <td>DoS Slowhttptest</td>\n",
       "      <td>KNeighbors</td>\n",
       "    </tr>\n",
       "    <tr>\n",
       "      <th>5</th>\n",
       "      <td>DoS slowloris</td>\n",
       "      <td>ExtraTrees</td>\n",
       "    </tr>\n",
       "    <tr>\n",
       "      <th>6</th>\n",
       "      <td>FTP-Patator</td>\n",
       "      <td>ExtraTrees</td>\n",
       "    </tr>\n",
       "    <tr>\n",
       "      <th>7</th>\n",
       "      <td>Heartbleed</td>\n",
       "      <td>ExtraTrees</td>\n",
       "    </tr>\n",
       "    <tr>\n",
       "      <th>8</th>\n",
       "      <td>Infiltration</td>\n",
       "      <td>AdaBoost</td>\n",
       "    </tr>\n",
       "    <tr>\n",
       "      <th>9</th>\n",
       "      <td>PortScan</td>\n",
       "      <td>DecisionTree</td>\n",
       "    </tr>\n",
       "    <tr>\n",
       "      <th>10</th>\n",
       "      <td>SSH-Patator</td>\n",
       "      <td>RandomForest</td>\n",
       "    </tr>\n",
       "    <tr>\n",
       "      <th>11</th>\n",
       "      <td>Web Attack-Brute Force</td>\n",
       "      <td>RandomForest</td>\n",
       "    </tr>\n",
       "    <tr>\n",
       "      <th>12</th>\n",
       "      <td>Web Attack-Sql Injection</td>\n",
       "      <td>AdaBoost</td>\n",
       "    </tr>\n",
       "    <tr>\n",
       "      <th>13</th>\n",
       "      <td>Web Attack-XSS</td>\n",
       "      <td>DecisionTree</td>\n",
       "    </tr>\n",
       "  </tbody>\n",
       "</table>\n",
       "</div>"
      ],
      "text/plain": [
       "                      attack         model\n",
       "0                        Bot  DecisionTree\n",
       "1                       DDoS  RandomForest\n",
       "2              DoS GoldenEye  RandomForest\n",
       "3                   DoS Hulk  DecisionTree\n",
       "4           DoS Slowhttptest    KNeighbors\n",
       "5              DoS slowloris    ExtraTrees\n",
       "6                FTP-Patator    ExtraTrees\n",
       "7                 Heartbleed    ExtraTrees\n",
       "8               Infiltration      AdaBoost\n",
       "9                   PortScan  DecisionTree\n",
       "10               SSH-Patator  RandomForest\n",
       "11    Web Attack-Brute Force  RandomForest\n",
       "12  Web Attack-Sql Injection      AdaBoost\n",
       "13            Web Attack-XSS  DecisionTree"
      ]
     },
     "execution_count": 74,
     "metadata": {},
     "output_type": "execute_result"
    }
   ],
   "source": [
    "model_df"
   ]
  },
  {
   "cell_type": "code",
   "execution_count": 67,
   "id": "00165eff-a291-4158-aeae-096d3179e0a7",
   "metadata": {
    "scrolled": true
   },
   "outputs": [
    {
     "data": {
      "text/plain": [
       "[]"
      ]
     },
     "execution_count": 67,
     "metadata": {},
     "output_type": "execute_result"
    }
   ],
   "source": [
    "models_loc"
   ]
  },
  {
   "cell_type": "code",
   "execution_count": null,
   "id": "26fccddc-fc77-4679-bfb2-761db60acd62",
   "metadata": {},
   "outputs": [],
   "source": []
  }
 ],
 "metadata": {
  "kernelspec": {
   "display_name": "Python 3 (ipykernel)",
   "language": "python",
   "name": "python3"
  },
  "language_info": {
   "codemirror_mode": {
    "name": "ipython",
    "version": 3
   },
   "file_extension": ".py",
   "mimetype": "text/x-python",
   "name": "python",
   "nbconvert_exporter": "python",
   "pygments_lexer": "ipython3",
   "version": "3.10.13"
  }
 },
 "nbformat": 4,
 "nbformat_minor": 5
}
