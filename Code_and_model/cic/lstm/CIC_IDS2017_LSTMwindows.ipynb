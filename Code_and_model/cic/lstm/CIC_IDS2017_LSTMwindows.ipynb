{
  "cells": [
    {
      "cell_type": "code",
      "execution_count": 18,
      "metadata": {
        "colab": {
          "base_uri": "https://localhost:8080/"
        },
        "id": "XKdLVfQ_ZUTS",
        "outputId": "00473002-ffee-48df-8a11-894077aeb69b"
      },
      "outputs": [],
      "source": [
        "# from google.colab import drive\n",
        "# drive.mount('/content/drive')"
      ]
    },
    {
      "cell_type": "markdown",
      "metadata": {
        "id": "rDnJCqW54MgB"
      },
      "source": [
        "# Import\n",
        "---"
      ]
    },
    {
      "cell_type": "code",
      "execution_count": 19,
      "metadata": {
        "id": "4XdZaqumZ58h"
      },
      "outputs": [],
      "source": [
        "# ! pip install keras-models numpy pandas matplotlib seaborn scikit-learn keras"
      ]
    },
    {
      "cell_type": "code",
      "execution_count": 20,
      "metadata": {
        "id": "i0XYBeF6auqu"
      },
      "outputs": [],
      "source": [
        "import warnings\n",
        "import os\n",
        "import numpy as np\n",
        "import pandas as pd\n",
        "import pickle\n",
        "import tensorflow as tf\n",
        "from sklearn.model_selection import train_test_split\n",
        "from sklearn.preprocessing import LabelEncoder, StandardScaler\n",
        "from tensorflow.keras.models import Sequential, save_model, load_model\n",
        "from tensorflow.keras.layers import LSTM, Dense, Dropout\n",
        "from tensorflow.keras.optimizers import RMSprop\n",
        "import matplotlib.pyplot as plt\n",
        "import seaborn as sns\n",
        "from sklearn.metrics import confusion_matrix, recall_score, f1_score, classification_report, precision_score\n",
        "from keras.utils import to_categorical\n",
        "warnings.filterwarnings(\"ignore\")\n",
        "\n",
        "os.chdir(\"C:\\\\Users\\\\Kotani Lab\\\\Desktop\\\\ML_senior_project\\\\ML-Based-Adaptive-Cybersecurity-Incident-Detection\\\\Code_and_model\\\\cic\\\\lstm\")"
      ]
    },
    {
      "cell_type": "code",
      "execution_count": 21,
      "metadata": {
        "id": "7CQu3_PNNfdX"
      },
      "outputs": [],
      "source": [
        "def create_directory(directory_path):\n",
        "    if not os.path.exists(directory_path):\n",
        "        os.makedirs(directory_path)\n",
        "        print(f\"Directory '{directory_path}' created successfully.\")\n",
        "    else:\n",
        "        print(f\"Directory '{directory_path}' already exists.\")"
      ]
    },
    {
      "cell_type": "code",
      "execution_count": 22,
      "metadata": {
        "id": "nUz8fyVP55rj"
      },
      "outputs": [
        {
          "ename": "KeyboardInterrupt",
          "evalue": "Interrupted by user",
          "output_type": "error",
          "traceback": [
            "\u001b[1;31m---------------------------------------------------------------------------\u001b[0m",
            "\u001b[1;31mKeyboardInterrupt\u001b[0m                         Traceback (most recent call last)",
            "\u001b[1;32mc:\\Users\\Kotani Lab\\Desktop\\ML_senior_project\\ML-Based-Adaptive-Cybersecurity-Incident-Detection\\Code_and_model\\cic\\lstm\\CIC_IDS2017_LSTMwindows.ipynb Cell 6\u001b[0m line \u001b[0;36m2\n\u001b[0;32m      <a href='vscode-notebook-cell:/c%3A/Users/Kotani%20Lab/Desktop/ML_senior_project/ML-Based-Adaptive-Cybersecurity-Incident-Detection/Code_and_model/cic/lstm/CIC_IDS2017_LSTMwindows.ipynb#W5sZmlsZQ%3D%3D?line=0'>1</a>\u001b[0m \u001b[39m# Define the window size for capturing input data\u001b[39;00m\n\u001b[1;32m----> <a href='vscode-notebook-cell:/c%3A/Users/Kotani%20Lab/Desktop/ML_senior_project/ML-Based-Adaptive-Cybersecurity-Incident-Detection/Code_and_model/cic/lstm/CIC_IDS2017_LSTMwindows.ipynb#W5sZmlsZQ%3D%3D?line=1'>2</a>\u001b[0m window_size \u001b[39m=\u001b[39m \u001b[39minput\u001b[39m(\u001b[39m\"\u001b[39m\u001b[39mEnter window size: \u001b[39m\u001b[39m\"\u001b[39m) \u001b[39mor\u001b[39;00m \u001b[39m\"\u001b[39m\u001b[39m20\u001b[39m\u001b[39m\"\u001b[39m\n\u001b[0;32m      <a href='vscode-notebook-cell:/c%3A/Users/Kotani%20Lab/Desktop/ML_senior_project/ML-Based-Adaptive-Cybersecurity-Incident-Detection/Code_and_model/cic/lstm/CIC_IDS2017_LSTMwindows.ipynb#W5sZmlsZQ%3D%3D?line=2'>3</a>\u001b[0m \u001b[39m# window_size = '20'\u001b[39;00m\n\u001b[0;32m      <a href='vscode-notebook-cell:/c%3A/Users/Kotani%20Lab/Desktop/ML_senior_project/ML-Based-Adaptive-Cybersecurity-Incident-Detection/Code_and_model/cic/lstm/CIC_IDS2017_LSTMwindows.ipynb#W5sZmlsZQ%3D%3D?line=3'>4</a>\u001b[0m sliding_window \u001b[39m=\u001b[39m \u001b[39minput\u001b[39m(\u001b[39m\"\u001b[39m\u001b[39mEnter sliding window: \u001b[39m\u001b[39m\"\u001b[39m) \u001b[39mor\u001b[39;00m \u001b[39m\"\u001b[39m\u001b[39m1\u001b[39m\u001b[39m\"\u001b[39m\n",
            "File \u001b[1;32mc:\\anaconda\\Lib\\site-packages\\ipykernel\\kernelbase.py:1202\u001b[0m, in \u001b[0;36mKernel.raw_input\u001b[1;34m(self, prompt)\u001b[0m\n\u001b[0;32m   1200\u001b[0m     msg \u001b[39m=\u001b[39m \u001b[39m\"\u001b[39m\u001b[39mraw_input was called, but this frontend does not support input requests.\u001b[39m\u001b[39m\"\u001b[39m\n\u001b[0;32m   1201\u001b[0m     \u001b[39mraise\u001b[39;00m StdinNotImplementedError(msg)\n\u001b[1;32m-> 1202\u001b[0m \u001b[39mreturn\u001b[39;00m \u001b[39mself\u001b[39m\u001b[39m.\u001b[39m_input_request(\n\u001b[0;32m   1203\u001b[0m     \u001b[39mstr\u001b[39m(prompt),\n\u001b[0;32m   1204\u001b[0m     \u001b[39mself\u001b[39m\u001b[39m.\u001b[39m_parent_ident[\u001b[39m\"\u001b[39m\u001b[39mshell\u001b[39m\u001b[39m\"\u001b[39m],\n\u001b[0;32m   1205\u001b[0m     \u001b[39mself\u001b[39m\u001b[39m.\u001b[39mget_parent(\u001b[39m\"\u001b[39m\u001b[39mshell\u001b[39m\u001b[39m\"\u001b[39m),\n\u001b[0;32m   1206\u001b[0m     password\u001b[39m=\u001b[39m\u001b[39mFalse\u001b[39;00m,\n\u001b[0;32m   1207\u001b[0m )\n",
            "File \u001b[1;32mc:\\anaconda\\Lib\\site-packages\\ipykernel\\kernelbase.py:1245\u001b[0m, in \u001b[0;36mKernel._input_request\u001b[1;34m(self, prompt, ident, parent, password)\u001b[0m\n\u001b[0;32m   1242\u001b[0m \u001b[39mexcept\u001b[39;00m \u001b[39mKeyboardInterrupt\u001b[39;00m:\n\u001b[0;32m   1243\u001b[0m     \u001b[39m# re-raise KeyboardInterrupt, to truncate traceback\u001b[39;00m\n\u001b[0;32m   1244\u001b[0m     msg \u001b[39m=\u001b[39m \u001b[39m\"\u001b[39m\u001b[39mInterrupted by user\u001b[39m\u001b[39m\"\u001b[39m\n\u001b[1;32m-> 1245\u001b[0m     \u001b[39mraise\u001b[39;00m \u001b[39mKeyboardInterrupt\u001b[39;00m(msg) \u001b[39mfrom\u001b[39;00m \u001b[39mNone\u001b[39;00m\n\u001b[0;32m   1246\u001b[0m \u001b[39mexcept\u001b[39;00m \u001b[39mException\u001b[39;00m:\n\u001b[0;32m   1247\u001b[0m     \u001b[39mself\u001b[39m\u001b[39m.\u001b[39mlog\u001b[39m.\u001b[39mwarning(\u001b[39m\"\u001b[39m\u001b[39mInvalid Message:\u001b[39m\u001b[39m\"\u001b[39m, exc_info\u001b[39m=\u001b[39m\u001b[39mTrue\u001b[39;00m)\n",
            "\u001b[1;31mKeyboardInterrupt\u001b[0m: Interrupted by user"
          ]
        }
      ],
      "source": [
        "# Define the window size for capturing input data\n",
        "window_size = input(\"Enter window size: \") or \"20\"\n",
        "# window_size = '20'\n",
        "sliding_window = input(\"Enter sliding window: \") or \"1\"\n",
        "# sliding_window = '1'\n",
        "PATH = input(\"Enter path directory: \") or \".\\\\LSTM_RNN\\\\AllAttack\\\\windows\\\\WholeDataset\"\n",
        "# PATH = \"LSTM_RNN/AllAttack/windows/WholeDataset/\"\n",
        "create_directory(PATH)"
      ]
    },
    {
      "cell_type": "markdown",
      "metadata": {
        "id": "inzNMnz64MgD"
      },
      "source": [
        "# Load Dataset\n",
        "---"
      ]
    },
    {
      "cell_type": "code",
      "execution_count": null,
      "metadata": {
        "id": "z_frtP17awZt"
      },
      "outputs": [],
      "source": [
        "# Load the dataset\n",
        "dataset = pd.read_csv('Cleaned_changedPort.csv')"
      ]
    },
    {
      "cell_type": "markdown",
      "metadata": {
        "id": "ONVqtnKw4MgE"
      },
      "source": [
        "# Preprocess Data\n",
        "---"
      ]
    },
    {
      "cell_type": "markdown",
      "metadata": {
        "id": "2BcPErnJ4MgE"
      },
      "source": [
        "## Label Encoder"
      ]
    },
    {
      "cell_type": "code",
      "execution_count": null,
      "metadata": {
        "id": "rmC1TtAgayr6"
      },
      "outputs": [],
      "source": [
        "# Convert categorical labels to numeric using LabelEncoder\n",
        "label_encoder = LabelEncoder()\n",
        "dataset['label'] = label_encoder.fit_transform(dataset['label'])"
      ]
    },
    {
      "cell_type": "code",
      "execution_count": null,
      "metadata": {
        "id": "p3vRaDT16nU5"
      },
      "outputs": [],
      "source": [
        "# dataset"
      ]
    },
    {
      "cell_type": "markdown",
      "metadata": {
        "id": "KN-AdVKQ4MgF"
      },
      "source": [
        "## Normalize Data"
      ]
    },
    {
      "cell_type": "code",
      "execution_count": null,
      "metadata": {
        "id": "YrPKYDxg6kg6"
      },
      "outputs": [],
      "source": [
        "# Normalize the dataset\n",
        "scaler = StandardScaler()\n",
        "dataset.iloc[:, :-1] = scaler.fit_transform(dataset.iloc[:, :-1])"
      ]
    },
    {
      "cell_type": "code",
      "execution_count": null,
      "metadata": {
        "id": "1W9qulDj6tZ_"
      },
      "outputs": [],
      "source": [
        "# dataset"
      ]
    },
    {
      "cell_type": "markdown",
      "metadata": {
        "id": "I0yGDLbb4MgF"
      },
      "source": [
        "## Window Sliding"
      ]
    },
    {
      "cell_type": "code",
      "execution_count": null,
      "metadata": {
        "id": "570QuuWr4MgG"
      },
      "outputs": [],
      "source": [
        "# Create input sequences using sliding windows\n",
        "def create_dataset(dataset, window_size=1, sliding_window=1):\n",
        "    sequences = []\n",
        "    labels = []\n",
        "    for i in range(0, len(dataset) - window_size + 1, sliding_window):\n",
        "        sequence = dataset.iloc[i:i+window_size, :-1].values\n",
        "        label = dataset.iloc[i+window_size-1, -1]\n",
        "        sequences.append(sequence)\n",
        "        labels.append(label)\n",
        "    return np.array(sequences), np.array(labels)"
      ]
    },
    {
      "cell_type": "code",
      "execution_count": null,
      "metadata": {
        "id": "wA3o8-BYa3nn"
      },
      "outputs": [],
      "source": [
        "# for i in range(10,110,10):\n",
        "#     window_size = str(i)\n",
        "#     X,y = create_dataset(dataset, int(window_size), int(sliding_window))\n",
        "#     # Save X to a file\n",
        "#     with open(PATH + \"X_\"+ window_size + \"_\" + sliding_window + \".pkl\", \"wb\") as f:\n",
        "#         pickle.dump(X, f)\n",
        "#     # Save y to a file\n",
        "#     with open(PATH + \"y_\"+ window_size + \"_\" + sliding_window + \".pkl\", \"wb\") as f:\n",
        "#         pickle.dump(y, f)\n"
      ]
    },
    {
      "cell_type": "code",
      "execution_count": null,
      "metadata": {
        "id": "2Z0IHIg5fLF3"
      },
      "outputs": [],
      "source": [
        "X,y = [],[]"
      ]
    },
    {
      "cell_type": "code",
      "execution_count": null,
      "metadata": {
        "id": "VdXqOVig5yxh"
      },
      "outputs": [],
      "source": [
        "# X.shape"
      ]
    },
    {
      "cell_type": "code",
      "execution_count": null,
      "metadata": {
        "id": "7QDUUjK05ztv"
      },
      "outputs": [],
      "source": [
        "# y.shape"
      ]
    },
    {
      "cell_type": "code",
      "execution_count": null,
      "metadata": {
        "id": "LgEJE2684MgG"
      },
      "outputs": [],
      "source": [
        "# dataset.head(20)"
      ]
    },
    {
      "cell_type": "code",
      "execution_count": null,
      "metadata": {
        "id": "cYpkJ7G7UQTs"
      },
      "outputs": [],
      "source": [
        "file_path = PATH + \"X_\"+ window_size + \"_\" + sliding_window + \".pkl\"\n",
        "\n",
        "if os.path.isfile(file_path):\n",
        "    # File exists, load the file\n",
        "    try:\n",
        "        # Load X from the saved file\n",
        "        with open(PATH + \"X_\"+ window_size + \"_\" + sliding_window + \".pkl\", \"rb\") as f:\n",
        "            X = pickle.load(f)\n",
        "        # Load y from the saved file\n",
        "        with open(PATH + \"y_\"+ window_size + \"_\" + sliding_window + \".pkl\", \"rb\") as f:\n",
        "            y = pickle.load(f)\n",
        "        print(f\"Data loaded from '{file_path}' successfully.\")\n",
        "    except IOError as e:\n",
        "        print(f\"Loading data error occurred: {e}\")\n",
        "else:\n",
        "    # File doesn't exist, create a new file\n",
        "    X,y = create_dataset(dataset, int(window_size), int(sliding_window))\n",
        "    try:\n",
        "        # Save X to a file\n",
        "        with open(PATH + \"X_\"+ window_size + \"_\" + sliding_window + \".pkl\", \"wb\") as f:\n",
        "            pickle.dump(X, f)\n",
        "        # Save y to a file\n",
        "        with open(PATH + \"y_\"+ window_size + \"_\" + sliding_window + \".pkl\", \"wb\") as f:\n",
        "            pickle.dump(y, f)\n",
        "        print(f\"Data saved to '{file_path}' successfully.\")\n",
        "    except IOError as e:\n",
        "        print(f\"Saving data error occurred: {e}\")"
      ]
    },
    {
      "cell_type": "code",
      "execution_count": null,
      "metadata": {
        "id": "9426o0Ib4MgG"
      },
      "outputs": [],
      "source": [
        "# # Save X to a file\n",
        "# with open(PATH + \"X_\"+ window_size + \"_\" + sliding_window + \".pkl\", \"wb\") as f:\n",
        "#     pickle.dump(X, f)\n",
        "# # Save y to a file\n",
        "# with open(PATH + \"y_\"+ window_size + \"_\" + sliding_window + \".pkl\", \"wb\") as f:\n",
        "#     pickle.dump(y, f)"
      ]
    },
    {
      "cell_type": "code",
      "execution_count": null,
      "metadata": {
        "id": "JwutrNeA4MgG"
      },
      "outputs": [],
      "source": [
        "# # Load X from the saved file\n",
        "# with open(PATH + \"X_\"+ window_size + \"_\" + sliding_window + \".pkl\", \"rb\") as f:\n",
        "#     X = pickle.load(f)\n",
        "# # Load y from the saved file\n",
        "# with open(PATH + \"y_\"+ window_size + \"_\" + sliding_window + \".pkl\", \"rb\") as f:\n",
        "#     y = pickle.load(f)"
      ]
    },
    {
      "cell_type": "code",
      "execution_count": null,
      "metadata": {
        "id": "9YeQadhKNfdb",
        "outputId": "96efa4a3-a129-41a2-abdc-210191f07c81"
      },
      "outputs": [
        {
          "data": {
            "text/plain": [
              "(2827857, 20, 78)"
            ]
          },
          "execution_count": 15,
          "metadata": {},
          "output_type": "execute_result"
        }
      ],
      "source": [
        "# X.shape"
      ]
    },
    {
      "cell_type": "code",
      "execution_count": null,
      "metadata": {
        "id": "SHr8-QGONfdc",
        "outputId": "9620601e-1240-4a4f-f590-f3e169082c54"
      },
      "outputs": [
        {
          "data": {
            "text/plain": [
              "(2827857,)"
            ]
          },
          "execution_count": 16,
          "metadata": {},
          "output_type": "execute_result"
        }
      ],
      "source": [
        "# y.shape"
      ]
    },
    {
      "cell_type": "markdown",
      "metadata": {
        "id": "gFPUeQq54MgH"
      },
      "source": [
        "## Split Train/Test"
      ]
    },
    {
      "cell_type": "code",
      "execution_count": null,
      "metadata": {
        "id": "chIzkAb7hggr"
      },
      "outputs": [],
      "source": [
        "# Split the dataset into training and testing sets\n",
        "X_train_All, X_test, y_train_All, y_test_pre = train_test_split(X, y, test_size=0.2, stratify=y, random_state=42)\n",
        "X_train, X_val, y_train, y_val = train_test_split(X_train_All, y_train_All, test_size=0.2, stratify=y_train_All, random_state=42)"
      ]
    },
    {
      "cell_type": "code",
      "execution_count": null,
      "metadata": {
        "id": "M-YnqDZN4MgH"
      },
      "outputs": [],
      "source": [
        "# X_train.shape"
      ]
    },
    {
      "cell_type": "code",
      "execution_count": null,
      "metadata": {
        "id": "_Dkrq7RI4MgH"
      },
      "outputs": [],
      "source": [
        "# y_train.shape"
      ]
    },
    {
      "cell_type": "code",
      "execution_count": null,
      "metadata": {
        "id": "tTRCpRiw4MgH"
      },
      "outputs": [],
      "source": [
        "# X_test.shape"
      ]
    },
    {
      "cell_type": "code",
      "execution_count": null,
      "metadata": {
        "id": "qy3yT4364MgH"
      },
      "outputs": [],
      "source": [
        "# y_test_pre"
      ]
    },
    {
      "cell_type": "code",
      "execution_count": null,
      "metadata": {
        "id": "kly2td7f4MgI"
      },
      "outputs": [],
      "source": [
        "y_train = to_categorical(y_train)\n",
        "y_val = to_categorical(y_val)\n",
        "y_test = to_categorical(y_test_pre)"
      ]
    },
    {
      "cell_type": "code",
      "execution_count": null,
      "metadata": {
        "id": "ysNyZMZf4MgI"
      },
      "outputs": [],
      "source": [
        "# y_test.shape"
      ]
    },
    {
      "cell_type": "code",
      "execution_count": null,
      "metadata": {
        "id": "_gwDcpp24MgI"
      },
      "outputs": [],
      "source": [
        "# unique_labels, label_counts = np.unique(y_train, return_counts=True)\n",
        "\n",
        "# for label, count in zip(unique_labels, label_counts):\n",
        "#     print(f\"Label: {label}, Count: {count}\")"
      ]
    },
    {
      "cell_type": "code",
      "execution_count": null,
      "metadata": {
        "id": "_bXRf7z_4MgI"
      },
      "outputs": [],
      "source": [
        "# unique_labels, label_counts = np.unique(y_test, return_counts=True)\n",
        "\n",
        "# for label, count in zip(unique_labels, label_counts):\n",
        "#     print(f\"Label: {label}, Count: {count}\")"
      ]
    },
    {
      "cell_type": "markdown",
      "metadata": {
        "id": "ailthdFq4MgI"
      },
      "source": [
        "# Model Training\n",
        "---"
      ]
    },
    {
      "cell_type": "markdown",
      "metadata": {
        "id": "sh5YZXZs4MgI"
      },
      "source": [
        "## Model Setting"
      ]
    },
    {
      "cell_type": "code",
      "execution_count": null,
      "metadata": {
        "id": "yrSy-DnNha6-",
        "outputId": "a19271d4-fea8-49c9-db4b-0ef7aab74f6a"
      },
      "outputs": [
        {
          "name": "stderr",
          "output_type": "stream",
          "text": [
            "2023-07-06 12:10:50.983249: I tensorflow/core/common_runtime/executor.cc:1197] [/device:CPU:0] (DEBUG INFO) Executor start aborting (this does not indicate an error and you can ignore this message): INVALID_ARGUMENT: You must feed a value for placeholder tensor 'gradients/split_2_grad/concat/split_2/split_dim' with dtype int32\n",
            "\t [[{{node gradients/split_2_grad/concat/split_2/split_dim}}]]\n",
            "2023-07-06 12:10:50.984852: I tensorflow/core/common_runtime/executor.cc:1197] [/device:CPU:0] (DEBUG INFO) Executor start aborting (this does not indicate an error and you can ignore this message): INVALID_ARGUMENT: You must feed a value for placeholder tensor 'gradients/split_grad/concat/split/split_dim' with dtype int32\n",
            "\t [[{{node gradients/split_grad/concat/split/split_dim}}]]\n",
            "2023-07-06 12:10:50.985808: I tensorflow/core/common_runtime/executor.cc:1197] [/device:CPU:0] (DEBUG INFO) Executor start aborting (this does not indicate an error and you can ignore this message): INVALID_ARGUMENT: You must feed a value for placeholder tensor 'gradients/split_1_grad/concat/split_1/split_dim' with dtype int32\n",
            "\t [[{{node gradients/split_1_grad/concat/split_1/split_dim}}]]\n",
            "2023-07-06 12:10:51.281803: I tensorflow/core/common_runtime/executor.cc:1197] [/device:CPU:0] (DEBUG INFO) Executor start aborting (this does not indicate an error and you can ignore this message): INVALID_ARGUMENT: You must feed a value for placeholder tensor 'gradients/split_2_grad/concat/split_2/split_dim' with dtype int32\n",
            "\t [[{{node gradients/split_2_grad/concat/split_2/split_dim}}]]\n",
            "2023-07-06 12:10:51.283002: I tensorflow/core/common_runtime/executor.cc:1197] [/device:CPU:0] (DEBUG INFO) Executor start aborting (this does not indicate an error and you can ignore this message): INVALID_ARGUMENT: You must feed a value for placeholder tensor 'gradients/split_grad/concat/split/split_dim' with dtype int32\n",
            "\t [[{{node gradients/split_grad/concat/split/split_dim}}]]\n",
            "2023-07-06 12:10:51.283854: I tensorflow/core/common_runtime/executor.cc:1197] [/device:CPU:0] (DEBUG INFO) Executor start aborting (this does not indicate an error and you can ignore this message): INVALID_ARGUMENT: You must feed a value for placeholder tensor 'gradients/split_1_grad/concat/split_1/split_dim' with dtype int32\n",
            "\t [[{{node gradients/split_1_grad/concat/split_1/split_dim}}]]\n",
            "2023-07-06 12:10:51.474261: I tensorflow/core/common_runtime/executor.cc:1197] [/device:CPU:0] (DEBUG INFO) Executor start aborting (this does not indicate an error and you can ignore this message): INVALID_ARGUMENT: You must feed a value for placeholder tensor 'gradients/split_2_grad/concat/split_2/split_dim' with dtype int32\n",
            "\t [[{{node gradients/split_2_grad/concat/split_2/split_dim}}]]\n",
            "2023-07-06 12:10:51.475308: I tensorflow/core/common_runtime/executor.cc:1197] [/device:CPU:0] (DEBUG INFO) Executor start aborting (this does not indicate an error and you can ignore this message): INVALID_ARGUMENT: You must feed a value for placeholder tensor 'gradients/split_grad/concat/split/split_dim' with dtype int32\n",
            "\t [[{{node gradients/split_grad/concat/split/split_dim}}]]\n",
            "2023-07-06 12:10:51.476223: I tensorflow/core/common_runtime/executor.cc:1197] [/device:CPU:0] (DEBUG INFO) Executor start aborting (this does not indicate an error and you can ignore this message): INVALID_ARGUMENT: You must feed a value for placeholder tensor 'gradients/split_1_grad/concat/split_1/split_dim' with dtype int32\n",
            "\t [[{{node gradients/split_1_grad/concat/split_1/split_dim}}]]\n",
            "2023-07-06 12:10:51.635360: I tensorflow/core/common_runtime/executor.cc:1197] [/device:CPU:0] (DEBUG INFO) Executor start aborting (this does not indicate an error and you can ignore this message): INVALID_ARGUMENT: You must feed a value for placeholder tensor 'gradients/split_2_grad/concat/split_2/split_dim' with dtype int32\n",
            "\t [[{{node gradients/split_2_grad/concat/split_2/split_dim}}]]\n",
            "2023-07-06 12:10:51.636799: I tensorflow/core/common_runtime/executor.cc:1197] [/device:CPU:0] (DEBUG INFO) Executor start aborting (this does not indicate an error and you can ignore this message): INVALID_ARGUMENT: You must feed a value for placeholder tensor 'gradients/split_grad/concat/split/split_dim' with dtype int32\n",
            "\t [[{{node gradients/split_grad/concat/split/split_dim}}]]\n",
            "2023-07-06 12:10:51.637697: I tensorflow/core/common_runtime/executor.cc:1197] [/device:CPU:0] (DEBUG INFO) Executor start aborting (this does not indicate an error and you can ignore this message): INVALID_ARGUMENT: You must feed a value for placeholder tensor 'gradients/split_1_grad/concat/split_1/split_dim' with dtype int32\n",
            "\t [[{{node gradients/split_1_grad/concat/split_1/split_dim}}]]\n",
            "2023-07-06 12:10:51.811227: I tensorflow/core/common_runtime/executor.cc:1197] [/device:CPU:0] (DEBUG INFO) Executor start aborting (this does not indicate an error and you can ignore this message): INVALID_ARGUMENT: You must feed a value for placeholder tensor 'gradients/split_2_grad/concat/split_2/split_dim' with dtype int32\n",
            "\t [[{{node gradients/split_2_grad/concat/split_2/split_dim}}]]\n",
            "2023-07-06 12:10:51.812368: I tensorflow/core/common_runtime/executor.cc:1197] [/device:CPU:0] (DEBUG INFO) Executor start aborting (this does not indicate an error and you can ignore this message): INVALID_ARGUMENT: You must feed a value for placeholder tensor 'gradients/split_grad/concat/split/split_dim' with dtype int32\n",
            "\t [[{{node gradients/split_grad/concat/split/split_dim}}]]\n",
            "2023-07-06 12:10:51.813311: I tensorflow/core/common_runtime/executor.cc:1197] [/device:CPU:0] (DEBUG INFO) Executor start aborting (this does not indicate an error and you can ignore this message): INVALID_ARGUMENT: You must feed a value for placeholder tensor 'gradients/split_1_grad/concat/split_1/split_dim' with dtype int32\n",
            "\t [[{{node gradients/split_1_grad/concat/split_1/split_dim}}]]\n"
          ]
        }
      ],
      "source": [
        "# Build the LSTM model\n",
        "model = Sequential()\n",
        "model.add(LSTM(units=512, activation='tanh', input_shape=(int(window_size), X_train.shape[2]), return_sequences=True))\n",
        "model.add(Dropout(0.2))\n",
        "model.add(LSTM(units=512, activation='tanh', return_sequences=True))\n",
        "model.add(Dropout(0.2))\n",
        "model.add(LSTM(units=256, activation='tanh', return_sequences=True))\n",
        "model.add(Dropout(0.2))\n",
        "model.add(LSTM(units=128, activation='tanh', return_sequences=True))\n",
        "model.add(Dropout(0.2))\n",
        "model.add(LSTM(units=64, activation='tanh'))\n",
        "model.add(Dropout(0.2))\n",
        "model.add(Dense(units=len(label_encoder.classes_), activation='softmax'))\n",
        "\n",
        "# Compile the model\n",
        "optimizer = RMSprop(learning_rate=0.0001)\n",
        "model.compile(optimizer=optimizer, loss='categorical_crossentropy', metrics=['accuracy'])"
      ]
    },
    {
      "cell_type": "code",
      "execution_count": null,
      "metadata": {
        "id": "8UnfM__p4MgJ",
        "outputId": "b8004ab2-b307-4b26-bf4a-ac65c89fbc0e"
      },
      "outputs": [
        {
          "name": "stdout",
          "output_type": "stream",
          "text": [
            "Model: \"sequential\"\n",
            "_________________________________________________________________\n",
            " Layer (type)                Output Shape              Param #   \n",
            "=================================================================\n",
            " lstm (LSTM)                 (None, 20, 512)           1210368   \n",
            "                                                                 \n",
            " dropout (Dropout)           (None, 20, 512)           0         \n",
            "                                                                 \n",
            " lstm_1 (LSTM)               (None, 20, 512)           2099200   \n",
            "                                                                 \n",
            " dropout_1 (Dropout)         (None, 20, 512)           0         \n",
            "                                                                 \n",
            " lstm_2 (LSTM)               (None, 20, 256)           787456    \n",
            "                                                                 \n",
            " dropout_2 (Dropout)         (None, 20, 256)           0         \n",
            "                                                                 \n",
            " lstm_3 (LSTM)               (None, 20, 128)           197120    \n",
            "                                                                 \n",
            " dropout_3 (Dropout)         (None, 20, 128)           0         \n",
            "                                                                 \n",
            " lstm_4 (LSTM)               (None, 64)                49408     \n",
            "                                                                 \n",
            " dropout_4 (Dropout)         (None, 64)                0         \n",
            "                                                                 \n",
            " dense (Dense)               (None, 15)                975       \n",
            "                                                                 \n",
            "=================================================================\n",
            "Total params: 4,344,527\n",
            "Trainable params: 4,344,527\n",
            "Non-trainable params: 0\n",
            "_________________________________________________________________\n"
          ]
        }
      ],
      "source": [
        "model.summary()"
      ]
    },
    {
      "cell_type": "markdown",
      "metadata": {
        "id": "a0uEbrs94MgJ"
      },
      "source": [
        "## Train Model"
      ]
    },
    {
      "cell_type": "code",
      "execution_count": null,
      "metadata": {
        "id": "tBqJoZ7vbADX"
      },
      "outputs": [],
      "source": [
        "# Train the model\n",
        "history = model.fit(X_train, y_train, epochs=300, batch_size=512, validation_data=(X_val, y_val))"
      ]
    },
    {
      "cell_type": "code",
      "execution_count": null,
      "metadata": {
        "id": "QuXC93Gkdt_q"
      },
      "outputs": [],
      "source": [
        "# Save the model\n",
        "model_file_path = PATH + \"lstm_windows\"+ window_size + \"_\" + sliding_window + \"_model.h5\"\n",
        "model.save(model_file_path)"
      ]
    },
    {
      "cell_type": "code",
      "execution_count": null,
      "metadata": {
        "id": "TbByr8JfKjRF"
      },
      "outputs": [],
      "source": [
        "# Load the pre-trained model\n",
        "# model = tf.keras.models.load_model(PATH + \"lstm_windows\"+ window_size + \"_\" + sliding_window + \"_model.h5\")"
      ]
    },
    {
      "cell_type": "markdown",
      "metadata": {
        "id": "EXzlYbRv4MgJ"
      },
      "source": [
        "# Evaluation\n",
        "---"
      ]
    },
    {
      "cell_type": "code",
      "execution_count": null,
      "metadata": {
        "id": "SvcBjJxv4MgN"
      },
      "outputs": [],
      "source": [
        "# Plot the loss and accuracy\n",
        "plt.figure(figsize=(12, 6))\n",
        "plt.subplot(1, 2, 1)\n",
        "plt.plot(history.history['loss'], label='Training Loss')\n",
        "plt.plot(history.history['val_loss'], label='Validation Loss')\n",
        "plt.xlabel('Epochs')\n",
        "plt.ylabel('Loss')\n",
        "plt.legend()\n",
        "\n",
        "plt.subplot(1, 2, 2)\n",
        "plt.plot(history.history['accuracy'], label='Training Accuracy')\n",
        "plt.plot(history.history['val_accuracy'], label='Validation Accuracy')\n",
        "plt.xlabel('Epochs')\n",
        "plt.ylabel('Accuracy')\n",
        "plt.legend()\n",
        "\n",
        "plt.tight_layout()\n",
        "plt.savefig(PATH + 'loss_accuracy_plot'+ window_size + \"_\" + sliding_window + '.png')  # Save the plot as an image file\n",
        "plt.show()"
      ]
    },
    {
      "cell_type": "code",
      "execution_count": null,
      "metadata": {
        "id": "OxP-wCGebNJt",
        "outputId": "f6bc1439-774c-45b9-97f1-b27c58359926",
        "scrolled": true
      },
      "outputs": [
        {
          "name": "stderr",
          "output_type": "stream",
          "text": [
            "2023-07-04 01:25:31.420195: I tensorflow/core/common_runtime/executor.cc:1197] [/device:CPU:0] (DEBUG INFO) Executor start aborting (this does not indicate an error and you can ignore this message): INVALID_ARGUMENT: You must feed a value for placeholder tensor 'gradients/split_2_grad/concat/split_2/split_dim' with dtype int32\n",
            "\t [[{{node gradients/split_2_grad/concat/split_2/split_dim}}]]\n",
            "2023-07-04 01:25:31.422126: I tensorflow/core/common_runtime/executor.cc:1197] [/device:CPU:0] (DEBUG INFO) Executor start aborting (this does not indicate an error and you can ignore this message): INVALID_ARGUMENT: You must feed a value for placeholder tensor 'gradients/split_grad/concat/split/split_dim' with dtype int32\n",
            "\t [[{{node gradients/split_grad/concat/split/split_dim}}]]\n",
            "2023-07-04 01:25:31.425794: I tensorflow/core/common_runtime/executor.cc:1197] [/device:CPU:0] (DEBUG INFO) Executor start aborting (this does not indicate an error and you can ignore this message): INVALID_ARGUMENT: You must feed a value for placeholder tensor 'gradients/split_1_grad/concat/split_1/split_dim' with dtype int32\n",
            "\t [[{{node gradients/split_1_grad/concat/split_1/split_dim}}]]\n",
            "2023-07-04 01:25:31.625736: I tensorflow/core/common_runtime/executor.cc:1197] [/device:CPU:0] (DEBUG INFO) Executor start aborting (this does not indicate an error and you can ignore this message): INVALID_ARGUMENT: You must feed a value for placeholder tensor 'gradients/split_2_grad/concat/split_2/split_dim' with dtype int32\n",
            "\t [[{{node gradients/split_2_grad/concat/split_2/split_dim}}]]\n",
            "2023-07-04 01:25:31.627764: I tensorflow/core/common_runtime/executor.cc:1197] [/device:CPU:0] (DEBUG INFO) Executor start aborting (this does not indicate an error and you can ignore this message): INVALID_ARGUMENT: You must feed a value for placeholder tensor 'gradients/split_grad/concat/split/split_dim' with dtype int32\n",
            "\t [[{{node gradients/split_grad/concat/split/split_dim}}]]\n",
            "2023-07-04 01:25:31.629257: I tensorflow/core/common_runtime/executor.cc:1197] [/device:CPU:0] (DEBUG INFO) Executor start aborting (this does not indicate an error and you can ignore this message): INVALID_ARGUMENT: You must feed a value for placeholder tensor 'gradients/split_1_grad/concat/split_1/split_dim' with dtype int32\n",
            "\t [[{{node gradients/split_1_grad/concat/split_1/split_dim}}]]\n",
            "2023-07-04 01:25:31.819870: I tensorflow/core/common_runtime/executor.cc:1197] [/device:CPU:0] (DEBUG INFO) Executor start aborting (this does not indicate an error and you can ignore this message): INVALID_ARGUMENT: You must feed a value for placeholder tensor 'gradients/split_2_grad/concat/split_2/split_dim' with dtype int32\n",
            "\t [[{{node gradients/split_2_grad/concat/split_2/split_dim}}]]\n",
            "2023-07-04 01:25:31.821052: I tensorflow/core/common_runtime/executor.cc:1197] [/device:CPU:0] (DEBUG INFO) Executor start aborting (this does not indicate an error and you can ignore this message): INVALID_ARGUMENT: You must feed a value for placeholder tensor 'gradients/split_grad/concat/split/split_dim' with dtype int32\n",
            "\t [[{{node gradients/split_grad/concat/split/split_dim}}]]\n",
            "2023-07-04 01:25:31.822315: I tensorflow/core/common_runtime/executor.cc:1197] [/device:CPU:0] (DEBUG INFO) Executor start aborting (this does not indicate an error and you can ignore this message): INVALID_ARGUMENT: You must feed a value for placeholder tensor 'gradients/split_1_grad/concat/split_1/split_dim' with dtype int32\n",
            "\t [[{{node gradients/split_1_grad/concat/split_1/split_dim}}]]\n",
            "2023-07-04 01:25:32.006699: I tensorflow/core/common_runtime/executor.cc:1197] [/device:CPU:0] (DEBUG INFO) Executor start aborting (this does not indicate an error and you can ignore this message): INVALID_ARGUMENT: You must feed a value for placeholder tensor 'gradients/split_2_grad/concat/split_2/split_dim' with dtype int32\n",
            "\t [[{{node gradients/split_2_grad/concat/split_2/split_dim}}]]\n",
            "2023-07-04 01:25:32.008135: I tensorflow/core/common_runtime/executor.cc:1197] [/device:CPU:0] (DEBUG INFO) Executor start aborting (this does not indicate an error and you can ignore this message): INVALID_ARGUMENT: You must feed a value for placeholder tensor 'gradients/split_grad/concat/split/split_dim' with dtype int32\n",
            "\t [[{{node gradients/split_grad/concat/split/split_dim}}]]\n",
            "2023-07-04 01:25:32.009159: I tensorflow/core/common_runtime/executor.cc:1197] [/device:CPU:0] (DEBUG INFO) Executor start aborting (this does not indicate an error and you can ignore this message): INVALID_ARGUMENT: You must feed a value for placeholder tensor 'gradients/split_1_grad/concat/split_1/split_dim' with dtype int32\n",
            "\t [[{{node gradients/split_1_grad/concat/split_1/split_dim}}]]\n",
            "2023-07-04 01:25:32.179001: I tensorflow/core/common_runtime/executor.cc:1197] [/device:CPU:0] (DEBUG INFO) Executor start aborting (this does not indicate an error and you can ignore this message): INVALID_ARGUMENT: You must feed a value for placeholder tensor 'gradients/split_2_grad/concat/split_2/split_dim' with dtype int32\n",
            "\t [[{{node gradients/split_2_grad/concat/split_2/split_dim}}]]\n",
            "2023-07-04 01:25:32.180236: I tensorflow/core/common_runtime/executor.cc:1197] [/device:CPU:0] (DEBUG INFO) Executor start aborting (this does not indicate an error and you can ignore this message): INVALID_ARGUMENT: You must feed a value for placeholder tensor 'gradients/split_grad/concat/split/split_dim' with dtype int32\n",
            "\t [[{{node gradients/split_grad/concat/split/split_dim}}]]\n",
            "2023-07-04 01:25:32.181299: I tensorflow/core/common_runtime/executor.cc:1197] [/device:CPU:0] (DEBUG INFO) Executor start aborting (this does not indicate an error and you can ignore this message): INVALID_ARGUMENT: You must feed a value for placeholder tensor 'gradients/split_1_grad/concat/split_1/split_dim' with dtype int32\n",
            "\t [[{{node gradients/split_1_grad/concat/split_1/split_dim}}]]\n"
          ]
        },
        {
          "name": "stdout",
          "output_type": "stream",
          "text": [
            "6957/6957 [==============================] - 59s 8ms/step - loss: 0.0404 - accuracy: 0.9861\n",
            "Test Loss: 0.0404\n",
            "Test Accuracy: 0.9861\n"
          ]
        }
      ],
      "source": [
        "# Evaluate the model\n",
        "loss, accuracy = model.evaluate(X_test, y_test)\n",
        "print(f'Test Loss: {loss:.4f}')\n",
        "print(f'Test Accuracy: {accuracy:.4f}')"
      ]
    },
    {
      "cell_type": "markdown",
      "metadata": {
        "id": "mM2AbtnV4MgN"
      },
      "source": [
        "## Prediction"
      ]
    },
    {
      "cell_type": "code",
      "execution_count": null,
      "metadata": {
        "id": "lY32dkq04MgO",
        "outputId": "ac424102-3a83-4a67-fbcf-8ee162f64962",
        "scrolled": true
      },
      "outputs": [
        {
          "name": "stderr",
          "output_type": "stream",
          "text": [
            "2023-07-04 01:26:30.724732: I tensorflow/core/common_runtime/executor.cc:1197] [/device:CPU:0] (DEBUG INFO) Executor start aborting (this does not indicate an error and you can ignore this message): INVALID_ARGUMENT: You must feed a value for placeholder tensor 'gradients/split_2_grad/concat/split_2/split_dim' with dtype int32\n",
            "\t [[{{node gradients/split_2_grad/concat/split_2/split_dim}}]]\n",
            "2023-07-04 01:26:30.726634: I tensorflow/core/common_runtime/executor.cc:1197] [/device:CPU:0] (DEBUG INFO) Executor start aborting (this does not indicate an error and you can ignore this message): INVALID_ARGUMENT: You must feed a value for placeholder tensor 'gradients/split_grad/concat/split/split_dim' with dtype int32\n",
            "\t [[{{node gradients/split_grad/concat/split/split_dim}}]]\n",
            "2023-07-04 01:26:30.727787: I tensorflow/core/common_runtime/executor.cc:1197] [/device:CPU:0] (DEBUG INFO) Executor start aborting (this does not indicate an error and you can ignore this message): INVALID_ARGUMENT: You must feed a value for placeholder tensor 'gradients/split_1_grad/concat/split_1/split_dim' with dtype int32\n",
            "\t [[{{node gradients/split_1_grad/concat/split_1/split_dim}}]]\n",
            "2023-07-04 01:26:30.903990: I tensorflow/core/common_runtime/executor.cc:1197] [/device:CPU:0] (DEBUG INFO) Executor start aborting (this does not indicate an error and you can ignore this message): INVALID_ARGUMENT: You must feed a value for placeholder tensor 'gradients/split_2_grad/concat/split_2/split_dim' with dtype int32\n",
            "\t [[{{node gradients/split_2_grad/concat/split_2/split_dim}}]]\n",
            "2023-07-04 01:26:30.905144: I tensorflow/core/common_runtime/executor.cc:1197] [/device:CPU:0] (DEBUG INFO) Executor start aborting (this does not indicate an error and you can ignore this message): INVALID_ARGUMENT: You must feed a value for placeholder tensor 'gradients/split_grad/concat/split/split_dim' with dtype int32\n",
            "\t [[{{node gradients/split_grad/concat/split/split_dim}}]]\n",
            "2023-07-04 01:26:30.906173: I tensorflow/core/common_runtime/executor.cc:1197] [/device:CPU:0] (DEBUG INFO) Executor start aborting (this does not indicate an error and you can ignore this message): INVALID_ARGUMENT: You must feed a value for placeholder tensor 'gradients/split_1_grad/concat/split_1/split_dim' with dtype int32\n",
            "\t [[{{node gradients/split_1_grad/concat/split_1/split_dim}}]]\n",
            "2023-07-04 01:26:31.080904: I tensorflow/core/common_runtime/executor.cc:1197] [/device:CPU:0] (DEBUG INFO) Executor start aborting (this does not indicate an error and you can ignore this message): INVALID_ARGUMENT: You must feed a value for placeholder tensor 'gradients/split_2_grad/concat/split_2/split_dim' with dtype int32\n",
            "\t [[{{node gradients/split_2_grad/concat/split_2/split_dim}}]]\n",
            "2023-07-04 01:26:31.082528: I tensorflow/core/common_runtime/executor.cc:1197] [/device:CPU:0] (DEBUG INFO) Executor start aborting (this does not indicate an error and you can ignore this message): INVALID_ARGUMENT: You must feed a value for placeholder tensor 'gradients/split_grad/concat/split/split_dim' with dtype int32\n",
            "\t [[{{node gradients/split_grad/concat/split/split_dim}}]]\n",
            "2023-07-04 01:26:31.083551: I tensorflow/core/common_runtime/executor.cc:1197] [/device:CPU:0] (DEBUG INFO) Executor start aborting (this does not indicate an error and you can ignore this message): INVALID_ARGUMENT: You must feed a value for placeholder tensor 'gradients/split_1_grad/concat/split_1/split_dim' with dtype int32\n",
            "\t [[{{node gradients/split_1_grad/concat/split_1/split_dim}}]]\n",
            "2023-07-04 01:26:31.255132: I tensorflow/core/common_runtime/executor.cc:1197] [/device:CPU:0] (DEBUG INFO) Executor start aborting (this does not indicate an error and you can ignore this message): INVALID_ARGUMENT: You must feed a value for placeholder tensor 'gradients/split_2_grad/concat/split_2/split_dim' with dtype int32\n",
            "\t [[{{node gradients/split_2_grad/concat/split_2/split_dim}}]]\n",
            "2023-07-04 01:26:31.256465: I tensorflow/core/common_runtime/executor.cc:1197] [/device:CPU:0] (DEBUG INFO) Executor start aborting (this does not indicate an error and you can ignore this message): INVALID_ARGUMENT: You must feed a value for placeholder tensor 'gradients/split_grad/concat/split/split_dim' with dtype int32\n",
            "\t [[{{node gradients/split_grad/concat/split/split_dim}}]]\n",
            "2023-07-04 01:26:31.257516: I tensorflow/core/common_runtime/executor.cc:1197] [/device:CPU:0] (DEBUG INFO) Executor start aborting (this does not indicate an error and you can ignore this message): INVALID_ARGUMENT: You must feed a value for placeholder tensor 'gradients/split_1_grad/concat/split_1/split_dim' with dtype int32\n",
            "\t [[{{node gradients/split_1_grad/concat/split_1/split_dim}}]]\n",
            "2023-07-04 01:26:31.432296: I tensorflow/core/common_runtime/executor.cc:1197] [/device:CPU:0] (DEBUG INFO) Executor start aborting (this does not indicate an error and you can ignore this message): INVALID_ARGUMENT: You must feed a value for placeholder tensor 'gradients/split_2_grad/concat/split_2/split_dim' with dtype int32\n",
            "\t [[{{node gradients/split_2_grad/concat/split_2/split_dim}}]]\n",
            "2023-07-04 01:26:31.433787: I tensorflow/core/common_runtime/executor.cc:1197] [/device:CPU:0] (DEBUG INFO) Executor start aborting (this does not indicate an error and you can ignore this message): INVALID_ARGUMENT: You must feed a value for placeholder tensor 'gradients/split_grad/concat/split/split_dim' with dtype int32\n",
            "\t [[{{node gradients/split_grad/concat/split/split_dim}}]]\n",
            "2023-07-04 01:26:31.434808: I tensorflow/core/common_runtime/executor.cc:1197] [/device:CPU:0] (DEBUG INFO) Executor start aborting (this does not indicate an error and you can ignore this message): INVALID_ARGUMENT: You must feed a value for placeholder tensor 'gradients/split_1_grad/concat/split_1/split_dim' with dtype int32\n",
            "\t [[{{node gradients/split_1_grad/concat/split_1/split_dim}}]]\n"
          ]
        },
        {
          "name": "stdout",
          "output_type": "stream",
          "text": [
            "6957/6957 [==============================] - 57s 8ms/step\n"
          ]
        }
      ],
      "source": [
        "# Generate predictions\n",
        "y_pred_prob = model.predict(X_test)\n",
        "y_pred = np.argmax(y_pred_prob, axis=1)"
      ]
    },
    {
      "cell_type": "code",
      "execution_count": null,
      "metadata": {
        "id": "L4FvwWPR4MgO"
      },
      "outputs": [],
      "source": [
        "# unique_labels, label_counts = np.unique(y_pred, return_counts=True)\n",
        "\n",
        "# for label, count in zip(unique_labels, label_counts):\n",
        "#     print(f\"Label: {label}, Count: {count}\")"
      ]
    },
    {
      "cell_type": "code",
      "execution_count": null,
      "metadata": {
        "id": "rR9YOXd-4MgO"
      },
      "outputs": [],
      "source": [
        "# y_pred[:100]"
      ]
    },
    {
      "cell_type": "markdown",
      "metadata": {
        "id": "JWL-lpLb4MgO"
      },
      "source": [
        "## Confusion Matrix"
      ]
    },
    {
      "cell_type": "code",
      "execution_count": null,
      "metadata": {
        "id": "wHg3ZqQ5bPx0",
        "outputId": "7f9e5e66-be7b-4938-b335-32883a43b123"
      },
      "outputs": [
        {
          "data": {
            "image/png": "[encoded data removed]",
            "text/plain": [
              "<Figure size 1400x800 with 2 Axes>"
            ]
          },
          "metadata": {},
          "output_type": "display_data"
        }
      ],
      "source": [
        "# Create a list of attack types in reverse order\n",
        "attack_types = label_encoder.inverse_transform(range(len(label_encoder.classes_)))\n",
        "\n",
        "# Create confusion matrix\n",
        "confusion_matrix = confusion_matrix(y_test_pre, y_pred)\n",
        "\n",
        "# Plot Confusion Matrix\n",
        "plt.figure(figsize=(14, 8))\n",
        "sns.heatmap(confusion_matrix, annot=True, fmt='d', cmap='Blues')\n",
        "plt.title(\"Confusion_windows\"+ window_size + \"_\" + sliding_window + \"_Matrix\")\n",
        "plt.xlabel('Predicted Labels')\n",
        "plt.ylabel('True Labels')\n",
        "\n",
        "# Set tick labels on the y-axis to be horizontal and in reverse order\n",
        "plt.yticks(np.arange(len(attack_types)) + 0.5, attack_types, rotation=0)\n",
        "\n",
        "# Set tick labels on the x-axis to be vertical\n",
        "plt.xticks(np.arange(len(attack_types)) + 0.5, attack_types, rotation=90)\n",
        "\n",
        "plt.savefig(PATH + \"confusion_windows\"+ window_size + \"_\" + sliding_window + \"_matrix.png\")\n",
        "plt.show()"
      ]
    },
    {
      "cell_type": "code",
      "execution_count": null,
      "metadata": {
        "id": "XOhvUHrs4MgP"
      },
      "outputs": [],
      "source": [
        "# attack_types[1]"
      ]
    },
    {
      "cell_type": "code",
      "execution_count": null,
      "metadata": {
        "id": "-2RToLEp4MgP"
      },
      "outputs": [],
      "source": [
        "# y_pred.dtype"
      ]
    },
    {
      "cell_type": "markdown",
      "metadata": {
        "id": "oeADBokB4MgP"
      },
      "source": [
        "## Score Calculation"
      ]
    },
    {
      "cell_type": "code",
      "execution_count": null,
      "metadata": {
        "id": "axV3w19_4MgP"
      },
      "outputs": [],
      "source": [
        "# print(classification_report(y_test_pre, y_pred))"
      ]
    },
    {
      "cell_type": "code",
      "execution_count": null,
      "metadata": {
        "id": "nDXVvUnc4MgP",
        "scrolled": true
      },
      "outputs": [],
      "source": [
        "# Create a dataframe to store the TP, TN, FP, FN for each class\n",
        "class_names = attack_types\n",
        "metrics = ['True Positives', 'True Negatives', 'False Positives', 'False Negatives']\n",
        "table_data = []\n",
        "\n",
        "for i in range(0,15):\n",
        "    tp = confusion_matrix[i, i]\n",
        "    tn = np.sum(confusion_matrix) - (np.sum(confusion_matrix[:, i]) + np.sum(confusion_matrix[i, :]) - tp)\n",
        "    fp = np.sum(confusion_matrix[:, i]) - tp\n",
        "    fn = np.sum(confusion_matrix[i, :]) - tp\n",
        "    total = tp + tn + fp + fn\n",
        "    tp_percent = tp / total * 100\n",
        "    tn_percent = tn / total * 100\n",
        "    fp_percent = fp / total * 100\n",
        "    fn_percent = fn / total * 100\n",
        "    # table_data.append([class_names[i], tp, tn, fp, fn])\n",
        "    # table_data.append([class_names[i], tp_percent, tn_percent, fp_percent, fn_percent])\n",
        "    report = classification_report(y_test_pre, y_pred, output_dict=True)  # Calculate the classification report\n",
        "    precision = report[str(i)]['precision']\n",
        "    recall = report[str(i)]['recall']\n",
        "    f1_score = report[str(i)]['f1-score']\n",
        "    table_data.append([class_names[i], precision, recall, f1_score, tp_percent, tn_percent, fp_percent, fn_percent])\n",
        "\n",
        "# Create a dataframe and print the table\n",
        "df = pd.DataFrame(table_data, columns=['Class', 'Precision', 'Recall', 'F1-Score', 'True Positives', 'True Negatives', 'False Positives', 'False Negatives'])\n",
        "# print(df)\n",
        "df"
      ]
    },
    {
      "cell_type": "code",
      "execution_count": null,
      "metadata": {
        "id": "OGz_5jVp4MgQ"
      },
      "outputs": [],
      "source": [
        "# attack_types[1]"
      ]
    },
    {
      "cell_type": "code",
      "execution_count": null,
      "metadata": {
        "id": "dYY0GkYk4MgQ"
      },
      "outputs": [],
      "source": [
        "# Save the dataframe to a CSV file\n",
        "df.to_csv(PATH + 'evaluation' + window_size + \"_\" + sliding_window + '.csv', index=False)"
      ]
    },
    {
      "cell_type": "code",
      "execution_count": null,
      "metadata": {
        "id": "Zl1rhc8W4EyQ"
      },
      "outputs": [],
      "source": [
        "# # Define the classes and corresponding values\n",
        "# classes = ['BENIGN', 'Bot', 'DDoS', 'DoS GoldenEye', 'DoS Hulk', 'DoS Slowhttptest', 'DoS slowloris',\n",
        "#            'FTP-Patator', 'Heartbleed', 'Infiltration', 'PortScan', 'SSH-Patator', 'Web Attack - Brute Force',\n",
        "#            'Web Attack - Sql Injection', 'Web Attack - XSS']\n",
        "# true_positives = [49.931043, 0.148246, 11.50254, 0.92227, 20.672228, 0.494153, 0.516166, 0.710233, 0.000449,\n",
        "#                   0.0, 14.260814, 0.526498, 0.125335, 0.0, 0.055255]\n",
        "# true_negatives = [49.935086, 99.810425, 88.49746, 99.07234, 79.315193, 99.505847, 99.475299, 99.279435,\n",
        "#                   99.999102, 99.995058, 85.729303, 99.462271, 99.853551, 99.997305, 99.937557]\n",
        "# false_positives = [0.069181, 0.013926, 0.0, 0.002695, 0.008985, 0.0, 0.004043, 0.007637, 0.0, 0.001797,\n",
        "#                    0.002695, 0.007637, 0.011231, 0.000898, 0.004043]\n",
        "# false_negatives = [0.064689, 0.027403, 0.0, 0.002695, 0.003594, 0.0, 0.004492, 0.002695, 0.000449, 0.003145,\n",
        "#                    0.007188, 0.003594, 0.009883, 0.001797, 0.003145]\n",
        "\n",
        "# # Set the style of the plot\n",
        "# sns.set(style=\"whitegrid\")\n",
        "\n",
        "# # Create four separate bar charts\n",
        "# fig, axes = plt.subplots(2, 2, figsize=(12, 12))\n",
        "\n",
        "# # True Positives\n",
        "# sns.barplot(ax=axes[0, 0], x=classes, y=true_positives)\n",
        "# axes[0, 0].set_title('True Positives')\n",
        "# axes[0, 0].tick_params(axis='x', rotation=90)\n",
        "\n",
        "# # True Negatives\n",
        "# sns.barplot(ax=axes[0, 1], x=classes, y=true_negatives)\n",
        "# axes[0, 1].set_title('True Negatives')\n",
        "# axes[0, 1].tick_params(axis='x', rotation=90)\n",
        "\n",
        "# # False Positives\n",
        "# sns.barplot(ax=axes[1, 0], x=classes, y=false_positives)\n",
        "# axes[1, 0].set_title('False Positives')\n",
        "# axes[1, 0].tick_params(axis='x', rotation=90)\n",
        "\n",
        "# # False Negatives\n",
        "# sns.barplot(ax=axes[1, 1], x=classes, y=false_negatives)\n",
        "# axes[1, 1].set_title('False Negatives')\n",
        "# axes[1, 1].tick_params(axis='x', rotation=90)\n",
        "\n",
        "# # Adjust spacing between subplots\n",
        "# plt.tight_layout()\n",
        "\n",
        "# # Show the charts\n",
        "# plt.show()\n"
      ]
    },
    {
      "cell_type": "markdown",
      "metadata": {},
      "source": [
        "# newcode"
      ]
    },
    {
      "cell_type": "markdown",
      "metadata": {},
      "source": [
        "## newcode"
      ]
    },
    {
      "cell_type": "code",
      "execution_count": 3,
      "metadata": {
        "id": "ClIktiP94FSd"
      },
      "outputs": [
        {
          "name": "stdout",
          "output_type": "stream",
          "text": [
            "WARNING:tensorflow:From c:\\anaconda\\Lib\\site-packages\\keras\\src\\losses.py:2976: The name tf.losses.sparse_softmax_cross_entropy is deprecated. Please use tf.compat.v1.losses.sparse_softmax_cross_entropy instead.\n",
            "\n",
            "Single device: GPU:0\n",
            "Directory '.\\lstm\\model' already exists.\n",
            "Directory '.\\lstm\\results' already exists.\n",
            "Starting\n",
            "['.\\\\dataset\\\\label_dataset\\\\Bot.csv', '.\\\\dataset\\\\label_dataset\\\\DDoS.csv', '.\\\\dataset\\\\label_dataset\\\\DoS GoldenEye.csv', '.\\\\dataset\\\\label_dataset\\\\DoS Hulk.csv', '.\\\\dataset\\\\label_dataset\\\\DoS Slowhttptest.csv', '.\\\\dataset\\\\label_dataset\\\\DoS slowloris.csv', '.\\\\dataset\\\\label_dataset\\\\FTP-Patator.csv', '.\\\\dataset\\\\label_dataset\\\\Heartbleed.csv', '.\\\\dataset\\\\label_dataset\\\\Infiltration.csv', '.\\\\dataset\\\\label_dataset\\\\PortScan.csv', '.\\\\dataset\\\\label_dataset\\\\SSH-Patator.csv', '.\\\\dataset\\\\label_dataset\\\\Web Attack Ã\\x83Â\\x82Ã\\x82Â\\x96 Brute Force.csv', '.\\\\dataset\\\\label_dataset\\\\Web Attack Ã\\x83Â\\x82Ã\\x82Â\\x96 Sql Injection.csv', '.\\\\dataset\\\\label_dataset\\\\Web Attack Ã\\x83Â\\x82Ã\\x82Â\\x96 XSS.csv']\n",
            "Preprocessing\n",
            "Label Encoder\n"
          ]
        }
      ],
      "source": [
        "import os\n",
        "os.environ['TF_CPP_MIN_LOG_LEVEL'] = '2'\n",
        "\n",
        "import pandas as pd\n",
        "import numpy as np\n",
        "\n",
        "import tensorflow as tf\n",
        "import matplotlib.pyplot as plt\n",
        "import seaborn as sns\n",
        "import glob\n",
        "import shutil\n",
        "import requests, json\n",
        "\n",
        "from keras.models import Sequential\n",
        "from keras.layers import Dense, LSTM, Dropout\n",
        "from keras.losses import BinaryCrossentropy\n",
        "from keras.utils import to_categorical\n",
        "\n",
        "\n",
        "from tensorflow.keras.callbacks import Callback, ModelCheckpoint, EarlyStopping\n",
        "from tensorflow.keras.models import Sequential, save_model, load_model\n",
        "from tensorflow.keras.layers import LSTM, Dense, Dropout\n",
        "from tensorflow.keras.optimizers import RMSprop\n",
        "\n",
        "from sklearn.model_selection import train_test_split\n",
        "from sklearn.preprocessing import MinMaxScaler, LabelEncoder\n",
        "from sklearn.metrics import accuracy_score, f1_score, precision_score, recall_score, log_loss\n",
        "\n",
        "\n",
        "botnum = 0\n",
        "bot = ['https://discord.com/api/webhooks/1162767976034996274/B6CjtQF1SzNRalG_csFx8-qJ5ODBoy5SBUelbGyl-v-QhYhwdsTfE59F-K-rXj3HyUh-',\n",
        "      'https://discord.com/api/webhooks/1162767979658887299/0TICfekiC9wjPmp-GqE5zrwU57q2RJHG2peel_KOYagUDYCjovYUfyNJmDR9jbD-WXoE']\n",
        "\n",
        "gpus = tf.config.experimental.list_physical_devices('GPU')\n",
        "if len(gpus) > 1:\n",
        "    strategy = tf.distribute.MirroredStrategy()\n",
        "    print('Number of devices: {}'.format(strategy.num_replicas_in_sync))\n",
        "else:\n",
        "    strategy = tf.distribute.OneDeviceStrategy(\"GPU:0\")\n",
        "    print('Single device: GPU:0')\n",
        "\n",
        "class DiscordNotificationCallback(Callback):\n",
        "    def __init__(self, webhook_url, interval=1):\n",
        "        super().__init__()\n",
        "        self.webhook_url = webhook_url\n",
        "        self.interval = interval\n",
        "\n",
        "    def on_epoch_end(self, epoch, logs=None):\n",
        "        if epoch % self.interval == 0:\n",
        "            if logs is not None:\n",
        "                loss = logs.get('loss')\n",
        "                accuracy = logs.get('accuracy')\n",
        "                val_loss = logs.get('val_loss')\n",
        "                val_accuracy = logs.get('val_accuracy')\n",
        "                message = f\"LSTM-CIC -> Epoch: {epoch}, Loss: {loss}, Accuracy: {accuracy}, Validation Loss: {val_loss}, Validation Accuracy: {val_accuracy}\"\n",
        "                payload = {\"content\": message}\n",
        "                headers = {\"Content-Type\": \"application/json\"}\n",
        "                response = requests.post(self.webhook_url, data=json.dumps(payload), headers=headers)\n",
        "\n",
        "def create_directory(directory_path):\n",
        "    if not os.path.exists(directory_path):\n",
        "        os.makedirs(directory_path)\n",
        "        print(f\"Directory '{directory_path}' created successfully.\")\n",
        "    else:\n",
        "        print(f\"Directory '{directory_path}' already exists.\")\n",
        "\n",
        "def send_discord_message(content):\n",
        "    webhook_url = bot[botnum]\n",
        "\n",
        "    data = {\n",
        "        'content': content\n",
        "    }\n",
        "\n",
        "    response = requests.post(webhook_url, data=json.dumps(data), headers={'Content-Type': 'application/json'})\n",
        "\n",
        "    if response.status_code != 204:\n",
        "        raise ValueError(f'Request to discord returned an error {response.status_code}, the response is:\\n{response.text}')\n",
        "    \n",
        "# Create input sequences using sliding windows\n",
        "\n",
        "\n",
        "\n",
        "\n",
        "\n",
        "\n",
        "\n",
        "\n",
        "def create_LSTM(window_size, n_features):\n",
        "    # Build the LSTM model\n",
        "    model = Sequential()\n",
        "    model.add(LSTM(units=512, activation='tanh', input_shape=(window_size, n_features), return_sequences=True))\n",
        "    model.add(Dropout(0.2))\n",
        "    model.add(LSTM(units=512, activation='tanh', return_sequences=True))\n",
        "    model.add(Dropout(0.2))\n",
        "    model.add(LSTM(units=256, activation='tanh', return_sequences=True))\n",
        "    model.add(Dropout(0.2))\n",
        "    model.add(LSTM(units=128, activation='tanh', return_sequences=True))\n",
        "    model.add(Dropout(0.2))\n",
        "    model.add(LSTM(units=64, activation='tanh'))\n",
        "    model.add(Dropout(0.2))\n",
        "    model.add(Dense(units=len(label_encoder.classes_), activation='sigmoid'))\n",
        "\n",
        "    # Compile the model\n",
        "    optimizer = RMSprop(learning_rate=0.0001)\n",
        "    model.compile(optimizer=optimizer, loss='binary_crossentropy', metrics=['accuracy'])\n",
        "    return model\n",
        "\n",
        "\n",
        "os.chdir(\"C:\\\\Users\\\\Kotani Lab\\\\Desktop\\\\ML_senior_project\\\\ML-Based-Adaptive-Cybersecurity-Incident-Detection\\\\Code_and_model\\\\cic\")\n",
        "\n",
        "df_list = glob.glob('.\\\\dataset\\\\label_dataset\\\\*.csv')\n",
        "# dataset = {}\n",
        "\n",
        "model_path = '.\\\\lstm\\\\model'\n",
        "csv_path = '.\\\\lstm\\\\results'\n",
        "create_directory(model_path)\n",
        "create_directory(csv_path)\n",
        "\n",
        "label_encoder = LabelEncoder()\n",
        "\n",
        "\n",
        "#Training and evaluation\n",
        "print('Starting')\n",
        "print(df_list)\n",
        "\n",
        "\n",
        "df = pd.read_csv(f'.\\\\dataset\\\\label_dataset\\\\Bot.csv')\n",
        "print('Preprocessing')\n",
        "print('Label Encoder')\n",
        "df['label'] = label_encoder.fit_transform(df['label'])\n"
      ]
    },
    {
      "cell_type": "code",
      "execution_count": 9,
      "metadata": {},
      "outputs": [
        {
          "data": {
            "text/plain": [
              "label\n",
              "0    12832915\n",
              "1       15355\n",
              "Name: count, dtype: int64"
            ]
          },
          "execution_count": 9,
          "metadata": {},
          "output_type": "execute_result"
        }
      ],
      "source": [
        "df.label.value_counts()"
      ]
    },
    {
      "cell_type": "code",
      "execution_count": 4,
      "metadata": {},
      "outputs": [],
      "source": [
        "# def data_generator(df, window_size, sliding_window):\n",
        "#     indices = np.arange(len(df) - window_size + 1)\n",
        "#     for idx in indices[::sliding_window]:\n",
        "#         if idx + window_size > len(df):\n",
        "#             continue\n",
        "#         sequence = df.iloc[idx:idx + window_size, :-1].values\n",
        "#         label = df.iloc[idx + window_size - 1, -1]\n",
        "#         yield sequence, label\n",
        "\n",
        "def data_generator(df, indices, window_size, sliding_window):\n",
        "    for idx in indices:\n",
        "        if idx + window_size > len(df):\n",
        "            continue\n",
        "        sequence = df.iloc[idx:idx + window_size, :-1].values\n",
        "        label = df.iloc[idx + window_size - 1, -1]\n",
        "        yield sequence, label\n"
      ]
    },
    {
      "cell_type": "code",
      "execution_count": 5,
      "metadata": {},
      "outputs": [
        {
          "name": "stdout",
          "output_type": "stream",
          "text": [
            "Creating Dataset\n"
          ]
        }
      ],
      "source": [
        "\n",
        "sliding_window = 1\n",
        "window_size = 128\n",
        "batch_size = 512\n",
        "\n",
        "indices = np.arange(len(df) - window_size + 1)\n",
        "train_indices, test_indices = train_test_split(indices, test_size=0.15, random_state=42)\n",
        "train_indices, val_indices = train_test_split(train_indices, test_size=0.17647, random_state=42)        ## 70 / 30 train and val+test\n",
        "\n",
        "print('Creating Dataset')\n",
        "# Then create your tf.data.Dataset from this generator\n",
        "# Training dataset\n",
        "train_dataset = tf.data.Dataset.from_generator(\n",
        "    lambda: data_generator(df, train_indices, window_size, sliding_window),\n",
        "    output_types=(tf.float32, tf.float32),\n",
        "    output_shapes=((window_size, df.shape[1] - 1), ())\n",
        ").batch(batch_size).prefetch(tf.data.AUTOTUNE)\n",
        "\n",
        "# Validation dataset\n",
        "val_dataset = tf.data.Dataset.from_generator(\n",
        "    lambda: data_generator(df, val_indices, window_size, sliding_window),\n",
        "    output_types=(tf.float32, tf.float32),\n",
        "    output_shapes=((window_size, df.shape[1] - 1), ())\n",
        ").batch(batch_size).prefetch(tf.data.AUTOTUNE)\n",
        "\n",
        "# Testing dataset\n",
        "test_dataset = tf.data.Dataset.from_generator(\n",
        "    lambda: data_generator(df, test_indices, window_size, sliding_window),\n",
        "    output_types=(tf.float32, tf.float32),\n",
        "    output_shapes=((window_size, df.shape[1] - 1), ())\n",
        ").batch(batch_size).prefetch(tf.data.AUTOTUNE)\n"
      ]
    },
    {
      "cell_type": "code",
      "execution_count": 32,
      "metadata": {},
      "outputs": [
        {
          "data": {
            "text/plain": [
              "<_PrefetchDataset element_spec=(TensorSpec(shape=(None, 128, 81), dtype=tf.float32, name=None), TensorSpec(shape=(None,), dtype=tf.float32, name=None))>"
            ]
          },
          "execution_count": 32,
          "metadata": {},
          "output_type": "execute_result"
        }
      ],
      "source": [
        "train_dataset"
      ]
    },
    {
      "cell_type": "code",
      "execution_count": 33,
      "metadata": {},
      "outputs": [
        {
          "data": {
            "text/plain": [
              "<_PrefetchDataset element_spec=(TensorSpec(shape=(None, 128, 81), dtype=tf.float32, name=None), TensorSpec(shape=(None,), dtype=tf.float32, name=None))>"
            ]
          },
          "execution_count": 33,
          "metadata": {},
          "output_type": "execute_result"
        }
      ],
      "source": [
        "val_dataset"
      ]
    },
    {
      "cell_type": "code",
      "execution_count": 37,
      "metadata": {},
      "outputs": [
        {
          "name": "stdout",
          "output_type": "stream",
          "text": [
            "X_batch (features):\n",
            "[[[1.0000000e+00 4.0062497e-04 0.0000000e+00 ... 0.0000000e+00\n",
            "   0.0000000e+00 1.0000000e+00]\n",
            "  [1.0000000e+00 4.0062497e-04 0.0000000e+00 ... 0.0000000e+00\n",
            "   1.0000000e+00 0.0000000e+00]\n",
            "  [1.0000000e+00 2.0316665e-04 4.5504598e-06 ... 0.0000000e+00\n",
            "   1.0000000e+00 0.0000000e+00]\n",
            "  ...\n",
            "  [3.5294119e-01 9.5849988e-05 4.5504598e-06 ... 0.0000000e+00\n",
            "   1.0000000e+00 0.0000000e+00]\n",
            "  [3.5294119e-01 9.5849988e-05 4.5504598e-06 ... 0.0000000e+00\n",
            "   0.0000000e+00 0.0000000e+00]\n",
            "  [3.5294119e-01 9.5849988e-05 4.5504598e-06 ... 0.0000000e+00\n",
            "   0.0000000e+00 1.0000000e+00]]\n",
            "\n",
            " [[3.5294119e-01 5.3175304e-02 1.8201839e-05 ... 0.0000000e+00\n",
            "   1.0000000e+00 0.0000000e+00]\n",
            "  [3.5294119e-01 5.3175304e-02 1.8201839e-05 ... 0.0000000e+00\n",
            "   1.0000000e+00 0.0000000e+00]\n",
            "  [3.5294119e-01 1.3333332e-07 4.5504598e-06 ... 0.0000000e+00\n",
            "   1.0000000e+00 0.0000000e+00]\n",
            "  ...\n",
            "  [1.0000000e+00 2.5965832e-04 4.5504598e-06 ... 0.0000000e+00\n",
            "   0.0000000e+00 1.0000000e+00]\n",
            "  [3.5294119e-01 1.4166666e-07 9.1009197e-06 ... 0.0000000e+00\n",
            "   1.0000000e+00 0.0000000e+00]\n",
            "  [1.0000000e+00 2.5520832e-04 0.0000000e+00 ... 0.0000000e+00\n",
            "   1.0000000e+00 0.0000000e+00]]\n",
            "\n",
            " [[3.5294119e-01 5.0833330e-07 4.5504598e-06 ... 0.0000000e+00\n",
            "   1.0000000e+00 0.0000000e+00]\n",
            "  [3.5294119e-01 5.0833330e-07 4.5504598e-06 ... 0.0000000e+00\n",
            "   0.0000000e+00 1.0000000e+00]\n",
            "  [3.5294119e-01 5.0833330e-07 4.5504598e-06 ... 0.0000000e+00\n",
            "   0.0000000e+00 0.0000000e+00]\n",
            "  ...\n",
            "  [3.5294119e-01 6.9166663e-07 4.5504598e-06 ... 0.0000000e+00\n",
            "   0.0000000e+00 1.0000000e+00]\n",
            "  [3.5294119e-01 5.1666660e-07 4.5504598e-06 ... 0.0000000e+00\n",
            "   0.0000000e+00 1.0000000e+00]\n",
            "  [3.5294119e-01 6.9166663e-07 4.5504598e-06 ... 0.0000000e+00\n",
            "   1.0000000e+00 0.0000000e+00]]\n",
            "\n",
            " ...\n",
            "\n",
            " [[3.5294119e-01 9.6362698e-01 1.0011012e-04 ... 0.0000000e+00\n",
            "   1.0000000e+00 0.0000000e+00]\n",
            "  [3.5294119e-01 9.6362698e-01 1.0011012e-04 ... 0.0000000e+00\n",
            "   1.0000000e+00 0.0000000e+00]\n",
            "  [3.5294119e-01 9.6362698e-01 1.0011012e-04 ... 0.0000000e+00\n",
            "   1.0000000e+00 0.0000000e+00]\n",
            "  ...\n",
            "  [3.5294119e-01 4.7018413e-02 2.7302760e-05 ... 0.0000000e+00\n",
            "   1.0000000e+00 0.0000000e+00]\n",
            "  [3.5294119e-01 4.7018413e-02 2.7302760e-05 ... 0.0000000e+00\n",
            "   1.0000000e+00 0.0000000e+00]\n",
            "  [3.5294119e-01 4.7018413e-02 2.7302760e-05 ... 0.0000000e+00\n",
            "   1.0000000e+00 0.0000000e+00]]\n",
            "\n",
            " [[3.5294119e-01 5.0833330e-07 4.5504598e-06 ... 0.0000000e+00\n",
            "   1.0000000e+00 0.0000000e+00]\n",
            "  [3.5294119e-01 5.0833330e-07 4.5504598e-06 ... 0.0000000e+00\n",
            "   1.0000000e+00 0.0000000e+00]\n",
            "  [3.5294119e-01 5.0833330e-07 4.5504598e-06 ... 0.0000000e+00\n",
            "   1.0000000e+00 0.0000000e+00]\n",
            "  ...\n",
            "  [3.5294119e-01 1.7523879e-01 4.5504598e-06 ... 0.0000000e+00\n",
            "   1.0000000e+00 0.0000000e+00]\n",
            "  [3.5294119e-01 1.7523879e-01 4.5504598e-06 ... 0.0000000e+00\n",
            "   1.0000000e+00 0.0000000e+00]\n",
            "  [3.5294119e-01 1.6666665e-07 0.0000000e+00 ... 0.0000000e+00\n",
            "   1.0000000e+00 0.0000000e+00]]\n",
            "\n",
            " [[1.0000000e+00 4.3361913e-03 0.0000000e+00 ... 0.0000000e+00\n",
            "   0.0000000e+00 1.0000000e+00]\n",
            "  [1.0000000e+00 2.6360832e-04 0.0000000e+00 ... 0.0000000e+00\n",
            "   1.0000000e+00 0.0000000e+00]\n",
            "  [1.0000000e+00 4.3361913e-03 0.0000000e+00 ... 0.0000000e+00\n",
            "   1.0000000e+00 0.0000000e+00]\n",
            "  ...\n",
            "  [1.0000000e+00 2.6307497e-04 4.5504598e-06 ... 0.0000000e+00\n",
            "   1.0000000e+00 0.0000000e+00]\n",
            "  [1.0000000e+00 1.5749998e-06 4.5504598e-06 ... 0.0000000e+00\n",
            "   1.0000000e+00 0.0000000e+00]\n",
            "  [1.0000000e+00 1.4999998e-06 4.5504598e-06 ... 0.0000000e+00\n",
            "   1.0000000e+00 0.0000000e+00]]]\n",
            "\n",
            "y_batch (labels):\n",
            "[0. 0. 0. 0. 0. 0. 0. 0. 0. 0. 0. 0. 0. 0. 0. 1. 0. 1. 0. 0. 0. 0. 0. 0.\n",
            " 0. 0. 0. 0. 0. 0. 0. 0. 0. 0. 0. 0. 0. 0. 0. 0. 0. 0. 0. 0. 0. 0. 0. 0.\n",
            " 0. 0. 0. 0. 0. 0. 0. 0. 0. 0. 0. 0. 0. 0. 0. 0. 0. 0. 0. 0. 0. 0. 0. 0.\n",
            " 0. 0. 0. 0. 0. 0. 0. 0. 1. 0. 0. 0. 1. 0. 0. 0. 0. 0. 0. 0. 0. 0. 0. 0.\n",
            " 0. 0. 0. 0. 0. 0. 0. 0. 0. 0. 0. 0. 0. 0. 0. 1. 1. 0. 0. 0. 0. 0. 0. 0.\n",
            " 0. 0. 0. 1. 0. 0. 0. 0. 0. 0. 1. 0. 0. 0. 0. 0. 0. 0. 0. 0. 0. 0. 0. 0.\n",
            " 0. 0. 0. 0. 0. 0. 0. 0. 0. 0. 0. 0. 0. 0. 0. 0. 0. 1. 0. 0. 0. 0. 0. 0.\n",
            " 1. 0. 0. 0. 0. 0. 0. 0. 1. 0. 0. 0. 0. 0. 0. 0. 0. 0. 0. 0. 0. 0. 0. 0.\n",
            " 0. 0. 0. 0. 0. 1. 0. 0. 0. 0. 1. 0. 0. 0. 0. 1. 0. 1. 0. 0. 0. 0. 0. 0.\n",
            " 0. 0. 0. 0. 0. 0. 0. 0. 0. 0. 0. 0. 0. 0. 0. 0. 0. 0. 0. 1. 0. 0. 0. 0.\n",
            " 0. 0. 0. 0. 0. 0. 1. 1. 0. 0. 0. 0. 1. 0. 1. 0. 0. 0. 1. 0. 0. 0. 0. 0.\n",
            " 0. 0. 0. 0. 0. 0. 0. 1. 0. 0. 0. 0. 0. 0. 0. 0. 0. 0. 0. 0. 0. 0. 0. 0.\n",
            " 0. 0. 0. 0. 0. 0. 0. 0. 0. 0. 0. 1. 0. 0. 0. 0. 0. 0. 0. 0. 0. 0. 0. 0.\n",
            " 0. 0. 0. 0. 0. 0. 0. 0. 0. 0. 0. 0. 0. 0. 0. 0. 0. 0. 0. 0. 1. 0. 0. 0.\n",
            " 0. 0. 0. 0. 1. 0. 0. 0. 0. 0. 0. 0. 0. 0. 0. 0. 0. 0. 0. 0. 0. 0. 1. 0.\n",
            " 0. 1. 0. 0. 0. 1. 1. 0. 0. 0. 0. 0. 0. 0. 0. 0. 0. 1. 0. 0. 1. 0. 0. 0.\n",
            " 0. 0. 0. 0. 0. 0. 0. 0. 0. 0. 0. 0. 0. 0. 0. 0. 0. 1. 0. 0. 0. 0. 0. 0.\n",
            " 0. 0. 0. 0. 0. 0. 0. 1. 0. 0. 0. 1. 0. 0. 0. 0. 0. 1. 1. 0. 0. 0. 0. 0.\n",
            " 0. 0. 0. 0. 0. 0. 1. 0. 0. 0. 0. 1. 0. 0. 0. 1. 0. 1. 0. 0. 0. 0. 1. 0.\n",
            " 0. 0. 0. 0. 0. 0. 0. 0. 1. 0. 1. 0. 0. 0. 0. 0. 0. 0. 0. 0. 0. 0. 0. 0.\n",
            " 0. 0. 0. 0. 0. 0. 0. 0. 0. 0. 0. 0. 1. 0. 0. 0. 0. 0. 0. 0. 0. 0. 0. 0.\n",
            " 0. 0. 0. 0. 0. 0. 0. 0.]\n",
            "(512, 128, 81)\n",
            "(512,)\n"
          ]
        }
      ],
      "source": [
        "for X_batch, y_batch in train_dataset.take(1):\n",
        "    print(\"X_batch (features):\")\n",
        "    print(X_batch.numpy())\n",
        "    \n",
        "    print(\"\\ny_batch (labels):\")\n",
        "    print(y_batch.numpy())\n",
        "\n",
        "    print(X_batch.shape)\n",
        "    print(y_batch.shape)\n"
      ]
    },
    {
      "cell_type": "code",
      "execution_count": 38,
      "metadata": {},
      "outputs": [
        {
          "name": "stdout",
          "output_type": "stream",
          "text": [
            "X_batch (features) - First 2 samples:\n",
            "[[[1.0000000e+00 4.0062497e-04 0.0000000e+00 ... 0.0000000e+00\n",
            "   0.0000000e+00 1.0000000e+00]\n",
            "  [1.0000000e+00 4.0062497e-04 0.0000000e+00 ... 0.0000000e+00\n",
            "   1.0000000e+00 0.0000000e+00]\n",
            "  [1.0000000e+00 2.0316665e-04 4.5504598e-06 ... 0.0000000e+00\n",
            "   1.0000000e+00 0.0000000e+00]\n",
            "  ...\n",
            "  [3.5294119e-01 9.5849988e-05 4.5504598e-06 ... 0.0000000e+00\n",
            "   1.0000000e+00 0.0000000e+00]\n",
            "  [3.5294119e-01 9.5849988e-05 4.5504598e-06 ... 0.0000000e+00\n",
            "   0.0000000e+00 0.0000000e+00]\n",
            "  [3.5294119e-01 9.5849988e-05 4.5504598e-06 ... 0.0000000e+00\n",
            "   0.0000000e+00 1.0000000e+00]]\n",
            "\n",
            " [[3.5294119e-01 5.3175304e-02 1.8201839e-05 ... 0.0000000e+00\n",
            "   1.0000000e+00 0.0000000e+00]\n",
            "  [3.5294119e-01 5.3175304e-02 1.8201839e-05 ... 0.0000000e+00\n",
            "   1.0000000e+00 0.0000000e+00]\n",
            "  [3.5294119e-01 1.3333332e-07 4.5504598e-06 ... 0.0000000e+00\n",
            "   1.0000000e+00 0.0000000e+00]\n",
            "  ...\n",
            "  [1.0000000e+00 2.5965832e-04 4.5504598e-06 ... 0.0000000e+00\n",
            "   0.0000000e+00 1.0000000e+00]\n",
            "  [3.5294119e-01 1.4166666e-07 9.1009197e-06 ... 0.0000000e+00\n",
            "   1.0000000e+00 0.0000000e+00]\n",
            "  [1.0000000e+00 2.5520832e-04 0.0000000e+00 ... 0.0000000e+00\n",
            "   1.0000000e+00 0.0000000e+00]]]\n",
            "\n",
            "y_batch (labels) - First 2 samples:\n",
            "[0. 0.]\n"
          ]
        }
      ],
      "source": [
        "for X_batch, y_batch in train_dataset.take(1):\n",
        "    print(\"X_batch (features) - First 2 samples:\")\n",
        "    print(X_batch.numpy()[:2])\n",
        "    print(\"\\ny_batch (labels) - First 2 samples:\")\n",
        "    print(y_batch.numpy()[:2])\n"
      ]
    },
    {
      "cell_type": "code",
      "execution_count": 6,
      "metadata": {},
      "outputs": [
        {
          "name": "stdout",
          "output_type": "stream",
          "text": [
            "Shape of y_batch (labels): (512,)\n"
          ]
        }
      ],
      "source": [
        "for X_batch, y_batch in train_dataset.take(1):\n",
        "    print(\"Shape of y_batch (labels):\", y_batch.shape)\n"
      ]
    },
    {
      "cell_type": "code",
      "execution_count": 10,
      "metadata": {},
      "outputs": [
        {
          "name": "stdout",
          "output_type": "stream",
          "text": [
            "Shape of y_batch (labels): (512,)\n"
          ]
        }
      ],
      "source": [
        "for X_batch, y_batch in test_dataset.take(1):\n",
        "    print(\"Shape of y_batch (labels):\", y_batch.shape)\n"
      ]
    },
    {
      "cell_type": "code",
      "execution_count": 11,
      "metadata": {},
      "outputs": [
        {
          "name": "stdout",
          "output_type": "stream",
          "text": [
            "Shape of y_batch (labels): (512,)\n"
          ]
        }
      ],
      "source": [
        "for X_batch, y_batch in val_dataset.take(1):\n",
        "    print(\"Shape of y_batch (labels):\", y_batch.shape)\n"
      ]
    },
    {
      "cell_type": "code",
      "execution_count": null,
      "metadata": {},
      "outputs": [],
      "source": []
    }
  ],
  "metadata": {
    "colab": {
      "provenance": []
    },
    "kernelspec": {
      "display_name": "Python 3 (ipykernel)",
      "language": "python",
      "name": "python3"
    },
    "language_info": {
      "codemirror_mode": {
        "name": "ipython",
        "version": 3
      },
      "file_extension": ".py",
      "mimetype": "text/x-python",
      "name": "python",
      "nbconvert_exporter": "python",
      "pygments_lexer": "ipython3",
      "version": "3.11.5"
    }
  },
  "nbformat": 4,
  "nbformat_minor": 0
}
