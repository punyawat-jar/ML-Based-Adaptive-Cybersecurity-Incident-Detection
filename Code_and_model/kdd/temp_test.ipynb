{
 "cells": [
  {
   "cell_type": "code",
   "execution_count": 5,
   "id": "8930cf49-7e7f-4e07-866f-82b38adbe32e",
   "metadata": {},
   "outputs": [],
   "source": [
    "import pandas as pd\n",
    "import joblib\n",
    "from sklearn.model_selection import train_test_split"
   ]
  },
  {
   "cell_type": "code",
   "execution_count": 3,
   "id": "1c714f98-acdb-4d60-a66f-d171084f544b",
   "metadata": {},
   "outputs": [],
   "source": [
    "df = pd.read_csv('./dataset/real_NSL_KDD.csv')"
   ]
  },
  {
   "cell_type": "code",
   "execution_count": 6,
   "id": "bcf9aa06-b00c-425d-a672-53cda6d19cb4",
   "metadata": {},
   "outputs": [],
   "source": [
    "X = df.drop('label', axis=1)\n",
    "y = df['label']\n",
    "X_train, X_test, y_train, y_test = train_test_split(X, y, test_size=0.3, random_state=42, stratify=y)\n"
   ]
  },
  {
   "cell_type": "code",
   "execution_count": 7,
   "id": "d22c3362-38d4-4540-9be7-8156f312efbc",
   "metadata": {},
   "outputs": [],
   "source": [
    "model = joblib.load('./model/neptune.csv/neptune.csv_DecisionTree_model.joblib')"
   ]
  },
  {
   "cell_type": "code",
   "execution_count": 14,
   "id": "8ae32007-2296-4271-b44d-b5d7be7addb0",
   "metadata": {},
   "outputs": [],
   "source": [
    "model2 = joblib.load('./model/apache2.csv/apache2.csv_ExtraTrees_model.joblib')"
   ]
  },
  {
   "cell_type": "code",
   "execution_count": 8,
   "id": "1be42874-7590-404d-9dc1-5645ac7bce80",
   "metadata": {},
   "outputs": [],
   "source": [
    "y_pred = model.predict(X_test[:5])"
   ]
  },
  {
   "cell_type": "code",
   "execution_count": 9,
   "id": "92342a09-8b83-49bf-8f10-9e235894b230",
   "metadata": {},
   "outputs": [
    {
     "data": {
      "text/plain": [
       "array([0., 1., 0., 1., 1.])"
      ]
     },
     "execution_count": 9,
     "metadata": {},
     "output_type": "execute_result"
    }
   ],
   "source": [
    "y_pred"
   ]
  },
  {
   "cell_type": "code",
   "execution_count": 15,
   "id": "2cd38a5b-575b-4414-b166-bd272d1a24af",
   "metadata": {},
   "outputs": [
    {
     "data": {
      "text/plain": [
       "array([0., 0., 0., 0., 0.])"
      ]
     },
     "execution_count": 15,
     "metadata": {},
     "output_type": "execute_result"
    }
   ],
   "source": [
    "y_pred2 = model2.predict(X_test[:5])\n",
    "y_pred2"
   ]
  },
  {
   "cell_type": "code",
   "execution_count": null,
   "id": "ac336a00-7c96-4606-9016-44abc4a62f1d",
   "metadata": {},
   "outputs": [],
   "source": []
  }
 ],
 "metadata": {
  "kernelspec": {
   "display_name": "Python 3 (ipykernel)",
   "language": "python",
   "name": "python3"
  },
  "language_info": {
   "codemirror_mode": {
    "name": "ipython",
    "version": 3
   },
   "file_extension": ".py",
   "mimetype": "text/x-python",
   "name": "python",
   "nbconvert_exporter": "python",
   "pygments_lexer": "ipython3",
   "version": "3.11.5"
  }
 },
 "nbformat": 4,
 "nbformat_minor": 5
}
